{
 "cells": [
  {
   "cell_type": "markdown",
   "metadata": {},
   "source": [
    "## Prepare dataset for BERT\n",
    "\n",
    "The paths utilized are defiend in the `path_module.py`\n",
    "\n",
    "### 1. Import libraries"
   ]
  },
  {
   "cell_type": "code",
   "execution_count": 1,
   "metadata": {},
   "outputs": [],
   "source": [
    "from modules.bert_module import *\n",
    "from modules.path_module import *\n",
    "import os\n",
    "import joblib\n",
    "from modules.lipcot_module import LiPCoTdata\n",
    "from transformers import BertTokenizer\n",
    "from hugtokencraft import editor # type: ignore"
   ]
  },
  {
   "cell_type": "markdown",
   "metadata": {},
   "source": [
    "### 2. Load tokenized data"
   ]
  },
  {
   "cell_type": "code",
   "execution_count": 2,
   "metadata": {},
   "outputs": [
    {
     "name": "stdout",
     "output_type": "stream",
     "text": [
      "\n",
      "Tokenization model Validation: Passed\n",
      "\n",
      "Tokenizer loaded with vocabulary size: 69\n"
     ]
    }
   ],
   "source": [
    "train_data=joblib.load(os.path.join(tokenized_data_savepath,\"train_data.joblib\"))\n",
    "test_data=joblib.load(os.path.join(tokenized_data_savepath,\"test_data.joblib\"))\n",
    "val_data=joblib.load(os.path.join(tokenized_data_savepath,\"val_data.joblib\"))\n",
    "\n",
    "lipcot_model=joblib.load(os.path.join(lipcot_model_savepath,\"lipcot_model.joblib\"))\n",
    "tokenizer=editor.load_tokenizer(BertTokenizer,lipcot_model['tokenizer_path'])"
   ]
  },
  {
   "cell_type": "markdown",
   "metadata": {},
   "source": [
    "### 3. Prepare data for BERT\n",
    "We extract only the tokenized text and labels from dataset for BERT"
   ]
  },
  {
   "cell_type": "code",
   "execution_count": 3,
   "metadata": {},
   "outputs": [],
   "source": [
    "train_text,train_label=prepare_bert_data(train_data)\n",
    "val_text,val_label=prepare_bert_data(val_data)\n",
    "test_text,test_label=prepare_bert_data(test_data)"
   ]
  },
  {
   "cell_type": "markdown",
   "metadata": {},
   "source": [
    "Let's inspect tokenization padding and attention masks"
   ]
  },
  {
   "cell_type": "code",
   "execution_count": 4,
   "metadata": {},
   "outputs": [
    {
     "name": "stdout",
     "output_type": "stream",
     "text": [
      "input_ids\n",
      "61\n",
      "61\n",
      "[2, 56, 33, 35, 34, 13, 11, 24, 24, 12, 63, 49, 63, 60, 11, 11, 30, 22, 11, 55, 63, 11, 43, 24, 35, 16, 13, 13, 52, 34, 52, 56, 33, 34, 21, 35, 33, 11, 43, 24, 17, 40, 60, 11, 11, 22, 22, 30, 22, 11, 24, 60, 43, 55, 16, 9, 13, 35, 52, 34, 3]\n",
      "[2, 14, 32, 61, 23, 23, 42, 54, 23, 38, 42, 42, 27, 27, 39, 39, 39, 27, 27, 27, 20, 20, 54, 54, 21, 21, 13, 13, 14, 61, 64, 14, 32, 61, 23, 54, 40, 40, 65, 54, 21, 40, 42, 42, 40, 39, 39, 27, 27, 27, 27, 54, 54, 42, 21, 38, 13, 21, 14, 35, 3]\n",
      "token_type_ids\n",
      "61\n",
      "61\n",
      "[0, 0, 0, 0, 0, 0, 0, 0, 0, 0, 0, 0, 0, 0, 0, 0, 0, 0, 0, 0, 0, 0, 0, 0, 0, 0, 0, 0, 0, 0, 0, 0, 0, 0, 0, 0, 0, 0, 0, 0, 0, 0, 0, 0, 0, 0, 0, 0, 0, 0, 0, 0, 0, 0, 0, 0, 0, 0, 0, 0, 0]\n",
      "[0, 0, 0, 0, 0, 0, 0, 0, 0, 0, 0, 0, 0, 0, 0, 0, 0, 0, 0, 0, 0, 0, 0, 0, 0, 0, 0, 0, 0, 0, 0, 0, 0, 0, 0, 0, 0, 0, 0, 0, 0, 0, 0, 0, 0, 0, 0, 0, 0, 0, 0, 0, 0, 0, 0, 0, 0, 0, 0, 0, 0]\n",
      "attention_mask\n",
      "61\n",
      "61\n",
      "[1, 1, 1, 1, 1, 1, 1, 1, 1, 1, 1, 1, 1, 1, 1, 1, 1, 1, 1, 1, 1, 1, 1, 1, 1, 1, 1, 1, 1, 1, 1, 1, 1, 1, 1, 1, 1, 1, 1, 1, 1, 1, 1, 1, 1, 1, 1, 1, 1, 1, 1, 1, 1, 1, 1, 1, 1, 1, 1, 1, 1]\n",
      "[1, 1, 1, 1, 1, 1, 1, 1, 1, 1, 1, 1, 1, 1, 1, 1, 1, 1, 1, 1, 1, 1, 1, 1, 1, 1, 1, 1, 1, 1, 1, 1, 1, 1, 1, 1, 1, 1, 1, 1, 1, 1, 1, 1, 1, 1, 1, 1, 1, 1, 1, 1, 1, 1, 1, 1, 1, 1, 1, 1, 1]\n",
      "input_ids\n",
      "[[2, 56, 33, 35, 34, 13, 11, 24, 24, 12, 63, 49, 63, 60, 11, 11, 30, 22, 11, 55, 63, 11, 43, 24, 35, 16, 13, 13, 52, 34, 52, 56, 33, 34, 21, 35, 33, 11, 43, 24, 17, 40, 60, 11, 11, 22, 22, 30, 22, 11, 24, 60, 43, 55, 16, 9, 13, 35, 52, 34, 3, 0, 0, 0, 0, 0, 0, 0, 0, 0, 0, 0, 0, 0, 0, 0, 0, 0, 0, 0, 0, 0, 0, 0, 0, 0, 0, 0, 0, 0, 0, 0, 0, 0, 0, 0, 0, 0, 0, 0, 0, 0, 0, 0, 0, 0, 0, 0, 0, 0, 0, 0, 0, 0, 0, 0, 0, 0, 0, 0, 0, 0, 0, 0, 0, 0, 0, 0], [2, 14, 32, 61, 23, 23, 42, 54, 23, 38, 42, 42, 27, 27, 39, 39, 39, 27, 27, 27, 20, 20, 54, 54, 21, 21, 13, 13, 14, 61, 64, 14, 32, 61, 23, 54, 40, 40, 65, 54, 21, 40, 42, 42, 40, 39, 39, 27, 27, 27, 27, 54, 54, 42, 21, 38, 13, 21, 14, 35, 3, 0, 0, 0, 0, 0, 0, 0, 0, 0, 0, 0, 0, 0, 0, 0, 0, 0, 0, 0, 0, 0, 0, 0, 0, 0, 0, 0, 0, 0, 0, 0, 0, 0, 0, 0, 0, 0, 0, 0, 0, 0, 0, 0, 0, 0, 0, 0, 0, 0, 0, 0, 0, 0, 0, 0, 0, 0, 0, 0, 0, 0, 0, 0, 0, 0, 0, 0]]\n",
      "token_type_ids\n",
      "[[0, 0, 0, 0, 0, 0, 0, 0, 0, 0, 0, 0, 0, 0, 0, 0, 0, 0, 0, 0, 0, 0, 0, 0, 0, 0, 0, 0, 0, 0, 0, 0, 0, 0, 0, 0, 0, 0, 0, 0, 0, 0, 0, 0, 0, 0, 0, 0, 0, 0, 0, 0, 0, 0, 0, 0, 0, 0, 0, 0, 0, 0, 0, 0, 0, 0, 0, 0, 0, 0, 0, 0, 0, 0, 0, 0, 0, 0, 0, 0, 0, 0, 0, 0, 0, 0, 0, 0, 0, 0, 0, 0, 0, 0, 0, 0, 0, 0, 0, 0, 0, 0, 0, 0, 0, 0, 0, 0, 0, 0, 0, 0, 0, 0, 0, 0, 0, 0, 0, 0, 0, 0, 0, 0, 0, 0, 0, 0], [0, 0, 0, 0, 0, 0, 0, 0, 0, 0, 0, 0, 0, 0, 0, 0, 0, 0, 0, 0, 0, 0, 0, 0, 0, 0, 0, 0, 0, 0, 0, 0, 0, 0, 0, 0, 0, 0, 0, 0, 0, 0, 0, 0, 0, 0, 0, 0, 0, 0, 0, 0, 0, 0, 0, 0, 0, 0, 0, 0, 0, 0, 0, 0, 0, 0, 0, 0, 0, 0, 0, 0, 0, 0, 0, 0, 0, 0, 0, 0, 0, 0, 0, 0, 0, 0, 0, 0, 0, 0, 0, 0, 0, 0, 0, 0, 0, 0, 0, 0, 0, 0, 0, 0, 0, 0, 0, 0, 0, 0, 0, 0, 0, 0, 0, 0, 0, 0, 0, 0, 0, 0, 0, 0, 0, 0, 0, 0]]\n",
      "attention_mask\n",
      "[[1, 1, 1, 1, 1, 1, 1, 1, 1, 1, 1, 1, 1, 1, 1, 1, 1, 1, 1, 1, 1, 1, 1, 1, 1, 1, 1, 1, 1, 1, 1, 1, 1, 1, 1, 1, 1, 1, 1, 1, 1, 1, 1, 1, 1, 1, 1, 1, 1, 1, 1, 1, 1, 1, 1, 1, 1, 1, 1, 1, 1, 0, 0, 0, 0, 0, 0, 0, 0, 0, 0, 0, 0, 0, 0, 0, 0, 0, 0, 0, 0, 0, 0, 0, 0, 0, 0, 0, 0, 0, 0, 0, 0, 0, 0, 0, 0, 0, 0, 0, 0, 0, 0, 0, 0, 0, 0, 0, 0, 0, 0, 0, 0, 0, 0, 0, 0, 0, 0, 0, 0, 0, 0, 0, 0, 0, 0, 0], [1, 1, 1, 1, 1, 1, 1, 1, 1, 1, 1, 1, 1, 1, 1, 1, 1, 1, 1, 1, 1, 1, 1, 1, 1, 1, 1, 1, 1, 1, 1, 1, 1, 1, 1, 1, 1, 1, 1, 1, 1, 1, 1, 1, 1, 1, 1, 1, 1, 1, 1, 1, 1, 1, 1, 1, 1, 1, 1, 1, 1, 0, 0, 0, 0, 0, 0, 0, 0, 0, 0, 0, 0, 0, 0, 0, 0, 0, 0, 0, 0, 0, 0, 0, 0, 0, 0, 0, 0, 0, 0, 0, 0, 0, 0, 0, 0, 0, 0, 0, 0, 0, 0, 0, 0, 0, 0, 0, 0, 0, 0, 0, 0, 0, 0, 0, 0, 0, 0, 0, 0, 0, 0, 0, 0, 0, 0, 0]]\n"
     ]
    }
   ],
   "source": [
    "#%% check tokenization padding and attention masks\n",
    "\n",
    "sentence1 = train_text[0]\n",
    "sentence2 = train_text[1]\n",
    "padded_sequences = tokenizer([sentence1, sentence2], padding=True)\n",
    "print(\"input_ids\")\n",
    "print(len(padded_sequences[\"input_ids\"][0]))\n",
    "print(len(padded_sequences[\"input_ids\"][1]))\n",
    "print(padded_sequences[\"input_ids\"][0])\n",
    "print(padded_sequences[\"input_ids\"][1])\n",
    "\n",
    "print(\"token_type_ids\")\n",
    "print(len(padded_sequences[\"token_type_ids\"][0]))\n",
    "print(len(padded_sequences[\"token_type_ids\"][1]))\n",
    "print(padded_sequences[\"token_type_ids\"][0])\n",
    "print(padded_sequences[\"token_type_ids\"][1])\n",
    "\n",
    "print(\"attention_mask\")\n",
    "print(len(padded_sequences[\"attention_mask\"][0]))\n",
    "print(len(padded_sequences[\"attention_mask\"][1]))\n",
    "print(padded_sequences[\"attention_mask\"][0])\n",
    "print(padded_sequences[\"attention_mask\"][1])\n",
    "\n",
    "# this is what happens for block_size=5 in LikeByLineTextDataset\n",
    "padded_sequences = tokenizer.batch_encode_plus([sentence1, sentence2],max_length=tokenizer.model_max_length,\n",
    "                                               padding='max_length', truncation=True, add_special_tokens=True)\n",
    "print(\"input_ids\")\n",
    "print(padded_sequences[\"input_ids\"])\n",
    "print(\"token_type_ids\")\n",
    "print(padded_sequences[\"token_type_ids\"])\n",
    "print(\"attention_mask\")\n",
    "print(padded_sequences[\"attention_mask\"])\n"
   ]
  },
  {
   "cell_type": "markdown",
   "metadata": {},
   "source": [
    "### 4. Prepare dataset for BERT"
   ]
  },
  {
   "cell_type": "code",
   "execution_count": 5,
   "metadata": {},
   "outputs": [],
   "source": [
    "max_sentence_length=lipcot_model['model_max_length']-2\n",
    "all_sentence_lengths=[max_sentence_length]\n",
    "train_dataset = BertDataset(train_text, train_label,tokenizer,max_length=max_sentence_length+2)\n",
    "val_dataset = BertDataset(val_text, val_label,tokenizer,max_length=max_sentence_length+2)\n",
    "test_dataset = BertDataset(test_text, test_label,tokenizer,max_length=max_sentence_length+2)"
   ]
  },
  {
   "cell_type": "markdown",
   "metadata": {},
   "source": [
    "Let's check the attention mask"
   ]
  },
  {
   "cell_type": "code",
   "execution_count": 6,
   "metadata": {},
   "outputs": [
    {
     "name": "stdout",
     "output_type": "stream",
     "text": [
      "tensor([1, 1, 1, 1, 1, 1, 1, 1, 1, 1, 1, 1, 1, 1, 1, 1, 1, 1, 1, 1, 1, 1, 1, 1,\n",
      "        1, 1, 1, 1, 1, 1, 1, 1, 1, 1, 1, 1, 1, 1, 1, 1, 1, 1, 1, 1, 1, 1, 1, 1,\n",
      "        1, 1, 1, 1, 1, 1, 1, 1, 1, 1, 1, 1, 1, 0, 0, 0, 0, 0, 0, 0, 0, 0, 0, 0,\n",
      "        0, 0, 0, 0, 0, 0, 0, 0, 0, 0, 0, 0, 0, 0, 0, 0, 0, 0, 0, 0, 0, 0, 0, 0,\n",
      "        0, 0, 0, 0, 0, 0, 0, 0, 0, 0, 0, 0, 0, 0, 0, 0, 0, 0, 0, 0, 0, 0, 0, 0,\n",
      "        0, 0, 0, 0, 0, 0, 0, 0])\n",
      "torch.Size([128])\n"
     ]
    }
   ],
   "source": [
    "gg=train_dataset.__getitem__(1)\n",
    "print(gg['attention_mask'])\n",
    "print(gg['attention_mask'].shape)"
   ]
  },
  {
   "cell_type": "markdown",
   "metadata": {},
   "source": [
    "### 5. Save the datasets"
   ]
  },
  {
   "cell_type": "code",
   "execution_count": 7,
   "metadata": {},
   "outputs": [
    {
     "data": {
      "text/plain": [
       "['e:\\\\Research\\\\LiPCoT\\\\Code and Data\\\\LiPCoT\\\\data/forBert\\\\test_data.joblib']"
      ]
     },
     "execution_count": 7,
     "metadata": {},
     "output_type": "execute_result"
    }
   ],
   "source": [
    "joblib.dump(train_dataset, os.path.join(bert_datapath,\"train_data.joblib\"))\n",
    "joblib.dump(val_dataset, os.path.join(bert_datapath,\"val_data.joblib\"))\n",
    "joblib.dump(test_dataset, os.path.join(bert_datapath,\"test_data.joblib\"))"
   ]
  }
 ],
 "metadata": {
  "kernelspec": {
   "display_name": "mybertV2",
   "language": "python",
   "name": "python3"
  },
  "language_info": {
   "codemirror_mode": {
    "name": "ipython",
    "version": 3
   },
   "file_extension": ".py",
   "mimetype": "text/x-python",
   "name": "python",
   "nbconvert_exporter": "python",
   "pygments_lexer": "ipython3",
   "version": "3.9.18"
  }
 },
 "nbformat": 4,
 "nbformat_minor": 2
}
