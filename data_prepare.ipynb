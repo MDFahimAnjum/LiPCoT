{
 "cells": [
  {
   "cell_type": "markdown",
   "metadata": {},
   "source": [
    "## Prepare dataset for BERT\n",
    "\n",
    "The paths utilized are defiend in the `path_module.py`\n",
    "\n",
    "### 1. Import libraries"
   ]
  },
  {
   "cell_type": "code",
   "execution_count": 1,
   "metadata": {},
   "outputs": [],
   "source": [
    "from modules.bert_module import *\n",
    "from modules.path_module import *\n",
    "import os\n",
    "import joblib\n",
    "from modules.lipcot_module import LiPCoTdata\n",
    "from transformers import BertTokenizer\n",
    "from hugtokencraft import editor # type: ignore"
   ]
  },
  {
   "cell_type": "markdown",
   "metadata": {},
   "source": [
    "### 2. Load tokenized data"
   ]
  },
  {
   "cell_type": "code",
   "execution_count": 2,
   "metadata": {},
   "outputs": [
    {
     "name": "stdout",
     "output_type": "stream",
     "text": [
      "\n",
      "Tokenization model Validation: Passed\n",
      "\n",
      "Tokenizer loaded with vocabulary size: 69\n"
     ]
    }
   ],
   "source": [
    "train_data=joblib.load(os.path.join(tokenized_data_savepath,\"train_data.joblib\"))\n",
    "test_data=joblib.load(os.path.join(tokenized_data_savepath,\"test_data.joblib\"))\n",
    "val_data=joblib.load(os.path.join(tokenized_data_savepath,\"val_data.joblib\"))\n",
    "\n",
    "lipcot_model=joblib.load(os.path.join(lipcot_model_savepath,\"lipcot_model.joblib\"))\n",
    "tokenizer=editor.load_tokenizer(BertTokenizer,lipcot_model['tokenizer_path'])"
   ]
  },
  {
   "cell_type": "markdown",
   "metadata": {},
   "source": [
    "### 3. Prepare data for BERT\n",
    "We extract only the tokenized text and labels from dataset for BERT"
   ]
  },
  {
   "cell_type": "code",
   "execution_count": 3,
   "metadata": {},
   "outputs": [],
   "source": [
    "train_text,train_label=prepare_bert_data(train_data)\n",
    "val_text,val_label=prepare_bert_data(val_data)\n",
    "test_text,test_label=prepare_bert_data(test_data)"
   ]
  },
  {
   "cell_type": "markdown",
   "metadata": {},
   "source": [
    "Let's inspect tokenization padding and attention masks"
   ]
  },
  {
   "cell_type": "code",
   "execution_count": 4,
   "metadata": {},
   "outputs": [
    {
     "name": "stdout",
     "output_type": "stream",
     "text": [
      "input_ids\n",
      "61\n",
      "61\n",
      "[2, 24, 62, 25, 25, 25, 65, 65, 7, 54, 16, 30, 17, 54, 53, 31, 49, 31, 31, 12, 26, 30, 56, 16, 43, 54, 45, 45, 62, 56, 65, 62, 65, 25, 25, 65, 41, 62, 56, 7, 10, 62, 54, 22, 22, 37, 5, 49, 5, 15, 17, 16, 56, 17, 54, 49, 45, 5, 62, 20, 3]\n",
      "[2, 67, 22, 24, 46, 58, 30, 46, 58, 20, 15, 30, 16, 15, 17, 60, 17, 30, 16, 54, 26, 26, 54, 56, 25, 42, 56, 56, 53, 46, 24, 12, 26, 46, 11, 46, 57, 41, 58, 47, 16, 41, 16, 62, 41, 15, 15, 54, 15, 15, 27, 54, 64, 60, 56, 64, 14, 54, 53, 16, 3]\n",
      "token_type_ids\n",
      "61\n",
      "61\n",
      "[0, 0, 0, 0, 0, 0, 0, 0, 0, 0, 0, 0, 0, 0, 0, 0, 0, 0, 0, 0, 0, 0, 0, 0, 0, 0, 0, 0, 0, 0, 0, 0, 0, 0, 0, 0, 0, 0, 0, 0, 0, 0, 0, 0, 0, 0, 0, 0, 0, 0, 0, 0, 0, 0, 0, 0, 0, 0, 0, 0, 0]\n",
      "[0, 0, 0, 0, 0, 0, 0, 0, 0, 0, 0, 0, 0, 0, 0, 0, 0, 0, 0, 0, 0, 0, 0, 0, 0, 0, 0, 0, 0, 0, 0, 0, 0, 0, 0, 0, 0, 0, 0, 0, 0, 0, 0, 0, 0, 0, 0, 0, 0, 0, 0, 0, 0, 0, 0, 0, 0, 0, 0, 0, 0]\n",
      "attention_mask\n",
      "61\n",
      "61\n",
      "[1, 1, 1, 1, 1, 1, 1, 1, 1, 1, 1, 1, 1, 1, 1, 1, 1, 1, 1, 1, 1, 1, 1, 1, 1, 1, 1, 1, 1, 1, 1, 1, 1, 1, 1, 1, 1, 1, 1, 1, 1, 1, 1, 1, 1, 1, 1, 1, 1, 1, 1, 1, 1, 1, 1, 1, 1, 1, 1, 1, 1]\n",
      "[1, 1, 1, 1, 1, 1, 1, 1, 1, 1, 1, 1, 1, 1, 1, 1, 1, 1, 1, 1, 1, 1, 1, 1, 1, 1, 1, 1, 1, 1, 1, 1, 1, 1, 1, 1, 1, 1, 1, 1, 1, 1, 1, 1, 1, 1, 1, 1, 1, 1, 1, 1, 1, 1, 1, 1, 1, 1, 1, 1, 1]\n",
      "input_ids\n",
      "[[2, 24, 62, 25, 25, 25, 65, 65, 7, 54, 16, 30, 17, 54, 53, 31, 49, 31, 31, 12, 26, 30, 56, 16, 43, 54, 45, 45, 62, 56, 65, 62, 65, 25, 25, 65, 41, 62, 56, 7, 10, 62, 54, 22, 22, 37, 5, 49, 5, 15, 17, 16, 56, 17, 54, 49, 45, 5, 62, 20, 3, 0, 0, 0], [2, 67, 22, 24, 46, 58, 30, 46, 58, 20, 15, 30, 16, 15, 17, 60, 17, 30, 16, 54, 26, 26, 54, 56, 25, 42, 56, 56, 53, 46, 24, 12, 26, 46, 11, 46, 57, 41, 58, 47, 16, 41, 16, 62, 41, 15, 15, 54, 15, 15, 27, 54, 64, 60, 56, 64, 14, 54, 53, 16, 3, 0, 0, 0]]\n",
      "token_type_ids\n",
      "[[0, 0, 0, 0, 0, 0, 0, 0, 0, 0, 0, 0, 0, 0, 0, 0, 0, 0, 0, 0, 0, 0, 0, 0, 0, 0, 0, 0, 0, 0, 0, 0, 0, 0, 0, 0, 0, 0, 0, 0, 0, 0, 0, 0, 0, 0, 0, 0, 0, 0, 0, 0, 0, 0, 0, 0, 0, 0, 0, 0, 0, 0, 0, 0], [0, 0, 0, 0, 0, 0, 0, 0, 0, 0, 0, 0, 0, 0, 0, 0, 0, 0, 0, 0, 0, 0, 0, 0, 0, 0, 0, 0, 0, 0, 0, 0, 0, 0, 0, 0, 0, 0, 0, 0, 0, 0, 0, 0, 0, 0, 0, 0, 0, 0, 0, 0, 0, 0, 0, 0, 0, 0, 0, 0, 0, 0, 0, 0]]\n",
      "attention_mask\n",
      "[[1, 1, 1, 1, 1, 1, 1, 1, 1, 1, 1, 1, 1, 1, 1, 1, 1, 1, 1, 1, 1, 1, 1, 1, 1, 1, 1, 1, 1, 1, 1, 1, 1, 1, 1, 1, 1, 1, 1, 1, 1, 1, 1, 1, 1, 1, 1, 1, 1, 1, 1, 1, 1, 1, 1, 1, 1, 1, 1, 1, 1, 0, 0, 0], [1, 1, 1, 1, 1, 1, 1, 1, 1, 1, 1, 1, 1, 1, 1, 1, 1, 1, 1, 1, 1, 1, 1, 1, 1, 1, 1, 1, 1, 1, 1, 1, 1, 1, 1, 1, 1, 1, 1, 1, 1, 1, 1, 1, 1, 1, 1, 1, 1, 1, 1, 1, 1, 1, 1, 1, 1, 1, 1, 1, 1, 0, 0, 0]]\n"
     ]
    }
   ],
   "source": [
    "#%% check tokenization padding and attention masks\n",
    "\n",
    "sentence1 = train_text[0]\n",
    "sentence2 = train_text[1]\n",
    "padded_sequences = tokenizer([sentence1, sentence2], padding=True)\n",
    "print(\"input_ids\")\n",
    "print(len(padded_sequences[\"input_ids\"][0]))\n",
    "print(len(padded_sequences[\"input_ids\"][1]))\n",
    "print(padded_sequences[\"input_ids\"][0])\n",
    "print(padded_sequences[\"input_ids\"][1])\n",
    "\n",
    "print(\"token_type_ids\")\n",
    "print(len(padded_sequences[\"token_type_ids\"][0]))\n",
    "print(len(padded_sequences[\"token_type_ids\"][1]))\n",
    "print(padded_sequences[\"token_type_ids\"][0])\n",
    "print(padded_sequences[\"token_type_ids\"][1])\n",
    "\n",
    "print(\"attention_mask\")\n",
    "print(len(padded_sequences[\"attention_mask\"][0]))\n",
    "print(len(padded_sequences[\"attention_mask\"][1]))\n",
    "print(padded_sequences[\"attention_mask\"][0])\n",
    "print(padded_sequences[\"attention_mask\"][1])\n",
    "\n",
    "# this is what happens for block_size=5 in LikeByLineTextDataset\n",
    "padded_sequences = tokenizer.batch_encode_plus([sentence1, sentence2],max_length=tokenizer.model_max_length,\n",
    "                                               padding='max_length', truncation=True, add_special_tokens=True)\n",
    "print(\"input_ids\")\n",
    "print(padded_sequences[\"input_ids\"])\n",
    "print(\"token_type_ids\")\n",
    "print(padded_sequences[\"token_type_ids\"])\n",
    "print(\"attention_mask\")\n",
    "print(padded_sequences[\"attention_mask\"])\n"
   ]
  },
  {
   "cell_type": "markdown",
   "metadata": {},
   "source": [
    "### 4. Prepare dataset for BERT"
   ]
  },
  {
   "cell_type": "code",
   "execution_count": 5,
   "metadata": {},
   "outputs": [],
   "source": [
    "max_sentence_length=lipcot_model['model_max_length']-2\n",
    "all_sentence_lengths=[max_sentence_length]\n",
    "train_dataset = BertDataset(train_text, train_label,tokenizer,max_length=max_sentence_length+2)\n",
    "val_dataset = BertDataset(val_text, val_label,tokenizer,max_length=max_sentence_length+2)\n",
    "test_dataset = BertDataset(test_text, test_label,tokenizer,max_length=max_sentence_length+2)"
   ]
  },
  {
   "cell_type": "markdown",
   "metadata": {},
   "source": [
    "Let's check the attention mask"
   ]
  },
  {
   "cell_type": "code",
   "execution_count": 6,
   "metadata": {},
   "outputs": [
    {
     "name": "stdout",
     "output_type": "stream",
     "text": [
      "tensor([1, 1, 1, 1, 1, 1, 1, 1, 1, 1, 1, 1, 1, 1, 1, 1, 1, 1, 1, 1, 1, 1, 1, 1,\n",
      "        1, 1, 1, 1, 1, 1, 1, 1, 1, 1, 1, 1, 1, 1, 1, 1, 1, 1, 1, 1, 1, 1, 1, 1,\n",
      "        1, 1, 1, 1, 1, 1, 1, 1, 1, 1, 1, 1, 1, 0, 0, 0])\n",
      "torch.Size([64])\n"
     ]
    }
   ],
   "source": [
    "gg=train_dataset.__getitem__(1)\n",
    "print(gg['attention_mask'])\n",
    "print(gg['attention_mask'].shape)"
   ]
  },
  {
   "cell_type": "markdown",
   "metadata": {},
   "source": [
    "### 5. Save the datasets"
   ]
  },
  {
   "cell_type": "code",
   "execution_count": 7,
   "metadata": {},
   "outputs": [
    {
     "data": {
      "text/plain": [
       "['e:\\\\Research\\\\LiPCoT\\\\Code and Data\\\\LiPCoT\\\\data/forBert\\\\test_data.joblib']"
      ]
     },
     "execution_count": 7,
     "metadata": {},
     "output_type": "execute_result"
    }
   ],
   "source": [
    "joblib.dump(train_dataset, os.path.join(bert_datapath,\"train_data.joblib\"))\n",
    "joblib.dump(val_dataset, os.path.join(bert_datapath,\"val_data.joblib\"))\n",
    "joblib.dump(test_dataset, os.path.join(bert_datapath,\"test_data.joblib\"))"
   ]
  }
 ],
 "metadata": {
  "kernelspec": {
   "display_name": "mybertV2",
   "language": "python",
   "name": "python3"
  },
  "language_info": {
   "codemirror_mode": {
    "name": "ipython",
    "version": 3
   },
   "file_extension": ".py",
   "mimetype": "text/x-python",
   "name": "python",
   "nbconvert_exporter": "python",
   "pygments_lexer": "ipython3",
   "version": "3.9.18"
  }
 },
 "nbformat": 4,
 "nbformat_minor": 2
}
