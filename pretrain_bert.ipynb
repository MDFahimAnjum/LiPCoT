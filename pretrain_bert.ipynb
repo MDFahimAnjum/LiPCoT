{
 "cells": [
  {
   "cell_type": "markdown",
   "metadata": {},
   "source": [
    "## PreTrain a BERT model via MLM\n",
    "Before this, the data must be processed, tokenized and prepared:\n",
    "1. `data_processing` notebook loads raw data and prepares training,validation and test dataset\n",
    "2. `data_tokenizer`notebook tokenizes the data using LiPCoT model\n",
    "3. `data_prepare` notebook prepares datasets for BERT models\n",
    "\n",
    "Here, we will use training and validation dataset for pretraining.\n",
    "### 1. Import libraries"
   ]
  },
  {
   "cell_type": "code",
   "execution_count": 15,
   "metadata": {},
   "outputs": [],
   "source": [
    "import os\n",
    "import joblib\n",
    "from modules.bert_module import *\n",
    "from modules.path_module import *\n",
    "from transformers import BertTokenizer\n",
    "from hugtokencraft import editor # type: ignore\n",
    "from transformers import BertConfig, BertForMaskedLM, DataCollatorForLanguageModeling, DataCollatorForWholeWordMask\n",
    "from torch import cuda\n",
    "from torchinfo import summary\n",
    "import torch\n",
    "from transformers import Trainer, TrainingArguments\n",
    "import matplotlib.pyplot as plt\n",
    "import pandas as pd\n",
    "from transformers import pipeline\n",
    "import math"
   ]
  },
  {
   "cell_type": "markdown",
   "metadata": {},
   "source": [
    "### 2. Load Training and Validation dataset"
   ]
  },
  {
   "cell_type": "code",
   "execution_count": 16,
   "metadata": {},
   "outputs": [
    {
     "name": "stdout",
     "output_type": "stream",
     "text": [
      "\n",
      "Tokenization model Validation: Passed\n",
      "\n",
      "Tokenizer loaded with vocabulary size: 69\n"
     ]
    }
   ],
   "source": [
    "lipcot_model=joblib.load(os.path.join(lipcot_model_savepath,\"lipcot_model.joblib\"))\n",
    "tokenizer=editor.load_tokenizer(BertTokenizer,lipcot_model['tokenizer_path'])\n",
    "\n",
    "train_dataset=joblib.load( os.path.join(bert_datapath,\"train_data.joblib\"))\n",
    "val_dataset=joblib.load( os.path.join(bert_datapath,\"val_data.joblib\"))"
   ]
  },
  {
   "cell_type": "markdown",
   "metadata": {},
   "source": [
    "### 3. Configure and initialize BERT model  "
   ]
  },
  {
   "cell_type": "code",
   "execution_count": 17,
   "metadata": {},
   "outputs": [
    {
     "data": {
      "text/plain": [
       "Embedding(69, 256, padding_idx=0)"
      ]
     },
     "execution_count": 17,
     "metadata": {},
     "output_type": "execute_result"
    }
   ],
   "source": [
    "max_sentence_length=lipcot_model['model_max_length']-2\n",
    "\n",
    "config = BertConfig(\n",
    "    vocab_size=tokenizer.vocab_size,\n",
    "    hidden_size=256, \n",
    "    num_hidden_layers=6, \n",
    "    num_attention_heads=1,\n",
    "    output_hidden_states=True,\n",
    "    position_embedding_type=\"relative_key\",#\"relative_key\",\"absolute\"\n",
    "    max_position_embeddings=max_sentence_length+2 # specifies the maximum number of tokens in a sequence. maybe this is sentence_length? 8=6 words+2 special tokens\n",
    ")\n",
    " \n",
    "model = BertForMaskedLM(config)\n",
    "model.resize_token_embeddings()"
   ]
  },
  {
   "cell_type": "markdown",
   "metadata": {},
   "source": [
    "Let's see a model summary:"
   ]
  },
  {
   "cell_type": "code",
   "execution_count": 18,
   "metadata": {},
   "outputs": [
    {
     "name": "stdout",
     "output_type": "stream",
     "text": [
      "No of parameters:  11338821\n"
     ]
    },
    {
     "data": {
      "text/plain": [
       "=========================================================================================================\n",
       "Layer (type:depth-idx)                                  Output Shape              Param #\n",
       "=========================================================================================================\n",
       "BertForMaskedLM                                         [1, 64, 256]              --\n",
       "├─BertModel: 1-1                                        [1, 64, 256]              --\n",
       "│    └─BertEmbeddings: 2-1                              [1, 64, 256]              16,384\n",
       "│    │    └─Embedding: 3-1                              [1, 64, 256]              17,664\n",
       "│    │    └─Embedding: 3-2                              [1, 64, 256]              512\n",
       "│    │    └─LayerNorm: 3-3                              [1, 64, 256]              512\n",
       "│    │    └─Dropout: 3-4                                [1, 64, 256]              --\n",
       "│    └─BertEncoder: 2-2                                 [1, 64, 256]              --\n",
       "│    │    └─ModuleList: 3-5                             --                        11,237,376\n",
       "├─BertOnlyMLMHead: 1-2                                  [1, 64, 69]               --\n",
       "│    └─BertLMPredictionHead: 2-3                        [1, 64, 69]               --\n",
       "│    │    └─BertPredictionHeadTransform: 3-6            [1, 64, 256]              66,304\n",
       "│    │    └─Linear: 3-7                                 [1, 64, 69]               17,733\n",
       "=========================================================================================================\n",
       "Total params: 11,356,485\n",
       "Trainable params: 11,356,485\n",
       "Non-trainable params: 0\n",
       "Total mult-adds (M): 23.63\n",
       "=========================================================================================================\n",
       "Input size (MB): 0.00\n",
       "Forward/backward pass size (MB): 65.96\n",
       "Params size (MB): 45.36\n",
       "Estimated Total Size (MB): 111.33\n",
       "========================================================================================================="
      ]
     },
     "execution_count": 18,
     "metadata": {},
     "output_type": "execute_result"
    }
   ],
   "source": [
    "#from torchview import draw_graph\n",
    "#model_graph = draw_graph(model, input_data=(512,2)).visual_graph\n",
    "\n",
    "# Create a sample input tensor and move it to the same device as the model\n",
    "input_tensor = torch.tensor([[1, 2, 3]], dtype=torch.int, device=model.device)\n",
    "\n",
    "print('No of parameters: ', model.num_parameters())\n",
    "summary(model, input_size=(1, max_sentence_length+2), dtypes=[input_tensor.dtype])\n"
   ]
  },
  {
   "cell_type": "markdown",
   "metadata": {},
   "source": [
    "### 4. Configure training process"
   ]
  },
  {
   "cell_type": "code",
   "execution_count": 19,
   "metadata": {},
   "outputs": [
    {
     "name": "stdout",
     "output_type": "stream",
     "text": [
      "Running on: cuda\n"
     ]
    }
   ],
   "source": [
    "# use GPU\n",
    "device='cuda' if cuda.is_available() else 'cpu'\n",
    "print(\"Running on: \"+device)\n",
    "cuda.empty_cache()\n",
    "model.to(device)\n",
    "#data_collator = DataCollatorForLanguageModeling(\n",
    "#    tokenizer=tokenizer, mlm=True, mlm_probability=0.15\n",
    "#)\n",
    "data_collator = DataCollatorForWholeWordMask(\n",
    "    tokenizer=tokenizer, mlm=True, mlm_probability=0.15\n",
    ")\n",
    "\n",
    "training_args = TrainingArguments(\n",
    "    output_dir=bert_modelpath,\n",
    "    overwrite_output_dir=True,\n",
    "    num_train_epochs=256,\n",
    "    per_device_train_batch_size=2,\n",
    "    #save_steps=-1,\n",
    "    save_total_limit=15,\n",
    "    push_to_hub=False,\n",
    "    #learning_rate=5e-10,\n",
    "    warmup_steps=100,\n",
    "    weight_decay=0.01,\n",
    "    do_train=True,\n",
    "    do_eval=True,\n",
    "    evaluation_strategy='epoch',\n",
    "    save_strategy='epoch',\n",
    "    load_best_model_at_end=True,\n",
    "    metric_for_best_model='loss', \n",
    "    greater_is_better=False\n",
    ")\n",
    "\n",
    "trainer = Trainer(\n",
    "    model=model,\n",
    "    args=training_args,\n",
    "    data_collator=data_collator,\n",
    "    train_dataset=train_dataset,\n",
    "    eval_dataset=val_dataset,\n",
    "    tokenizer=tokenizer\n",
    ")\n",
    "\n",
    "#print(training_args)"
   ]
  },
  {
   "cell_type": "markdown",
   "metadata": {},
   "source": [
    "### 5. Train BERT"
   ]
  },
  {
   "cell_type": "code",
   "execution_count": 20,
   "metadata": {},
   "outputs": [
    {
     "name": "stderr",
     "output_type": "stream",
     "text": [
      "There were missing keys in the checkpoint model loaded: ['cls.predictions.decoder.weight', 'cls.predictions.decoder.bias'].\n"
     ]
    }
   ],
   "source": [
    "%%capture\n",
    "\n",
    "trainer.train()"
   ]
  },
  {
   "cell_type": "markdown",
   "metadata": {},
   "source": [
    "Let's inspect the training process"
   ]
  },
  {
   "cell_type": "code",
   "execution_count": 21,
   "metadata": {},
   "outputs": [
    {
     "name": "stdout",
     "output_type": "stream",
     "text": [
      "Steps taken: 41000\n"
     ]
    },
    {
     "data": {
      "image/png": "[encoded data removed]",
      "text/plain": [
       "<Figure size 640x480 with 1 Axes>"
      ]
     },
     "metadata": {},
     "output_type": "display_data"
    }
   ],
   "source": [
    "global_steps_taken=trainer._globalstep_last_logged\n",
    "print(\"Steps taken: \"+str(global_steps_taken))\n",
    "\n",
    "t_history=pd.DataFrame(trainer.state.log_history)\n",
    "\n",
    "# Get the training and evaluation losses\n",
    "train_losses, training_step=get_trainer_history(t_history,'loss')\n",
    "eval_losses , eval_step=get_trainer_history(t_history,'eval_loss')\n",
    "\n",
    "\n",
    "# Plot the losses\n",
    "plt.figure\n",
    "plt.plot(eval_step,eval_losses, label=\"Validation Loss\")\n",
    "plt.plot(training_step,train_losses, label=\"Training Loss\")\n",
    "plt.xlabel(\"Epoch\")\n",
    "plt.ylabel(\"Loss\")\n",
    "#plt.yscale('log')  # Set y-axis to log scale\n",
    "plt.title(\"Training and Validation Losses\")\n",
    "plt.legend()\n",
    "plt.show()"
   ]
  },
  {
   "cell_type": "markdown",
   "metadata": {},
   "source": [
    "Now let's calculate model's perplexity"
   ]
  },
  {
   "cell_type": "code",
   "execution_count": 22,
   "metadata": {},
   "outputs": [
    {
     "data": {
      "application/vnd.jupyter.widget-view+json": {
       "model_id": "aafa7e3d9fed4fd5879cab95fc3f73d0",
       "version_major": 2,
       "version_minor": 0
      },
      "text/plain": [
       "  0%|          | 0/18 [00:00<?, ?it/s]"
      ]
     },
     "metadata": {},
     "output_type": "display_data"
    },
    {
     "name": "stdout",
     "output_type": "stream",
     "text": [
      "Perplexity: 9.81\n"
     ]
    }
   ],
   "source": [
    "eval_results = trainer.evaluate()\n",
    "print(f\"Perplexity: {math.exp(eval_results['eval_loss']):.2f}\") "
   ]
  },
  {
   "cell_type": "markdown",
   "metadata": {},
   "source": [
    "Finally, let's inspect model's layers"
   ]
  },
  {
   "cell_type": "code",
   "execution_count": 23,
   "metadata": {},
   "outputs": [
    {
     "name": "stdout",
     "output_type": "stream",
     "text": [
      "(61, 256)\n",
      "Attention is None\n"
     ]
    }
   ],
   "source": [
    "# Input text\n",
    "input_text = train_dataset.texts[0]\n",
    "input_ids = tokenizer.encode(input_text, add_special_tokens=True)\n",
    "input_ids = torch.tensor([input_ids], dtype=torch.int, device=model.device)\n",
    "\n",
    "model.eval()\n",
    "# Forward pass through the model to get outputs and attentions\n",
    "with torch.no_grad():\n",
    "    outputs = model(input_ids)\n",
    "\n",
    "all_hidden_states =outputs.hidden_states\n",
    "all_hidden_states=list(all_hidden_states)# all hidden states as list:  batch=1,words=6+2,hidden size=4\n",
    "last_hidden_states=all_hidden_states[0] # batch=1,words=6+2,hidden size\n",
    "last_hidden_states=last_hidden_states.detach().cpu().numpy()\n",
    "last_hidden_states=last_hidden_states.squeeze()\n",
    "print(last_hidden_states.shape) \n",
    "#print(last_hidden_states) \n",
    "\n",
    "# Get the attentions from the outputs\n",
    "attentions = outputs.attentions\n",
    "\n",
    "if attentions is not None:\n",
    "    # Print the shape of the attentions\n",
    "    print(\"Number of attention layers:\", len(attentions))\n",
    "    for i, attention_layer in enumerate(attentions):\n",
    "        print(f\"Shape of attention layer {i+1}:\", attention_layer.shape)\n",
    "else:\n",
    "    print(\"Attention is None\")"
   ]
  },
  {
   "cell_type": "markdown",
   "metadata": {},
   "source": [
    "### 7. Save PreTrained Model"
   ]
  },
  {
   "cell_type": "code",
   "execution_count": 24,
   "metadata": {},
   "outputs": [],
   "source": [
    "trainer.save_model(bert_modelpath)"
   ]
  },
  {
   "cell_type": "markdown",
   "metadata": {},
   "source": [
    "Let's cleanup the checkpoints"
   ]
  },
  {
   "cell_type": "code",
   "execution_count": 25,
   "metadata": {},
   "outputs": [
    {
     "name": "stdout",
     "output_type": "stream",
     "text": [
      "All checkpoints have been deleted.\n"
     ]
    }
   ],
   "source": [
    "import os\n",
    "import shutil\n",
    "\n",
    "checkpoint_dirs = [d for d in os.listdir(bert_modelpath) if d.startswith('checkpoint')]\n",
    "\n",
    "# Delete each checkpoint directory\n",
    "for checkpoint_dir in checkpoint_dirs:\n",
    "    shutil.rmtree(os.path.join(bert_modelpath, checkpoint_dir))\n",
    "\n",
    "print(\"All checkpoints have been deleted.\")"
   ]
  },
  {
   "cell_type": "markdown",
   "metadata": {},
   "source": [
    "## Model Performance in MLM\n",
    "Let us see the model's performance in masked tokens.\n",
    "\n",
    "### 1. Load Bert model"
   ]
  },
  {
   "cell_type": "code",
   "execution_count": 26,
   "metadata": {},
   "outputs": [
    {
     "name": "stdout",
     "output_type": "stream",
     "text": [
      "Bert Model Loaded\n"
     ]
    }
   ],
   "source": [
    "model = BertForMaskedLM.from_pretrained(bert_modelpath)\n",
    "model.to(device)\n",
    "print('Bert Model Loaded')"
   ]
  },
  {
   "cell_type": "markdown",
   "metadata": {},
   "source": [
    "### 2. Make masked token prediction and calculate error"
   ]
  },
  {
   "cell_type": "code",
   "execution_count": 27,
   "metadata": {},
   "outputs": [
    {
     "name": "stderr",
     "output_type": "stream",
     "text": [
      "c:\\Users\\fahim\\anaconda3\\envs\\mybertV2\\lib\\site-packages\\transformers\\pipelines\\base.py:1157: UserWarning: You seem to be using the pipelines sequentially on GPU. In order to maximize efficiency please use a dataset\n",
      "  warnings.warn(\n"
     ]
    },
    {
     "name": "stdout",
     "output_type": "stream",
     "text": [
      "28.571428571428573\n"
     ]
    },
    {
     "data": {
      "image/png": "[encoded data removed]",
      "text/plain": [
       "<Figure size 640x480 with 1 Axes>"
      ]
     },
     "metadata": {},
     "output_type": "display_data"
    },
    {
     "name": "stdout",
     "output_type": "stream",
     "text": [
      "32.608695652173914\n"
     ]
    },
    {
     "data": {
      "image/png": "[encoded data removed]",
      "text/plain": [
       "<Figure size 640x480 with 1 Axes>"
      ]
     },
     "metadata": {},
     "output_type": "display_data"
    },
    {
     "name": "stdout",
     "output_type": "stream",
     "text": [
      "Top 5 solutions\n",
      "Training error: 28.571428571428573\n",
      "val error: 32.608695652173914\n"
     ]
    }
   ],
   "source": [
    "top_k_val=5\n",
    "fill_mask = pipeline(\n",
    "    \"fill-mask\",\n",
    "    model=model,\n",
    "    top_k=top_k_val,\n",
    "    tokenizer=tokenizer,\n",
    "    device=0 # Setting this to -1 will leverage CPU, >=0 will run the model on the associated CUDA \n",
    ")\n",
    "\n",
    "\n",
    "train_data_for_perf=get_txt_from_dataset(tokenizer, train_dataset)\n",
    "val_data_for_perf=get_txt_from_dataset(tokenizer, val_dataset)\n",
    "\n",
    "train_error_rate, train_masked_tokens, train_predicted_tokens= get_mask_error(train_data_for_perf,fill_mask,tokenizer)\n",
    "val_error_rate, val_masked_tokens, val_predicted_tokens= get_mask_error(val_data_for_perf,fill_mask,tokenizer)\n",
    "\n",
    "print(f\"Top {top_k_val} solutions\")\n",
    "print(\"Training error: \"+str(train_error_rate))\n",
    "print(\"val error: \"+str(val_error_rate))\n",
    "\n"
   ]
  }
 ],
 "metadata": {
  "kernelspec": {
   "display_name": "mybertV2",
   "language": "python",
   "name": "python3"
  },
  "language_info": {
   "codemirror_mode": {
    "name": "ipython",
    "version": 3
   },
   "file_extension": ".py",
   "mimetype": "text/x-python",
   "name": "python",
   "nbconvert_exporter": "python",
   "pygments_lexer": "ipython3",
   "version": "3.9.18"
  }
 },
 "nbformat": 4,
 "nbformat_minor": 2
}
