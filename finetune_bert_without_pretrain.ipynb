{
 "cells": [
  {
   "cell_type": "markdown",
   "metadata": {},
   "source": [
    "## Fine Tune a PreTrain a BERT model for Binary classification\n",
    "Before this, the data must be processed, tokenized and prepared.\n",
    "1. `data_processing` notebook loads raw data and prepares training,validation and test dataset\n",
    "2. `data_tokenizer`notebook tokenizes the data using LiPCoT model\n",
    "3. `data_prepare` notebook prepares datasets for BERT models\n",
    "\n",
    "Here, we will use training and validation dataset for fine-tuning. Then test set is used for evaluation\n",
    "### 1. Import libraries"
   ]
  },
  {
   "cell_type": "code",
   "execution_count": 1,
   "metadata": {},
   "outputs": [],
   "source": [
    "import os\n",
    "import joblib\n",
    "from modules.bert_module import *\n",
    "from modules.path_module import *\n",
    "from transformers import BertForMaskedLM\n",
    "from torch import cuda\n",
    "from tqdm import tqdm\n",
    "import torch.optim as optim\n",
    "from torch.utils.data import DataLoader"
   ]
  },
  {
   "cell_type": "markdown",
   "metadata": {},
   "source": [
    "### 2. Load datasets\n",
    "We are going to use the validation set for training the fine-tune model. The training set for the pre-trained model will be used with labels as a validation."
   ]
  },
  {
   "cell_type": "code",
   "execution_count": 2,
   "metadata": {},
   "outputs": [],
   "source": [
    "train_dataset=joblib.load( os.path.join(bert_datapath,\"val_data.joblib\"))\n",
    "val_dataset=joblib.load( os.path.join(bert_datapath,\"train_data.joblib\"))\n",
    "test_dataset=joblib.load(os.path.join(bert_datapath,\"test_data.joblib\"))"
   ]
  },
  {
   "cell_type": "markdown",
   "metadata": {},
   "source": [
    "### 3. Create Fine-tune classification model"
   ]
  },
  {
   "cell_type": "code",
   "execution_count": 3,
   "metadata": {},
   "outputs": [
    {
     "name": "stdout",
     "output_type": "stream",
     "text": [
      "BERT Model initialized\n",
      "Running on: cuda\n",
      "FineTune Model created\n"
     ]
    }
   ],
   "source": [
    "# load pretrain model\n",
    "pretrained_model = BertForMaskedLM.from_pretrained(bert_modelpath)\n",
    "# use config of pretrain model to initialize a new BERT model\n",
    "model = BertForMaskedLM(pretrained_model.config)\n",
    "model.resize_token_embeddings()\n",
    "\n",
    "print('BERT Model initialized')\n",
    "# use GPU\n",
    "device='cuda' if cuda.is_available() else 'cpu'\n",
    "print(\"Running on: \"+device)\n",
    "cuda.empty_cache()\n",
    "\n",
    "# Instantiate the classification model\n",
    "num_classes = 2  # Number of classes in classification task\n",
    "classification_model = BertForSequenceClassification(model, num_classes,device)\n",
    "classification_model.to(device)  # Move model to the device (e.g., GPU if available)\n",
    "print('FineTune Model created')"
   ]
  },
  {
   "cell_type": "markdown",
   "metadata": {},
   "source": [
    "### 4. Configure Training "
   ]
  },
  {
   "cell_type": "code",
   "execution_count": 4,
   "metadata": {},
   "outputs": [],
   "source": [
    "num_epochs = 128 #128\n",
    "training_batch_size=1\n",
    "learning_rate=2e-6 #5e-6#2e-6\n",
    "# Define optimizer and loss function\n",
    "optimizer = optim.Adam(classification_model.parameters(), lr=learning_rate)\n",
    "criterion = nn.BCELoss()#nn.CrossEntropyLoss()"
   ]
  },
  {
   "cell_type": "markdown",
   "metadata": {},
   "source": [
    "### 5. Create DataLoaders"
   ]
  },
  {
   "cell_type": "code",
   "execution_count": 5,
   "metadata": {},
   "outputs": [],
   "source": [
    "train_loader = DataLoader(train_dataset, batch_size=training_batch_size, shuffle=True)\n",
    "val_loader = DataLoader(val_dataset, batch_size=1, shuffle=False)\n",
    "test_loader = DataLoader(test_dataset, batch_size=1, shuffle=False)"
   ]
  },
  {
   "cell_type": "markdown",
   "metadata": {},
   "source": [
    "### 6. Train and evaluate via validation set\n",
    "We train using the training set and save the model that gives the best performance on the validation set"
   ]
  },
  {
   "cell_type": "code",
   "execution_count": 6,
   "metadata": {},
   "outputs": [
    {
     "name": "stderr",
     "output_type": "stream",
     "text": [
      "Epoch 1/128: 100%|██████████| 138/138 [00:05<00:00, 24.43batch/s, Loss=0.807]\n"
     ]
    },
    {
     "name": "stdout",
     "output_type": "stream",
     "text": [
      "model state saved\n"
     ]
    },
    {
     "name": "stderr",
     "output_type": "stream",
     "text": [
      "Epoch 2/128: 100%|██████████| 138/138 [00:05<00:00, 26.33batch/s, Loss=0.681]\n",
      "Epoch 3/128: 100%|██████████| 138/138 [00:05<00:00, 25.85batch/s, Loss=0.803]\n",
      "Epoch 4/128: 100%|██████████| 138/138 [00:05<00:00, 26.44batch/s, Loss=0.709]\n"
     ]
    },
    {
     "name": "stdout",
     "output_type": "stream",
     "text": [
      "model state saved\n"
     ]
    },
    {
     "name": "stderr",
     "output_type": "stream",
     "text": [
      "Epoch 5/128: 100%|██████████| 138/138 [00:05<00:00, 25.98batch/s, Loss=0.646]\n"
     ]
    },
    {
     "name": "stdout",
     "output_type": "stream",
     "text": [
      "model state saved\n"
     ]
    },
    {
     "name": "stderr",
     "output_type": "stream",
     "text": [
      "Epoch 6/128: 100%|██████████| 138/138 [00:05<00:00, 25.97batch/s, Loss=0.775]\n",
      "Epoch 7/128: 100%|██████████| 138/138 [00:05<00:00, 26.62batch/s, Loss=0.687]\n",
      "Epoch 8/128: 100%|██████████| 138/138 [00:05<00:00, 26.26batch/s, Loss=0.68] \n",
      "Epoch 9/128: 100%|██████████| 138/138 [00:05<00:00, 26.10batch/s, Loss=0.688]\n",
      "Epoch 10/128: 100%|██████████| 138/138 [00:05<00:00, 26.58batch/s, Loss=0.736]\n",
      "Epoch 11/128: 100%|██████████| 138/138 [00:05<00:00, 26.24batch/s, Loss=0.701]\n",
      "Epoch 12/128: 100%|██████████| 138/138 [00:05<00:00, 26.39batch/s, Loss=0.578]\n",
      "Epoch 13/128: 100%|██████████| 138/138 [00:05<00:00, 26.67batch/s, Loss=0.745]\n"
     ]
    },
    {
     "name": "stdout",
     "output_type": "stream",
     "text": [
      "model state saved\n"
     ]
    },
    {
     "name": "stderr",
     "output_type": "stream",
     "text": [
      "Epoch 14/128: 100%|██████████| 138/138 [00:05<00:00, 26.62batch/s, Loss=0.654]\n",
      "Epoch 15/128: 100%|██████████| 138/138 [00:05<00:00, 26.56batch/s, Loss=0.674]\n"
     ]
    },
    {
     "name": "stdout",
     "output_type": "stream",
     "text": [
      "model state saved\n"
     ]
    },
    {
     "name": "stderr",
     "output_type": "stream",
     "text": [
      "Epoch 16/128: 100%|██████████| 138/138 [00:05<00:00, 26.66batch/s, Loss=0.567]\n",
      "Epoch 17/128: 100%|██████████| 138/138 [00:05<00:00, 26.09batch/s, Loss=0.451]\n"
     ]
    },
    {
     "name": "stdout",
     "output_type": "stream",
     "text": [
      "model state saved\n"
     ]
    },
    {
     "name": "stderr",
     "output_type": "stream",
     "text": [
      "Epoch 18/128: 100%|██████████| 138/138 [00:05<00:00, 26.20batch/s, Loss=0.674]\n",
      "Epoch 19/128: 100%|██████████| 138/138 [00:05<00:00, 26.41batch/s, Loss=0.302]\n",
      "Epoch 20/128: 100%|██████████| 138/138 [00:05<00:00, 26.76batch/s, Loss=0.782]\n"
     ]
    },
    {
     "name": "stdout",
     "output_type": "stream",
     "text": [
      "model state saved\n"
     ]
    },
    {
     "name": "stderr",
     "output_type": "stream",
     "text": [
      "Epoch 21/128: 100%|██████████| 138/138 [00:05<00:00, 26.77batch/s, Loss=0.633]\n"
     ]
    },
    {
     "name": "stdout",
     "output_type": "stream",
     "text": [
      "model state saved\n"
     ]
    },
    {
     "name": "stderr",
     "output_type": "stream",
     "text": [
      "Epoch 22/128: 100%|██████████| 138/138 [00:05<00:00, 26.34batch/s, Loss=0.621]\n",
      "Epoch 23/128: 100%|██████████| 138/138 [00:05<00:00, 26.79batch/s, Loss=0.211]\n",
      "Epoch 24/128: 100%|██████████| 138/138 [00:05<00:00, 26.61batch/s, Loss=0.814]\n"
     ]
    },
    {
     "name": "stdout",
     "output_type": "stream",
     "text": [
      "model state saved\n"
     ]
    },
    {
     "name": "stderr",
     "output_type": "stream",
     "text": [
      "Epoch 25/128: 100%|██████████| 138/138 [00:05<00:00, 26.34batch/s, Loss=0.21]  \n",
      "Epoch 26/128: 100%|██████████| 138/138 [00:05<00:00, 26.91batch/s, Loss=0.287]\n",
      "Epoch 27/128: 100%|██████████| 138/138 [00:05<00:00, 26.70batch/s, Loss=0.145]\n",
      "Epoch 28/128: 100%|██████████| 138/138 [00:05<00:00, 26.78batch/s, Loss=0.651] \n",
      "Epoch 29/128: 100%|██████████| 138/138 [00:05<00:00, 26.66batch/s, Loss=0.0785]\n",
      "Epoch 30/128: 100%|██████████| 138/138 [00:05<00:00, 26.60batch/s, Loss=0.758] \n",
      "Epoch 31/128: 100%|██████████| 138/138 [00:05<00:00, 25.87batch/s, Loss=0.237] \n",
      "Epoch 32/128: 100%|██████████| 138/138 [00:05<00:00, 26.43batch/s, Loss=0.0917]\n",
      "Epoch 33/128: 100%|██████████| 138/138 [00:05<00:00, 26.87batch/s, Loss=0.185] \n",
      "Epoch 34/128: 100%|██████████| 138/138 [00:05<00:00, 26.66batch/s, Loss=0.659] \n"
     ]
    },
    {
     "name": "stdout",
     "output_type": "stream",
     "text": [
      "model state saved\n"
     ]
    },
    {
     "name": "stderr",
     "output_type": "stream",
     "text": [
      "Epoch 35/128: 100%|██████████| 138/138 [00:05<00:00, 26.50batch/s, Loss=0.159] \n",
      "Epoch 36/128: 100%|██████████| 138/138 [00:05<00:00, 26.21batch/s, Loss=0.208] \n",
      "Epoch 37/128: 100%|██████████| 138/138 [00:05<00:00, 26.57batch/s, Loss=1.39]  \n"
     ]
    },
    {
     "name": "stdout",
     "output_type": "stream",
     "text": [
      "model state saved\n"
     ]
    },
    {
     "name": "stderr",
     "output_type": "stream",
     "text": [
      "Epoch 38/128: 100%|██████████| 138/138 [00:05<00:00, 26.61batch/s, Loss=0.172] \n",
      "Epoch 39/128: 100%|██████████| 138/138 [00:05<00:00, 25.97batch/s, Loss=1.22]  \n",
      "Epoch 40/128: 100%|██████████| 138/138 [00:05<00:00, 26.16batch/s, Loss=1.11]  \n",
      "Epoch 41/128: 100%|██████████| 138/138 [00:05<00:00, 26.47batch/s, Loss=0.178] \n"
     ]
    },
    {
     "name": "stdout",
     "output_type": "stream",
     "text": [
      "model state saved\n"
     ]
    },
    {
     "name": "stderr",
     "output_type": "stream",
     "text": [
      "Epoch 42/128: 100%|██████████| 138/138 [00:05<00:00, 25.56batch/s, Loss=0.654] \n",
      "Epoch 43/128: 100%|██████████| 138/138 [00:05<00:00, 26.16batch/s, Loss=0.0172]\n",
      "Epoch 44/128: 100%|██████████| 138/138 [00:05<00:00, 26.18batch/s, Loss=0.0685]\n",
      "Epoch 45/128: 100%|██████████| 138/138 [00:05<00:00, 26.61batch/s, Loss=0.0206]\n",
      "Epoch 46/128: 100%|██████████| 138/138 [00:05<00:00, 26.24batch/s, Loss=0.385]  \n"
     ]
    },
    {
     "name": "stdout",
     "output_type": "stream",
     "text": [
      "model state saved\n"
     ]
    },
    {
     "name": "stderr",
     "output_type": "stream",
     "text": [
      "Epoch 47/128: 100%|██████████| 138/138 [00:05<00:00, 26.53batch/s, Loss=0.0623]\n",
      "Epoch 48/128: 100%|██████████| 138/138 [00:05<00:00, 26.62batch/s, Loss=0.273] \n",
      "Epoch 49/128: 100%|██████████| 138/138 [00:05<00:00, 25.97batch/s, Loss=0.392] \n",
      "Epoch 50/128: 100%|██████████| 138/138 [00:05<00:00, 26.43batch/s, Loss=0.104] \n"
     ]
    },
    {
     "name": "stdout",
     "output_type": "stream",
     "text": [
      "model state saved\n"
     ]
    },
    {
     "name": "stderr",
     "output_type": "stream",
     "text": [
      "Epoch 51/128: 100%|██████████| 138/138 [00:05<00:00, 26.26batch/s, Loss=0.245] \n",
      "Epoch 52/128: 100%|██████████| 138/138 [00:05<00:00, 25.92batch/s, Loss=0.0534]\n",
      "Epoch 53/128: 100%|██████████| 138/138 [00:05<00:00, 26.84batch/s, Loss=0.0407]\n",
      "Epoch 54/128: 100%|██████████| 138/138 [00:05<00:00, 26.70batch/s, Loss=0.312]  \n",
      "Epoch 55/128: 100%|██████████| 138/138 [00:05<00:00, 26.15batch/s, Loss=0.675] \n",
      "Epoch 56/128: 100%|██████████| 138/138 [00:05<00:00, 26.26batch/s, Loss=0.282]  \n"
     ]
    },
    {
     "name": "stdout",
     "output_type": "stream",
     "text": [
      "model state saved\n"
     ]
    },
    {
     "name": "stderr",
     "output_type": "stream",
     "text": [
      "Epoch 57/128: 100%|██████████| 138/138 [00:05<00:00, 26.66batch/s, Loss=0.336] \n",
      "Epoch 58/128: 100%|██████████| 138/138 [00:05<00:00, 26.55batch/s, Loss=0.131] \n",
      "Epoch 59/128: 100%|██████████| 138/138 [00:05<00:00, 26.66batch/s, Loss=0.0279] \n",
      "Epoch 60/128: 100%|██████████| 138/138 [00:05<00:00, 26.35batch/s, Loss=0.0658] \n",
      "Epoch 61/128: 100%|██████████| 138/138 [00:05<00:00, 26.66batch/s, Loss=0.0949] \n",
      "Epoch 62/128: 100%|██████████| 138/138 [00:05<00:00, 26.84batch/s, Loss=0.406] \n",
      "Epoch 63/128: 100%|██████████| 138/138 [00:05<00:00, 26.68batch/s, Loss=0.193] \n",
      "Epoch 64/128: 100%|██████████| 138/138 [00:05<00:00, 26.88batch/s, Loss=0.382]  \n",
      "Epoch 65/128: 100%|██████████| 138/138 [00:05<00:00, 26.41batch/s, Loss=0.0759]\n",
      "Epoch 66/128: 100%|██████████| 138/138 [00:05<00:00, 25.85batch/s, Loss=0.0943]\n",
      "Epoch 67/128: 100%|██████████| 138/138 [00:05<00:00, 26.33batch/s, Loss=0.0252] \n",
      "Epoch 68/128: 100%|██████████| 138/138 [00:05<00:00, 25.94batch/s, Loss=0.0117] \n",
      "Epoch 69/128: 100%|██████████| 138/138 [00:05<00:00, 25.99batch/s, Loss=0.03]  \n",
      "Epoch 70/128: 100%|██████████| 138/138 [00:05<00:00, 26.88batch/s, Loss=0.25]   \n",
      "Epoch 71/128: 100%|██████████| 138/138 [00:05<00:00, 25.68batch/s, Loss=0.332]  \n",
      "Epoch 72/128: 100%|██████████| 138/138 [00:05<00:00, 26.13batch/s, Loss=0.0096] \n",
      "Epoch 73/128: 100%|██████████| 138/138 [00:05<00:00, 25.93batch/s, Loss=1.09]   \n",
      "Epoch 74/128: 100%|██████████| 138/138 [00:05<00:00, 26.30batch/s, Loss=0.00425]\n",
      "Epoch 75/128: 100%|██████████| 138/138 [00:05<00:00, 26.43batch/s, Loss=0.498]  \n",
      "Epoch 76/128: 100%|██████████| 138/138 [00:05<00:00, 26.22batch/s, Loss=1.63]   \n",
      "Epoch 77/128: 100%|██████████| 138/138 [00:05<00:00, 26.18batch/s, Loss=0.21]   \n",
      "Epoch 78/128: 100%|██████████| 138/138 [00:05<00:00, 26.62batch/s, Loss=0.265]  \n",
      "Epoch 79/128: 100%|██████████| 138/138 [00:05<00:00, 26.40batch/s, Loss=0.361]  \n",
      "Epoch 80/128: 100%|██████████| 138/138 [00:05<00:00, 25.93batch/s, Loss=0.0413] \n",
      "Epoch 81/128: 100%|██████████| 138/138 [00:05<00:00, 25.98batch/s, Loss=0.115]  \n",
      "Epoch 82/128: 100%|██████████| 138/138 [00:05<00:00, 26.42batch/s, Loss=3.35]   \n",
      "Epoch 83/128: 100%|██████████| 138/138 [00:05<00:00, 26.41batch/s, Loss=0.509]  \n",
      "Epoch 84/128: 100%|██████████| 138/138 [00:06<00:00, 22.82batch/s, Loss=0.263]  \n",
      "Epoch 85/128: 100%|██████████| 138/138 [00:05<00:00, 26.70batch/s, Loss=0.144]  \n",
      "Epoch 86/128: 100%|██████████| 138/138 [00:05<00:00, 26.59batch/s, Loss=0.00531]\n",
      "Epoch 87/128: 100%|██████████| 138/138 [00:05<00:00, 26.65batch/s, Loss=0.312]  \n",
      "Epoch 88/128: 100%|██████████| 138/138 [00:05<00:00, 26.53batch/s, Loss=0.0025] \n",
      "Epoch 89/128: 100%|██████████| 138/138 [00:05<00:00, 26.19batch/s, Loss=0.823]  \n",
      "Epoch 90/128: 100%|██████████| 138/138 [00:05<00:00, 26.05batch/s, Loss=0.0092] \n",
      "Epoch 91/128: 100%|██████████| 138/138 [00:05<00:00, 26.56batch/s, Loss=0.0209] \n",
      "Epoch 92/128: 100%|██████████| 138/138 [00:05<00:00, 26.21batch/s, Loss=0.0137] \n",
      "Epoch 93/128: 100%|██████████| 138/138 [00:05<00:00, 26.56batch/s, Loss=0.34]   \n",
      "Epoch 94/128: 100%|██████████| 138/138 [00:05<00:00, 26.29batch/s, Loss=0.305]  \n",
      "Epoch 95/128: 100%|██████████| 138/138 [00:05<00:00, 26.34batch/s, Loss=0.00562]\n",
      "Epoch 96/128: 100%|██████████| 138/138 [00:05<00:00, 26.64batch/s, Loss=2.78]   \n",
      "Epoch 97/128: 100%|██████████| 138/138 [00:05<00:00, 26.53batch/s, Loss=0.00399]\n",
      "Epoch 98/128: 100%|██████████| 138/138 [00:05<00:00, 26.37batch/s, Loss=0.196]  \n",
      "Epoch 99/128: 100%|██████████| 138/138 [00:05<00:00, 26.09batch/s, Loss=0.0205] \n",
      "Epoch 100/128: 100%|██████████| 138/138 [00:05<00:00, 26.37batch/s, Loss=0.268]  \n",
      "Epoch 101/128: 100%|██████████| 138/138 [00:05<00:00, 26.66batch/s, Loss=0.0368] \n",
      "Epoch 102/128: 100%|██████████| 138/138 [00:05<00:00, 26.00batch/s, Loss=0.107]  \n",
      "Epoch 103/128: 100%|██████████| 138/138 [00:05<00:00, 25.23batch/s, Loss=0.199]  \n",
      "Epoch 104/128: 100%|██████████| 138/138 [00:05<00:00, 26.65batch/s, Loss=0.106]  \n",
      "Epoch 105/128: 100%|██████████| 138/138 [00:05<00:00, 26.83batch/s, Loss=0.00522]\n",
      "Epoch 106/128: 100%|██████████| 138/138 [00:05<00:00, 26.68batch/s, Loss=0.0417] \n",
      "Epoch 107/128: 100%|██████████| 138/138 [00:06<00:00, 22.14batch/s, Loss=0.0407] \n",
      "Epoch 108/128: 100%|██████████| 138/138 [00:05<00:00, 24.91batch/s, Loss=0.00216]\n",
      "Epoch 109/128: 100%|██████████| 138/138 [00:05<00:00, 24.67batch/s, Loss=0.128]  \n",
      "Epoch 110/128: 100%|██████████| 138/138 [00:05<00:00, 25.87batch/s, Loss=0.574]  \n",
      "Epoch 111/128: 100%|██████████| 138/138 [00:05<00:00, 23.21batch/s, Loss=0.0135] \n",
      "Epoch 112/128: 100%|██████████| 138/138 [00:05<00:00, 24.75batch/s, Loss=0.41]   \n",
      "Epoch 113/128: 100%|██████████| 138/138 [00:05<00:00, 26.54batch/s, Loss=0.00396]\n",
      "Epoch 114/128: 100%|██████████| 138/138 [00:05<00:00, 26.95batch/s, Loss=1.43]   \n",
      "Epoch 115/128: 100%|██████████| 138/138 [00:05<00:00, 26.41batch/s, Loss=0.00767]\n",
      "Epoch 116/128: 100%|██████████| 138/138 [00:05<00:00, 24.97batch/s, Loss=0.929]  \n",
      "Epoch 117/128: 100%|██████████| 138/138 [00:05<00:00, 24.69batch/s, Loss=0.0243] \n",
      "Epoch 118/128: 100%|██████████| 138/138 [00:05<00:00, 26.10batch/s, Loss=0.532]  \n",
      "Epoch 119/128: 100%|██████████| 138/138 [00:05<00:00, 26.35batch/s, Loss=0.00496]\n",
      "Epoch 120/128: 100%|██████████| 138/138 [00:05<00:00, 27.04batch/s, Loss=1.94]   \n",
      "Epoch 121/128: 100%|██████████| 138/138 [00:05<00:00, 26.24batch/s, Loss=0.767]  \n",
      "Epoch 122/128: 100%|██████████| 138/138 [00:05<00:00, 25.77batch/s, Loss=0.06]   \n",
      "Epoch 123/128: 100%|██████████| 138/138 [00:05<00:00, 26.94batch/s, Loss=3.32]   \n",
      "Epoch 124/128: 100%|██████████| 138/138 [00:05<00:00, 26.21batch/s, Loss=0.0126] \n",
      "Epoch 125/128: 100%|██████████| 138/138 [00:05<00:00, 26.91batch/s, Loss=0.323]  \n",
      "Epoch 126/128: 100%|██████████| 138/138 [00:05<00:00, 26.96batch/s, Loss=0.00672]\n",
      "Epoch 127/128: 100%|██████████| 138/138 [00:05<00:00, 26.52batch/s, Loss=0.00627]\n",
      "Epoch 128/128: 100%|██████████| 138/138 [00:05<00:00, 26.88batch/s, Loss=0.197]  \n"
     ]
    },
    {
     "name": "stdout",
     "output_type": "stream",
     "text": [
      "Fine tune completed\n"
     ]
    }
   ],
   "source": [
    "bert_finetune_modelfullpath=os.path.join(bert_finetune_no_pretrain_modelpath,'finetune_bert.pt')\n",
    "# Training loop\n",
    "average_epoch_loss_all=[]\n",
    "acc_train_all=[]\n",
    "acc_val_all=[]\n",
    "best_val_accuracy = 0.0\n",
    "\n",
    "for epoch in range(num_epochs):\n",
    "    classification_model.train()\n",
    "    epoch_loss = 0.0  # Initialize epoch loss\n",
    "    num_batches = len(train_loader)\n",
    "\n",
    "    # Use tqdm to create a progress bar for the training loop\n",
    "    with tqdm(total=num_batches, desc=f'Epoch {epoch + 1}/{num_epochs}', unit='batch') as progress_bar:\n",
    "        for batch_idx, batch in enumerate(train_loader):\n",
    "            input_ids = batch['input_ids'].to(device)\n",
    "            attention_mask = batch['attention_mask'].to(device)\n",
    "            labels = batch['label'].to(device)\n",
    "            # Convert labels to float type\n",
    "            labels = labels.float()\n",
    "            optimizer.zero_grad()\n",
    "            logits = classification_model(input_ids, attention_mask)\n",
    "            probs = torch.sigmoid(logits)\n",
    "            probs_normalized = probs / probs.sum(dim=1, keepdim=True)\n",
    "            loss = criterion(probs_normalized, labels)\n",
    "            loss.backward()\n",
    "            optimizer.step()\n",
    "\n",
    "            epoch_loss += loss.item()\n",
    "\n",
    "            # Update progress bar\n",
    "            progress_bar.set_postfix({'Loss': loss.item()})\n",
    "            progress_bar.update()\n",
    "\n",
    "    # Calculate and print average epoch loss\n",
    "    average_epoch_loss = epoch_loss / num_batches\n",
    "    #print(f'Epoch {epoch + 1} - Average Loss: {average_epoch_loss:.4f}')\n",
    "    average_epoch_loss_all.append(average_epoch_loss)\n",
    "    # Switch to evaluation mode for accuracy calculation\n",
    "    classification_model.eval()\n",
    "    # Calculate training accuracy\n",
    "    accuracy, _ , _ , _= evaluate_binary_accuracy(classification_model, train_loader,device)\n",
    "    acc_train_all.append(accuracy)\n",
    "    # Calculate validation accuracy\n",
    "    v_accuracy, _ , _ , _ = evaluate_binary_accuracy(classification_model, val_loader,device)\n",
    "    acc_val_all.append(v_accuracy)\n",
    "    # Check if current validation accuracy is the best\n",
    "    if v_accuracy > best_val_accuracy:\n",
    "        best_val_accuracy = v_accuracy\n",
    "        torch.save(classification_model.state_dict(),bert_finetune_modelfullpath) # Save the model state\n",
    "        print('model state saved')\n",
    "    # Switch back to training mode for the next epoch\n",
    "    classification_model.train()\n",
    "\n",
    "print('Fine tune completed')"
   ]
  },
  {
   "cell_type": "markdown",
   "metadata": {},
   "source": [
    "Let's plot the training and validation loss"
   ]
  },
  {
   "cell_type": "code",
   "execution_count": 7,
   "metadata": {},
   "outputs": [
    {
     "data": {
      "text/plain": [
       "<function matplotlib.pyplot.show(close=None, block=None)>"
      ]
     },
     "execution_count": 7,
     "metadata": {},
     "output_type": "execute_result"
    },
    {
     "data": {
      "image/png": "[encoded data removed]",
      "text/plain": [
       "<Figure size 640x480 with 1 Axes>"
      ]
     },
     "metadata": {},
     "output_type": "display_data"
    },
    {
     "data": {
      "image/png": "[encoded data removed]",
      "text/plain": [
       "<Figure size 640x480 with 1 Axes>"
      ]
     },
     "metadata": {},
     "output_type": "display_data"
    }
   ],
   "source": [
    "plt.figure()\n",
    "plt.plot(average_epoch_loss_all)\n",
    "plt.xlabel('epoch')\n",
    "plt.ylabel('Avg loss')\n",
    "plt.show\n",
    "\n",
    "\n",
    "plt.figure()\n",
    "plt.plot(acc_train_all,label='Training data')\n",
    "plt.plot(acc_val_all,label='Validation data')\n",
    "plt.legend()\n",
    "plt.xlabel('epoch')\n",
    "plt.ylabel('Accuracy')\n",
    "plt.show"
   ]
  },
  {
   "cell_type": "markdown",
   "metadata": {},
   "source": [
    "### 7. Evaluate model"
   ]
  },
  {
   "cell_type": "code",
   "execution_count": 8,
   "metadata": {},
   "outputs": [
    {
     "name": "stdout",
     "output_type": "stream",
     "text": [
      "Fine tune model loaded\n",
      "Train Binary Accuracy: 85.5072\n",
      "Confusion Matrix:\n",
      "[[62 10]\n",
      " [10 56]]\n",
      "Accuracy: 85.5072463768116\n",
      "Sensitivity (Recall): 84.84848484848484\n",
      "Specificity: 86.11111111111111\n",
      "F1 Score: 0.8547513540128017\n",
      "AUC Score: 0.9210858585858587\n",
      "\n",
      "\n",
      "Validation Binary Accuracy: 78.5714\n",
      "Confusion Matrix:\n",
      "[[136  32]\n",
      " [ 37 117]]\n",
      "Accuracy: 78.57142857142857\n",
      "Sensitivity (Recall): 75.97402597402598\n",
      "Specificity: 80.95238095238095\n",
      "F1 Score: 0.7838423645320198\n",
      "AUC Score: 0.8525046382189239\n",
      "\n",
      "\n",
      "Test Binary Accuracy: 71.7391\n",
      "Confusion Matrix:\n",
      "[[38 10]\n",
      " [16 28]]\n",
      "Accuracy: 71.73913043478261\n",
      "Sensitivity (Recall): 63.63636363636363\n",
      "Specificity: 79.16666666666666\n",
      "F1 Score: 0.7055702917771883\n",
      "AUC Score: 0.7859848484848485\n",
      "Completed\n"
     ]
    }
   ],
   "source": [
    "best_model_state=torch.load(bert_finetune_modelfullpath, map_location=device)\n",
    "classification_model.load_state_dict(best_model_state,strict=True)\n",
    "classification_model.eval()\n",
    "print('Fine tune model loaded')\n",
    "\n",
    "tr_accuracy, tr_est,tr_labels,tr_scores= evaluate_binary_accuracy(classification_model, train_loader,device)\n",
    "print(f'Train Binary Accuracy: {tr_accuracy:.4f}')\n",
    "perf_metrics(tr_labels, tr_est,tr_scores)\n",
    "print('\\n')\n",
    "v_accuracy,val_est,val_labels, val_scores = evaluate_binary_accuracy(classification_model, val_loader,device)\n",
    "print(f'Validation Binary Accuracy: {v_accuracy:.4f}')\n",
    "perf_metrics(val_labels, val_est,val_scores)\n",
    "print('\\n')\n",
    "test_accuracy,test_est,test_labels, test_scores = evaluate_binary_accuracy(classification_model, test_loader,device)\n",
    "print(f'Test Binary Accuracy: {test_accuracy:.4f}')\n",
    "perf_metrics(test_labels, test_est,test_scores)\n",
    "\n",
    "print('Completed')"
   ]
  }
 ],
 "metadata": {
  "kernelspec": {
   "display_name": "mybertV2",
   "language": "python",
   "name": "python3"
  },
  "language_info": {
   "codemirror_mode": {
    "name": "ipython",
    "version": 3
   },
   "file_extension": ".py",
   "mimetype": "text/x-python",
   "name": "python",
   "nbconvert_exporter": "python",
   "pygments_lexer": "ipython3",
   "version": "3.9.18"
  }
 },
 "nbformat": 4,
 "nbformat_minor": 2
}
