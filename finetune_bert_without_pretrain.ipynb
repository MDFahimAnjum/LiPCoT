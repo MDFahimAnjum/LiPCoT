{
 "cells": [
  {
   "cell_type": "markdown",
   "metadata": {},
   "source": [
    "## Fine Tune a PreTrain a BERT model for Binary classification\n",
    "Before this, the data must be processed, tokenized and prepared.\n",
    "1. `data_processing` notebook loads raw data and prepares training,validation and test dataset\n",
    "2. `data_tokenizer`notebook tokenizes the data using LiPCoT model\n",
    "3. `data_prepare` notebook prepares datasets for BERT models\n",
    "\n",
    "Here, we will use training and validation dataset for fine-tuning. Then test set is used for evaluation\n",
    "### 1. Import libraries"
   ]
  },
  {
   "cell_type": "code",
   "execution_count": 1,
   "metadata": {},
   "outputs": [],
   "source": [
    "import os\n",
    "import joblib\n",
    "from modules.bert_module import *\n",
    "from modules.path_module import *\n",
    "from transformers import BertForMaskedLM\n",
    "from torch import cuda\n",
    "from tqdm import tqdm\n",
    "import torch.optim as optim\n",
    "from torch.utils.data import DataLoader"
   ]
  },
  {
   "cell_type": "markdown",
   "metadata": {},
   "source": [
    "### 2. Load datasets\n",
    "We are going to use the validation set for training the fine-tune model. The training set for the pre-trained model will be used with labels as a validation."
   ]
  },
  {
   "cell_type": "code",
   "execution_count": 9,
   "metadata": {},
   "outputs": [],
   "source": [
    "train_dataset=joblib.load( os.path.join(bert_datapath,\"val_data.joblib\"))\n",
    "val_dataset=joblib.load( os.path.join(bert_datapath,\"train_data.joblib\"))\n",
    "test_dataset=joblib.load(os.path.join(bert_datapath,\"test_data.joblib\"))"
   ]
  },
  {
   "cell_type": "markdown",
   "metadata": {},
   "source": [
    "### 3. Create Fine-tune classification model"
   ]
  },
  {
   "cell_type": "code",
   "execution_count": 10,
   "metadata": {},
   "outputs": [
    {
     "name": "stdout",
     "output_type": "stream",
     "text": [
      "BERT Model initialized\n",
      "Running on: cuda\n",
      "FineTune Model created\n"
     ]
    }
   ],
   "source": [
    "# load pretrain model\n",
    "pretrained_model = BertForMaskedLM.from_pretrained(bert_modelpath)\n",
    "# use config of pretrain model to initialize a new BERT model\n",
    "model = BertForMaskedLM(pretrained_model.config)\n",
    "model.resize_token_embeddings()\n",
    "\n",
    "print('BERT Model initialized')\n",
    "# use GPU\n",
    "device='cuda' if cuda.is_available() else 'cpu'\n",
    "print(\"Running on: \"+device)\n",
    "cuda.empty_cache()\n",
    "\n",
    "# Instantiate the classification model\n",
    "num_classes = 2  # Number of classes in classification task\n",
    "classification_model = BertForSequenceClassification(model, num_classes,device)\n",
    "classification_model.to(device)  # Move model to the device (e.g., GPU if available)\n",
    "print('FineTune Model created')"
   ]
  },
  {
   "cell_type": "markdown",
   "metadata": {},
   "source": [
    "### 4. Configure Training "
   ]
  },
  {
   "cell_type": "code",
   "execution_count": 11,
   "metadata": {},
   "outputs": [],
   "source": [
    "num_epochs = 64 #128\n",
    "training_batch_size=4\n",
    "learning_rate=1.888861270702437e-05\n",
    "# Define optimizer and loss function\n",
    "optimizer = optim.Adam(classification_model.parameters(), lr=learning_rate)\n",
    "criterion = nn.BCELoss()#nn.CrossEntropyLoss()\n",
    "bert_finetune_modelfullpath=os.path.join(bert_finetune_no_pretrain_modelpath,'finetune_bert.pt')\n",
    "\n",
    "random_seed=42\n",
    "patience=80\n",
    "training_arg={\n",
    "    'modelfullpath': bert_finetune_modelfullpath,\n",
    "    'criterion': criterion,\n",
    "    'optimizer': optimizer,\n",
    "    'epochs': num_epochs,\n",
    "    'patience': patience,\n",
    "    'seed': random_seed\n",
    "}"
   ]
  },
  {
   "cell_type": "markdown",
   "metadata": {},
   "source": [
    "### 5. Create DataLoaders"
   ]
  },
  {
   "cell_type": "code",
   "execution_count": 12,
   "metadata": {},
   "outputs": [],
   "source": [
    "train_loader = DataLoader(train_dataset, batch_size=training_batch_size, shuffle=True)\n",
    "val_loader = DataLoader(val_dataset, batch_size=1, shuffle=False)\n",
    "test_loader = DataLoader(test_dataset, batch_size=1, shuffle=False)"
   ]
  },
  {
   "cell_type": "markdown",
   "metadata": {},
   "source": [
    "### 6. Train and evaluate via validation set\n",
    "We train using the training set and save the model that gives the best performance on the validation set"
   ]
  },
  {
   "cell_type": "code",
   "execution_count": 13,
   "metadata": {},
   "outputs": [
    {
     "name": "stderr",
     "output_type": "stream",
     "text": [
      "Epoch 1/64: 100%|██████████| 35/35 [00:01<00:00, 19.88batch/s, Loss=0.739]\n"
     ]
    },
    {
     "name": "stdout",
     "output_type": "stream",
     "text": [
      "model state saved with validation accuracy: 52.1739\n"
     ]
    },
    {
     "name": "stderr",
     "output_type": "stream",
     "text": [
      "Epoch 2/64: 100%|██████████| 35/35 [00:01<00:00, 19.96batch/s, Loss=0.691]\n",
      "Epoch 3/64: 100%|██████████| 35/35 [00:01<00:00, 21.17batch/s, Loss=0.686]\n",
      "Epoch 4/64: 100%|██████████| 35/35 [00:01<00:00, 20.62batch/s, Loss=0.72] \n",
      "Epoch 5/64: 100%|██████████| 35/35 [00:01<00:00, 20.88batch/s, Loss=0.693]\n",
      "Epoch 6/64: 100%|██████████| 35/35 [00:01<00:00, 19.79batch/s, Loss=0.709]\n",
      "Epoch 7/64: 100%|██████████| 35/35 [00:01<00:00, 20.48batch/s, Loss=0.696]\n",
      "Epoch 8/64: 100%|██████████| 35/35 [00:01<00:00, 21.40batch/s, Loss=0.665]\n",
      "Epoch 9/64: 100%|██████████| 35/35 [00:01<00:00, 22.04batch/s, Loss=0.689]\n",
      "Epoch 10/64: 100%|██████████| 35/35 [00:01<00:00, 20.09batch/s, Loss=0.707]\n",
      "Epoch 11/64: 100%|██████████| 35/35 [00:01<00:00, 20.69batch/s, Loss=0.675]\n",
      "Epoch 12/64: 100%|██████████| 35/35 [00:01<00:00, 21.87batch/s, Loss=0.734]\n",
      "Epoch 13/64: 100%|██████████| 35/35 [00:01<00:00, 20.03batch/s, Loss=0.73] \n",
      "Epoch 14/64: 100%|██████████| 35/35 [00:01<00:00, 21.30batch/s, Loss=0.77] \n",
      "Epoch 15/64: 100%|██████████| 35/35 [00:01<00:00, 22.05batch/s, Loss=0.692]\n",
      "Epoch 16/64: 100%|██████████| 35/35 [00:01<00:00, 21.56batch/s, Loss=0.692]\n",
      "Epoch 17/64: 100%|██████████| 35/35 [00:01<00:00, 18.59batch/s, Loss=0.696]\n",
      "Epoch 18/64: 100%|██████████| 35/35 [00:01<00:00, 20.43batch/s, Loss=0.693]\n",
      "Epoch 19/64: 100%|██████████| 35/35 [00:01<00:00, 21.20batch/s, Loss=0.692]\n",
      "Epoch 20/64: 100%|██████████| 35/35 [00:01<00:00, 19.91batch/s, Loss=0.692]\n"
     ]
    },
    {
     "name": "stdout",
     "output_type": "stream",
     "text": [
      "model state saved with validation accuracy: 62.4224\n"
     ]
    },
    {
     "name": "stderr",
     "output_type": "stream",
     "text": [
      "Epoch 21/64: 100%|██████████| 35/35 [00:01<00:00, 20.21batch/s, Loss=0.691]\n",
      "Epoch 22/64: 100%|██████████| 35/35 [00:01<00:00, 21.54batch/s, Loss=0.696]\n",
      "Epoch 23/64: 100%|██████████| 35/35 [00:02<00:00, 17.24batch/s, Loss=0.687]\n",
      "Epoch 24/64: 100%|██████████| 35/35 [00:01<00:00, 21.21batch/s, Loss=0.709]\n",
      "Epoch 25/64: 100%|██████████| 35/35 [00:01<00:00, 21.27batch/s, Loss=0.69] \n",
      "Epoch 26/64: 100%|██████████| 35/35 [00:01<00:00, 21.51batch/s, Loss=0.711]\n",
      "Epoch 27/64: 100%|██████████| 35/35 [00:01<00:00, 22.02batch/s, Loss=0.608]\n",
      "Epoch 28/64: 100%|██████████| 35/35 [00:01<00:00, 19.99batch/s, Loss=0.693]\n",
      "Epoch 29/64: 100%|██████████| 35/35 [00:01<00:00, 20.38batch/s, Loss=0.692]\n",
      "Epoch 30/64: 100%|██████████| 35/35 [00:01<00:00, 21.48batch/s, Loss=0.706]\n"
     ]
    },
    {
     "name": "stdout",
     "output_type": "stream",
     "text": [
      "model state saved with validation accuracy: 64.2857\n"
     ]
    },
    {
     "name": "stderr",
     "output_type": "stream",
     "text": [
      "Epoch 31/64: 100%|██████████| 35/35 [00:01<00:00, 20.94batch/s, Loss=0.481]\n"
     ]
    },
    {
     "name": "stdout",
     "output_type": "stream",
     "text": [
      "model state saved with validation accuracy: 68.0124\n"
     ]
    },
    {
     "name": "stderr",
     "output_type": "stream",
     "text": [
      "Epoch 32/64: 100%|██████████| 35/35 [00:01<00:00, 20.84batch/s, Loss=0.617] \n",
      "Epoch 33/64: 100%|██████████| 35/35 [00:01<00:00, 21.32batch/s, Loss=0.571]\n",
      "Epoch 34/64: 100%|██████████| 35/35 [00:01<00:00, 20.59batch/s, Loss=0.0501]\n",
      "Epoch 35/64: 100%|██████████| 35/35 [00:01<00:00, 21.15batch/s, Loss=0.871] \n",
      "Epoch 36/64: 100%|██████████| 35/35 [00:01<00:00, 21.53batch/s, Loss=0.559] \n",
      "Epoch 37/64: 100%|██████████| 35/35 [00:01<00:00, 21.77batch/s, Loss=0.227] \n"
     ]
    },
    {
     "name": "stdout",
     "output_type": "stream",
     "text": [
      "model state saved with validation accuracy: 70.8075\n"
     ]
    },
    {
     "name": "stderr",
     "output_type": "stream",
     "text": [
      "Epoch 38/64: 100%|██████████| 35/35 [00:01<00:00, 21.28batch/s, Loss=0.053] \n",
      "Epoch 39/64: 100%|██████████| 35/35 [00:01<00:00, 21.91batch/s, Loss=0.452] \n",
      "Epoch 40/64: 100%|██████████| 35/35 [00:01<00:00, 20.93batch/s, Loss=0.625] \n",
      "Epoch 41/64: 100%|██████████| 35/35 [00:01<00:00, 19.48batch/s, Loss=0.0504]\n",
      "Epoch 42/64: 100%|██████████| 35/35 [00:01<00:00, 21.58batch/s, Loss=0.0229]\n",
      "Epoch 43/64: 100%|██████████| 35/35 [00:01<00:00, 21.00batch/s, Loss=0.0405]\n"
     ]
    },
    {
     "name": "stdout",
     "output_type": "stream",
     "text": [
      "model state saved with validation accuracy: 71.4286\n"
     ]
    },
    {
     "name": "stderr",
     "output_type": "stream",
     "text": [
      "Epoch 44/64: 100%|██████████| 35/35 [00:01<00:00, 20.55batch/s, Loss=0.542] \n",
      "Epoch 45/64: 100%|██████████| 35/35 [00:01<00:00, 21.20batch/s, Loss=0.778]  \n",
      "Epoch 46/64: 100%|██████████| 35/35 [00:01<00:00, 20.17batch/s, Loss=0.0391]\n",
      "Epoch 47/64: 100%|██████████| 35/35 [00:01<00:00, 20.17batch/s, Loss=0.103] \n",
      "Epoch 48/64: 100%|██████████| 35/35 [00:01<00:00, 20.05batch/s, Loss=0.0766]\n",
      "Epoch 49/64: 100%|██████████| 35/35 [00:01<00:00, 21.18batch/s, Loss=0.0147]\n"
     ]
    },
    {
     "name": "stdout",
     "output_type": "stream",
     "text": [
      "model state saved with validation accuracy: 71.7391\n"
     ]
    },
    {
     "name": "stderr",
     "output_type": "stream",
     "text": [
      "Epoch 50/64: 100%|██████████| 35/35 [00:01<00:00, 21.85batch/s, Loss=0.629] \n",
      "Epoch 51/64: 100%|██████████| 35/35 [00:01<00:00, 20.12batch/s, Loss=0.00526]\n",
      "Epoch 52/64: 100%|██████████| 35/35 [00:01<00:00, 20.92batch/s, Loss=0.179] \n",
      "Epoch 53/64: 100%|██████████| 35/35 [00:01<00:00, 21.36batch/s, Loss=0.0403] \n",
      "Epoch 54/64: 100%|██████████| 35/35 [00:01<00:00, 20.68batch/s, Loss=0.0411]\n",
      "Epoch 55/64: 100%|██████████| 35/35 [00:01<00:00, 21.64batch/s, Loss=0.134]  \n",
      "Epoch 56/64: 100%|██████████| 35/35 [00:01<00:00, 20.85batch/s, Loss=0.0576] \n",
      "Epoch 57/64: 100%|██████████| 35/35 [00:01<00:00, 21.20batch/s, Loss=0.631]  \n",
      "Epoch 58/64: 100%|██████████| 35/35 [00:01<00:00, 20.83batch/s, Loss=0.101] \n",
      "Epoch 59/64: 100%|██████████| 35/35 [00:01<00:00, 20.47batch/s, Loss=0.00836]\n",
      "Epoch 60/64: 100%|██████████| 35/35 [00:01<00:00, 22.05batch/s, Loss=0.0671]\n",
      "Epoch 61/64: 100%|██████████| 35/35 [00:01<00:00, 20.05batch/s, Loss=0.0613] \n",
      "Epoch 62/64: 100%|██████████| 35/35 [00:01<00:00, 21.88batch/s, Loss=0.0386] \n",
      "Epoch 63/64: 100%|██████████| 35/35 [00:01<00:00, 20.86batch/s, Loss=0.00296]\n",
      "Epoch 64/64: 100%|██████████| 35/35 [00:01<00:00, 20.92batch/s, Loss=0.00163]\n"
     ]
    },
    {
     "name": "stdout",
     "output_type": "stream",
     "text": [
      "Fine tune completed\n"
     ]
    }
   ],
   "source": [
    "results= model_trainer(classification_model,train_loader,val_loader,training_arg,device)"
   ]
  },
  {
   "cell_type": "markdown",
   "metadata": {},
   "source": [
    "Let's plot the training and validation loss"
   ]
  },
  {
   "cell_type": "code",
   "execution_count": 14,
   "metadata": {},
   "outputs": [
    {
     "data": {
      "image/png": "[encoded data removed]",
      "text/plain": [
       "<Figure size 640x480 with 1 Axes>"
      ]
     },
     "metadata": {},
     "output_type": "display_data"
    },
    {
     "data": {
      "image/png": "[encoded data removed]",
      "text/plain": [
       "<Figure size 640x480 with 1 Axes>"
      ]
     },
     "metadata": {},
     "output_type": "display_data"
    }
   ],
   "source": [
    "plt.figure()\n",
    "plt.plot(results['epoch_loss'])\n",
    "plt.xlabel('epoch')\n",
    "plt.ylabel('Avg loss')\n",
    "plt.show()\n",
    "\n",
    "\n",
    "plt.figure()\n",
    "plt.plot(results['training_acc'],label='Training data')\n",
    "plt.plot(results['validation_acc'],label='Validation data')\n",
    "plt.legend()\n",
    "plt.xlabel('epoch')\n",
    "plt.ylabel('Accuracy')\n",
    "plt.show()"
   ]
  },
  {
   "cell_type": "markdown",
   "metadata": {},
   "source": [
    "### 7. Evaluate model"
   ]
  },
  {
   "cell_type": "code",
   "execution_count": 15,
   "metadata": {},
   "outputs": [
    {
     "name": "stdout",
     "output_type": "stream",
     "text": [
      "Fine tune model loaded\n",
      "Train Binary Accuracy: 92.7536\n",
      "Confusion Matrix:\n",
      "[[68  4]\n",
      " [ 6 60]]\n",
      "Accuracy: 92.7536231884058\n",
      "Precision: 93.75\n",
      "Sensitivity (Recall): 90.9090909090909\n",
      "Specificity: 94.44444444444444\n",
      "F1 Score: 0.923076923076923\n",
      "AUC Score: 0.977483164983165\n",
      "\n",
      "\n",
      "Validation Binary Accuracy: 71.7391\n",
      "Confusion Matrix:\n",
      "[[118  50]\n",
      " [ 41 113]]\n",
      "Accuracy: 71.73913043478261\n",
      "Precision: 69.32515337423312\n",
      "Sensitivity (Recall): 73.37662337662337\n",
      "Specificity: 70.23809523809523\n",
      "F1 Score: 0.7129337539432178\n",
      "AUC Score: 0.7830859616573902\n",
      "\n",
      "\n",
      "Test Binary Accuracy: 67.3913\n",
      "Confusion Matrix:\n",
      "[[33 15]\n",
      " [15 29]]\n",
      "Accuracy: 67.3913043478261\n",
      "Precision: 65.9090909090909\n",
      "Sensitivity (Recall): 65.9090909090909\n",
      "Specificity: 68.75\n",
      "F1 Score: 0.6590909090909091\n",
      "AUC Score: 0.7121212121212122\n",
      "Completed\n"
     ]
    }
   ],
   "source": [
    "best_model_state=torch.load(bert_finetune_modelfullpath, map_location=device)\n",
    "classification_model.load_state_dict(best_model_state,strict=True)\n",
    "classification_model.eval()\n",
    "print('Fine tune model loaded')\n",
    "\n",
    "tr_accuracy, tr_est,tr_labels,tr_scores= evaluate_binary_accuracy(classification_model, train_loader,device)\n",
    "print(f'Train Binary Accuracy: {tr_accuracy:.4f}')\n",
    "perf_metrics(tr_labels, tr_est,tr_scores)\n",
    "print('\\n')\n",
    "v_accuracy,val_est,val_labels, val_scores = evaluate_binary_accuracy(classification_model, val_loader,device)\n",
    "print(f'Validation Binary Accuracy: {v_accuracy:.4f}')\n",
    "perf_metrics(val_labels, val_est,val_scores)\n",
    "print('\\n')\n",
    "test_accuracy,test_est,test_labels, test_scores = evaluate_binary_accuracy(classification_model, test_loader,device)\n",
    "print(f'Test Binary Accuracy: {test_accuracy:.4f}')\n",
    "perf_metrics(test_labels, test_est,test_scores)\n",
    "\n",
    "print('Completed')"
   ]
  }
 ],
 "metadata": {
  "kernelspec": {
   "display_name": "mybertV2",
   "language": "python",
   "name": "python3"
  },
  "language_info": {
   "codemirror_mode": {
    "name": "ipython",
    "version": 3
   },
   "file_extension": ".py",
   "mimetype": "text/x-python",
   "name": "python",
   "nbconvert_exporter": "python",
   "pygments_lexer": "ipython3",
   "version": "3.9.18"
  }
 },
 "nbformat": 4,
 "nbformat_minor": 2
}
