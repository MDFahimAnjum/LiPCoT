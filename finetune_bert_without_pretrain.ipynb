{
 "cells": [
  {
   "cell_type": "markdown",
   "metadata": {},
   "source": [
    "## Fine Tune a PreTrain a BERT model for Binary classification\n",
    "Before this, the data must be processed, tokenized and prepared.\n",
    "1. `data_processing` notebook loads raw data and prepares training,validation and test dataset\n",
    "2. `data_tokenizer`notebook tokenizes the data using LiPCoT model\n",
    "3. `data_prepare` notebook prepares datasets for BERT models\n",
    "\n",
    "Here, we will use training and validation dataset for fine-tuning. Then test set is used for evaluation\n",
    "### 1. Import libraries"
   ]
  },
  {
   "cell_type": "code",
   "execution_count": 8,
   "metadata": {},
   "outputs": [],
   "source": [
    "import os\n",
    "import joblib\n",
    "from modules.bert_module import *\n",
    "from modules.path_module import *\n",
    "from transformers import BertForMaskedLM\n",
    "from torch import cuda\n",
    "from tqdm import tqdm\n",
    "import torch.optim as optim\n",
    "from torch.utils.data import DataLoader"
   ]
  },
  {
   "cell_type": "markdown",
   "metadata": {},
   "source": [
    "### 2. Load datasets\n",
    "We are going to use the validation set for training the fine-tune model. The training set for the pre-trained model will be used with labels as a validation."
   ]
  },
  {
   "cell_type": "code",
   "execution_count": 9,
   "metadata": {},
   "outputs": [],
   "source": [
    "train_dataset=joblib.load( os.path.join(bert_datapath,\"val_data.joblib\"))\n",
    "val_dataset=joblib.load( os.path.join(bert_datapath,\"train_data.joblib\"))\n",
    "test_dataset=joblib.load(os.path.join(bert_datapath,\"test_data.joblib\"))"
   ]
  },
  {
   "cell_type": "markdown",
   "metadata": {},
   "source": [
    "### 3. Create Fine-tune classification model"
   ]
  },
  {
   "cell_type": "code",
   "execution_count": 10,
   "metadata": {},
   "outputs": [
    {
     "name": "stdout",
     "output_type": "stream",
     "text": [
      "BERT Model initialized\n",
      "Running on: cuda\n",
      "FineTune Model created\n"
     ]
    }
   ],
   "source": [
    "# load pretrain model\n",
    "pretrained_model = BertForMaskedLM.from_pretrained(bert_modelpath)\n",
    "# use config of pretrain model to initialize a new BERT model\n",
    "model = BertForMaskedLM(pretrained_model.config)\n",
    "model.resize_token_embeddings()\n",
    "\n",
    "print('BERT Model initialized')\n",
    "# use GPU\n",
    "device='cuda' if cuda.is_available() else 'cpu'\n",
    "print(\"Running on: \"+device)\n",
    "cuda.empty_cache()\n",
    "\n",
    "# Instantiate the classification model\n",
    "num_classes = 2  # Number of classes in classification task\n",
    "classification_model = BertForSequenceClassification(model, num_classes,device)\n",
    "classification_model.to(device)  # Move model to the device (e.g., GPU if available)\n",
    "print('FineTune Model created')"
   ]
  },
  {
   "cell_type": "markdown",
   "metadata": {},
   "source": [
    "### 4. Configure Training "
   ]
  },
  {
   "cell_type": "code",
   "execution_count": 11,
   "metadata": {},
   "outputs": [],
   "source": [
    "num_epochs = 128 #128\n",
    "training_batch_size=1\n",
    "learning_rate=5e-6 #5e-6#2e-6\n",
    "# Define optimizer and loss function\n",
    "optimizer = optim.Adam(classification_model.parameters(), lr=learning_rate)\n",
    "criterion = nn.BCELoss()#nn.CrossEntropyLoss()"
   ]
  },
  {
   "cell_type": "markdown",
   "metadata": {},
   "source": [
    "### 5. Create DataLoaders"
   ]
  },
  {
   "cell_type": "code",
   "execution_count": 12,
   "metadata": {},
   "outputs": [],
   "source": [
    "train_loader = DataLoader(train_dataset, batch_size=training_batch_size, shuffle=True)\n",
    "val_loader = DataLoader(val_dataset, batch_size=1, shuffle=False)\n",
    "test_loader = DataLoader(test_dataset, batch_size=1, shuffle=False)"
   ]
  },
  {
   "cell_type": "markdown",
   "metadata": {},
   "source": [
    "### 6. Train and evaluate via validation set\n",
    "We train using the training set and save the model that gives the best performance on the validation set"
   ]
  },
  {
   "cell_type": "code",
   "execution_count": 9,
   "metadata": {},
   "outputs": [
    {
     "name": "stderr",
     "output_type": "stream",
     "text": [
      "Epoch 1/128: 100%|██████████| 138/138 [00:05<00:00, 26.78batch/s, Loss=0.535]\n"
     ]
    },
    {
     "name": "stdout",
     "output_type": "stream",
     "text": [
      "model state saved\n"
     ]
    },
    {
     "name": "stderr",
     "output_type": "stream",
     "text": [
      "Epoch 2/128: 100%|██████████| 138/138 [00:05<00:00, 25.25batch/s, Loss=0.553]\n",
      "Epoch 3/128: 100%|██████████| 138/138 [00:05<00:00, 26.20batch/s, Loss=0.676]\n",
      "Epoch 4/128: 100%|██████████| 138/138 [00:05<00:00, 26.58batch/s, Loss=0.723]\n",
      "Epoch 5/128: 100%|██████████| 138/138 [00:05<00:00, 26.55batch/s, Loss=0.792]\n",
      "Epoch 6/128: 100%|██████████| 138/138 [00:05<00:00, 26.84batch/s, Loss=0.743]\n"
     ]
    },
    {
     "name": "stdout",
     "output_type": "stream",
     "text": [
      "model state saved\n"
     ]
    },
    {
     "name": "stderr",
     "output_type": "stream",
     "text": [
      "Epoch 7/128: 100%|██████████| 138/138 [00:05<00:00, 26.54batch/s, Loss=0.629]\n",
      "Epoch 8/128: 100%|██████████| 138/138 [00:05<00:00, 26.88batch/s, Loss=0.658]\n"
     ]
    },
    {
     "name": "stdout",
     "output_type": "stream",
     "text": [
      "model state saved\n"
     ]
    },
    {
     "name": "stderr",
     "output_type": "stream",
     "text": [
      "Epoch 9/128: 100%|██████████| 138/138 [00:05<00:00, 26.08batch/s, Loss=0.685]\n"
     ]
    },
    {
     "name": "stdout",
     "output_type": "stream",
     "text": [
      "model state saved\n"
     ]
    },
    {
     "name": "stderr",
     "output_type": "stream",
     "text": [
      "Epoch 10/128: 100%|██████████| 138/138 [00:05<00:00, 26.15batch/s, Loss=0.683]\n",
      "Epoch 11/128: 100%|██████████| 138/138 [00:05<00:00, 27.05batch/s, Loss=0.614]\n",
      "Epoch 12/128: 100%|██████████| 138/138 [00:05<00:00, 26.63batch/s, Loss=0.606]\n",
      "Epoch 13/128: 100%|██████████| 138/138 [00:05<00:00, 26.98batch/s, Loss=0.347]\n",
      "Epoch 14/128: 100%|██████████| 138/138 [00:05<00:00, 26.60batch/s, Loss=0.326]\n",
      "Epoch 15/128: 100%|██████████| 138/138 [00:05<00:00, 27.15batch/s, Loss=1.41] \n"
     ]
    },
    {
     "name": "stdout",
     "output_type": "stream",
     "text": [
      "model state saved\n"
     ]
    },
    {
     "name": "stderr",
     "output_type": "stream",
     "text": [
      "Epoch 16/128: 100%|██████████| 138/138 [00:05<00:00, 26.90batch/s, Loss=0.182] \n",
      "Epoch 17/128: 100%|██████████| 138/138 [00:05<00:00, 26.22batch/s, Loss=1.51]  \n",
      "Epoch 18/128: 100%|██████████| 138/138 [00:05<00:00, 26.88batch/s, Loss=0.743] \n",
      "Epoch 19/128: 100%|██████████| 138/138 [00:05<00:00, 26.34batch/s, Loss=0.163] \n",
      "Epoch 20/128: 100%|██████████| 138/138 [00:05<00:00, 26.60batch/s, Loss=0.256] \n",
      "Epoch 21/128: 100%|██████████| 138/138 [00:05<00:00, 27.03batch/s, Loss=0.947] \n",
      "Epoch 22/128: 100%|██████████| 138/138 [00:05<00:00, 27.10batch/s, Loss=0.176]  \n",
      "Epoch 23/128: 100%|██████████| 138/138 [00:05<00:00, 26.82batch/s, Loss=0.332]  \n",
      "Epoch 24/128: 100%|██████████| 138/138 [00:05<00:00, 25.93batch/s, Loss=0.31]  \n",
      "Epoch 25/128: 100%|██████████| 138/138 [00:05<00:00, 26.73batch/s, Loss=0.795] \n",
      "Epoch 26/128: 100%|██████████| 138/138 [00:05<00:00, 27.23batch/s, Loss=0.256] \n",
      "Epoch 27/128: 100%|██████████| 138/138 [00:05<00:00, 27.19batch/s, Loss=0.316]  \n",
      "Epoch 28/128: 100%|██████████| 138/138 [00:05<00:00, 26.87batch/s, Loss=0.354]  \n",
      "Epoch 29/128: 100%|██████████| 138/138 [00:05<00:00, 26.96batch/s, Loss=0.33]  \n",
      "Epoch 30/128: 100%|██████████| 138/138 [00:05<00:00, 27.01batch/s, Loss=0.00914]\n",
      "Epoch 31/128: 100%|██████████| 138/138 [00:05<00:00, 26.84batch/s, Loss=0.18]  \n",
      "Epoch 32/128: 100%|██████████| 138/138 [00:05<00:00, 26.91batch/s, Loss=0.437]  \n",
      "Epoch 33/128: 100%|██████████| 138/138 [00:05<00:00, 27.23batch/s, Loss=0.00966]\n",
      "Epoch 34/128: 100%|██████████| 138/138 [00:05<00:00, 26.73batch/s, Loss=0.586]  \n",
      "Epoch 35/128: 100%|██████████| 138/138 [00:05<00:00, 26.60batch/s, Loss=0.192]  \n",
      "Epoch 36/128: 100%|██████████| 138/138 [00:05<00:00, 27.18batch/s, Loss=0.363]  \n",
      "Epoch 37/128: 100%|██████████| 138/138 [00:05<00:00, 26.77batch/s, Loss=0.514] \n"
     ]
    },
    {
     "name": "stdout",
     "output_type": "stream",
     "text": [
      "model state saved\n"
     ]
    },
    {
     "name": "stderr",
     "output_type": "stream",
     "text": [
      "Epoch 38/128: 100%|██████████| 138/138 [00:05<00:00, 26.81batch/s, Loss=0.034]  \n",
      "Epoch 39/128: 100%|██████████| 138/138 [00:05<00:00, 27.22batch/s, Loss=0.287]  \n",
      "Epoch 40/128: 100%|██████████| 138/138 [00:05<00:00, 26.97batch/s, Loss=0.335] \n",
      "Epoch 41/128: 100%|██████████| 138/138 [00:05<00:00, 27.25batch/s, Loss=2.12]   \n",
      "Epoch 42/128: 100%|██████████| 138/138 [00:05<00:00, 27.21batch/s, Loss=0.0147] \n",
      "Epoch 43/128: 100%|██████████| 138/138 [00:05<00:00, 26.96batch/s, Loss=0.766]  \n",
      "Epoch 44/128: 100%|██████████| 138/138 [00:05<00:00, 27.22batch/s, Loss=3.8]    \n",
      "Epoch 45/128: 100%|██████████| 138/138 [00:05<00:00, 27.19batch/s, Loss=0.378]  \n"
     ]
    },
    {
     "name": "stdout",
     "output_type": "stream",
     "text": [
      "model state saved\n"
     ]
    },
    {
     "name": "stderr",
     "output_type": "stream",
     "text": [
      "Epoch 46/128: 100%|██████████| 138/138 [00:05<00:00, 25.82batch/s, Loss=0.279]  \n",
      "Epoch 47/128: 100%|██████████| 138/138 [00:05<00:00, 26.98batch/s, Loss=0.235]  \n",
      "Epoch 48/128: 100%|██████████| 138/138 [00:05<00:00, 27.05batch/s, Loss=0.152]  \n",
      "Epoch 49/128: 100%|██████████| 138/138 [00:05<00:00, 26.70batch/s, Loss=0.187]  \n",
      "Epoch 50/128: 100%|██████████| 138/138 [00:05<00:00, 27.11batch/s, Loss=0.294] \n",
      "Epoch 51/128: 100%|██████████| 138/138 [00:05<00:00, 26.68batch/s, Loss=1.86]   \n",
      "Epoch 52/128: 100%|██████████| 138/138 [00:05<00:00, 26.41batch/s, Loss=0.167]  \n",
      "Epoch 53/128: 100%|██████████| 138/138 [00:05<00:00, 27.21batch/s, Loss=0.198]  \n",
      "Epoch 54/128: 100%|██████████| 138/138 [00:05<00:00, 27.19batch/s, Loss=0.17]   \n",
      "Epoch 55/128: 100%|██████████| 138/138 [00:05<00:00, 26.73batch/s, Loss=0.249]  \n",
      "Epoch 56/128: 100%|██████████| 138/138 [00:05<00:00, 26.96batch/s, Loss=0.731]  \n",
      "Epoch 57/128: 100%|██████████| 138/138 [00:05<00:00, 27.16batch/s, Loss=0.328]  \n",
      "Epoch 58/128: 100%|██████████| 138/138 [00:05<00:00, 26.83batch/s, Loss=0.163]  \n",
      "Epoch 59/128: 100%|██████████| 138/138 [00:05<00:00, 27.02batch/s, Loss=0.183]  \n",
      "Epoch 60/128: 100%|██████████| 138/138 [00:05<00:00, 27.11batch/s, Loss=0.934]  \n",
      "Epoch 61/128: 100%|██████████| 138/138 [00:05<00:00, 26.94batch/s, Loss=0.011]  \n",
      "Epoch 62/128: 100%|██████████| 138/138 [00:05<00:00, 27.15batch/s, Loss=0.234]  \n",
      "Epoch 63/128: 100%|██████████| 138/138 [00:05<00:00, 27.19batch/s, Loss=0.0134] \n",
      "Epoch 64/128: 100%|██████████| 138/138 [00:05<00:00, 26.93batch/s, Loss=0.2]    \n",
      "Epoch 65/128: 100%|██████████| 138/138 [00:05<00:00, 27.11batch/s, Loss=0.3]    \n",
      "Epoch 66/128: 100%|██████████| 138/138 [00:05<00:00, 27.21batch/s, Loss=0.11]   \n",
      "Epoch 67/128: 100%|██████████| 138/138 [00:05<00:00, 26.49batch/s, Loss=0.174]  \n",
      "Epoch 68/128: 100%|██████████| 138/138 [00:05<00:00, 26.76batch/s, Loss=0.00917]\n",
      "Epoch 69/128: 100%|██████████| 138/138 [00:05<00:00, 27.13batch/s, Loss=0.00622]\n",
      "Epoch 70/128: 100%|██████████| 138/138 [00:05<00:00, 26.63batch/s, Loss=0.0128] \n",
      "Epoch 71/128: 100%|██████████| 138/138 [00:05<00:00, 27.39batch/s, Loss=0.0289] \n",
      "Epoch 72/128: 100%|██████████| 138/138 [00:05<00:00, 27.45batch/s, Loss=0.308]  \n",
      "Epoch 73/128: 100%|██████████| 138/138 [00:05<00:00, 27.00batch/s, Loss=0.00456]\n",
      "Epoch 74/128: 100%|██████████| 138/138 [00:05<00:00, 27.20batch/s, Loss=1.1]    \n",
      "Epoch 75/128: 100%|██████████| 138/138 [00:05<00:00, 27.40batch/s, Loss=0.0014] \n",
      "Epoch 76/128: 100%|██████████| 138/138 [00:05<00:00, 26.81batch/s, Loss=0.00542]\n",
      "Epoch 77/128: 100%|██████████| 138/138 [00:05<00:00, 27.11batch/s, Loss=0.285]  \n",
      "Epoch 78/128: 100%|██████████| 138/138 [00:05<00:00, 27.30batch/s, Loss=0.0933] \n",
      "Epoch 79/128: 100%|██████████| 138/138 [00:05<00:00, 26.38batch/s, Loss=0.178]  \n",
      "Epoch 80/128: 100%|██████████| 138/138 [00:05<00:00, 26.95batch/s, Loss=1.84]   \n",
      "Epoch 81/128: 100%|██████████| 138/138 [00:05<00:00, 26.64batch/s, Loss=0.0767] \n",
      "Epoch 82/128: 100%|██████████| 138/138 [00:05<00:00, 27.21batch/s, Loss=2.28]   \n",
      "Epoch 83/128: 100%|██████████| 138/138 [00:05<00:00, 27.16batch/s, Loss=0.264]  \n",
      "Epoch 84/128: 100%|██████████| 138/138 [00:05<00:00, 26.68batch/s, Loss=0.132]  \n",
      "Epoch 85/128: 100%|██████████| 138/138 [00:05<00:00, 26.87batch/s, Loss=0.0522] \n",
      "Epoch 86/128: 100%|██████████| 138/138 [00:05<00:00, 27.23batch/s, Loss=0.22]   \n",
      "Epoch 87/128: 100%|██████████| 138/138 [00:05<00:00, 26.61batch/s, Loss=0.0532] \n"
     ]
    },
    {
     "name": "stdout",
     "output_type": "stream",
     "text": [
      "model state saved\n"
     ]
    },
    {
     "name": "stderr",
     "output_type": "stream",
     "text": [
      "Epoch 88/128: 100%|██████████| 138/138 [00:05<00:00, 27.00batch/s, Loss=0.202]  \n",
      "Epoch 89/128: 100%|██████████| 138/138 [00:05<00:00, 27.13batch/s, Loss=0.0606] \n",
      "Epoch 90/128: 100%|██████████| 138/138 [00:05<00:00, 27.35batch/s, Loss=0.0664] \n",
      "Epoch 91/128: 100%|██████████| 138/138 [00:05<00:00, 26.99batch/s, Loss=0.386]  \n",
      "Epoch 92/128: 100%|██████████| 138/138 [00:05<00:00, 27.35batch/s, Loss=0.0679] \n",
      "Epoch 93/128: 100%|██████████| 138/138 [00:05<00:00, 26.94batch/s, Loss=0.051]  \n",
      "Epoch 94/128: 100%|██████████| 138/138 [00:05<00:00, 27.24batch/s, Loss=0.122]  \n",
      "Epoch 95/128: 100%|██████████| 138/138 [00:05<00:00, 27.07batch/s, Loss=0.00737]\n",
      "Epoch 96/128: 100%|██████████| 138/138 [00:05<00:00, 27.20batch/s, Loss=1.28]   \n",
      "Epoch 97/128: 100%|██████████| 138/138 [00:05<00:00, 27.24batch/s, Loss=0.0155] \n",
      "Epoch 98/128: 100%|██████████| 138/138 [00:05<00:00, 27.08batch/s, Loss=0.0207] \n",
      "Epoch 99/128: 100%|██████████| 138/138 [00:05<00:00, 27.03batch/s, Loss=0.0507] \n",
      "Epoch 100/128: 100%|██████████| 138/138 [00:05<00:00, 27.01batch/s, Loss=4.53]   \n",
      "Epoch 101/128: 100%|██████████| 138/138 [00:05<00:00, 27.01batch/s, Loss=0.105]  \n",
      "Epoch 102/128: 100%|██████████| 138/138 [00:05<00:00, 27.01batch/s, Loss=0.139]  \n",
      "Epoch 103/128: 100%|██████████| 138/138 [00:05<00:00, 27.03batch/s, Loss=0.11]   \n",
      "Epoch 104/128: 100%|██████████| 138/138 [00:05<00:00, 26.81batch/s, Loss=0.269]  \n",
      "Epoch 105/128: 100%|██████████| 138/138 [00:05<00:00, 27.02batch/s, Loss=0.0281] \n",
      "Epoch 106/128: 100%|██████████| 138/138 [00:05<00:00, 27.27batch/s, Loss=0.633]  \n",
      "Epoch 107/128: 100%|██████████| 138/138 [00:05<00:00, 27.10batch/s, Loss=0.404]  \n",
      "Epoch 108/128: 100%|██████████| 138/138 [00:05<00:00, 27.25batch/s, Loss=0.115]  \n",
      "Epoch 109/128: 100%|██████████| 138/138 [00:05<00:00, 26.93batch/s, Loss=0.0112] \n",
      "Epoch 110/128: 100%|██████████| 138/138 [00:05<00:00, 27.16batch/s, Loss=0.00462]\n",
      "Epoch 111/128: 100%|██████████| 138/138 [00:05<00:00, 27.15batch/s, Loss=0.016]  \n",
      "Epoch 112/128: 100%|██████████| 138/138 [00:05<00:00, 26.96batch/s, Loss=0.32]   \n",
      "Epoch 113/128: 100%|██████████| 138/138 [00:05<00:00, 27.02batch/s, Loss=1.14]   \n",
      "Epoch 114/128: 100%|██████████| 138/138 [00:05<00:00, 26.78batch/s, Loss=0.0104] \n",
      "Epoch 115/128: 100%|██████████| 138/138 [00:05<00:00, 27.02batch/s, Loss=0.00781]\n",
      "Epoch 116/128: 100%|██████████| 138/138 [00:05<00:00, 27.13batch/s, Loss=0.258]  \n",
      "Epoch 117/128: 100%|██████████| 138/138 [00:05<00:00, 26.91batch/s, Loss=0.0135] \n",
      "Epoch 118/128: 100%|██████████| 138/138 [00:05<00:00, 26.78batch/s, Loss=0.0395] \n",
      "Epoch 119/128: 100%|██████████| 138/138 [00:05<00:00, 26.94batch/s, Loss=0.00414]\n",
      "Epoch 120/128: 100%|██████████| 138/138 [00:05<00:00, 26.42batch/s, Loss=0.039]  \n",
      "Epoch 121/128: 100%|██████████| 138/138 [00:05<00:00, 27.09batch/s, Loss=0.00594]\n",
      "Epoch 122/128: 100%|██████████| 138/138 [00:05<00:00, 27.15batch/s, Loss=0.0575] \n",
      "Epoch 123/128: 100%|██████████| 138/138 [00:05<00:00, 27.18batch/s, Loss=0.0501] \n",
      "Epoch 124/128: 100%|██████████| 138/138 [00:05<00:00, 27.10batch/s, Loss=0.00425]\n",
      "Epoch 125/128: 100%|██████████| 138/138 [00:05<00:00, 26.96batch/s, Loss=0.0103] \n",
      "Epoch 126/128: 100%|██████████| 138/138 [00:05<00:00, 26.69batch/s, Loss=0.00549]\n",
      "Epoch 127/128: 100%|██████████| 138/138 [00:05<00:00, 27.20batch/s, Loss=0.0463] \n",
      "Epoch 128/128: 100%|██████████| 138/138 [00:05<00:00, 26.85batch/s, Loss=0.0334] \n"
     ]
    },
    {
     "name": "stdout",
     "output_type": "stream",
     "text": [
      "Fine tune completed\n"
     ]
    }
   ],
   "source": [
    "bert_finetune_modelfullpath=os.path.join(bert_finetune_no_pretrain_modelpath,'finetune_bert.pt')\n",
    "# Training loop\n",
    "average_epoch_loss_all=[]\n",
    "acc_train_all=[]\n",
    "acc_val_all=[]\n",
    "best_val_accuracy = 0.0\n",
    "\n",
    "for epoch in range(num_epochs):\n",
    "    classification_model.train()\n",
    "    epoch_loss = 0.0  # Initialize epoch loss\n",
    "    num_batches = len(train_loader)\n",
    "\n",
    "    # Use tqdm to create a progress bar for the training loop\n",
    "    with tqdm(total=num_batches, desc=f'Epoch {epoch + 1}/{num_epochs}', unit='batch') as progress_bar:\n",
    "        for batch_idx, batch in enumerate(train_loader):\n",
    "            input_ids = batch['input_ids'].to(device)\n",
    "            attention_mask = batch['attention_mask'].to(device)\n",
    "            labels = batch['label'].to(device)\n",
    "            # Convert labels to float type\n",
    "            labels = labels.float()\n",
    "            optimizer.zero_grad()\n",
    "            logits = classification_model(input_ids, attention_mask)\n",
    "            probs = torch.sigmoid(logits)\n",
    "            probs_normalized = probs / probs.sum(dim=1, keepdim=True)\n",
    "            loss = criterion(probs_normalized, labels)\n",
    "            loss.backward()\n",
    "            optimizer.step()\n",
    "\n",
    "            epoch_loss += loss.item()\n",
    "\n",
    "            # Update progress bar\n",
    "            progress_bar.set_postfix({'Loss': loss.item()})\n",
    "            progress_bar.update()\n",
    "\n",
    "    # Calculate and print average epoch loss\n",
    "    average_epoch_loss = epoch_loss / num_batches\n",
    "    #print(f'Epoch {epoch + 1} - Average Loss: {average_epoch_loss:.4f}')\n",
    "    average_epoch_loss_all.append(average_epoch_loss)\n",
    "    # Switch to evaluation mode for accuracy calculation\n",
    "    classification_model.eval()\n",
    "    # Calculate training accuracy\n",
    "    accuracy, _ , _ , _= evaluate_binary_accuracy(classification_model, train_loader,device)\n",
    "    acc_train_all.append(accuracy)\n",
    "    # Calculate validation accuracy\n",
    "    v_accuracy, _ , _ , _ = evaluate_binary_accuracy(classification_model, val_loader,device)\n",
    "    acc_val_all.append(v_accuracy)\n",
    "    # Check if current validation accuracy is the best\n",
    "    if v_accuracy > best_val_accuracy:\n",
    "        best_val_accuracy = v_accuracy\n",
    "        torch.save(classification_model.state_dict(),bert_finetune_modelfullpath) # Save the model state\n",
    "        print('model state saved')\n",
    "    # Switch back to training mode for the next epoch\n",
    "    classification_model.train()\n",
    "\n",
    "print('Fine tune completed')"
   ]
  },
  {
   "cell_type": "markdown",
   "metadata": {},
   "source": [
    "Let's plot the training and validation loss"
   ]
  },
  {
   "cell_type": "code",
   "execution_count": 10,
   "metadata": {},
   "outputs": [
    {
     "data": {
      "text/plain": [
       "<function matplotlib.pyplot.show(close=None, block=None)>"
      ]
     },
     "execution_count": 10,
     "metadata": {},
     "output_type": "execute_result"
    },
    {
     "data": {
      "image/png": "[encoded data removed]",
      "text/plain": [
       "<Figure size 640x480 with 1 Axes>"
      ]
     },
     "metadata": {},
     "output_type": "display_data"
    },
    {
     "data": {
      "image/png": "[encoded data removed]",
      "text/plain": [
       "<Figure size 640x480 with 1 Axes>"
      ]
     },
     "metadata": {},
     "output_type": "display_data"
    }
   ],
   "source": [
    "plt.figure()\n",
    "plt.plot(average_epoch_loss_all)\n",
    "plt.xlabel('epoch')\n",
    "plt.ylabel('Avg loss')\n",
    "plt.show\n",
    "\n",
    "\n",
    "plt.figure()\n",
    "plt.plot(acc_train_all,label='Training data')\n",
    "plt.plot(acc_val_all,label='Validation data')\n",
    "plt.legend()\n",
    "plt.xlabel('epoch')\n",
    "plt.ylabel('Accuracy')\n",
    "plt.show"
   ]
  },
  {
   "cell_type": "markdown",
   "metadata": {},
   "source": [
    "### 7. Evaluate model"
   ]
  },
  {
   "cell_type": "code",
   "execution_count": 13,
   "metadata": {},
   "outputs": [
    {
     "name": "stdout",
     "output_type": "stream",
     "text": [
      "Fine tune model loaded\n",
      "Train Binary Accuracy: 89.1304\n",
      "Confusion Matrix:\n",
      "[[71  1]\n",
      " [14 52]]\n",
      "Accuracy: 89.13043478260869\n",
      "Precision: 98.11320754716981\n",
      "Sensitivity (Recall): 78.78787878787878\n",
      "Specificity: 98.61111111111111\n",
      "F1 Score: 0.8739495798319327\n",
      "AUC Score: 0.9372895622895623\n",
      "\n",
      "\n",
      "Validation Binary Accuracy: 71.7391\n",
      "Confusion Matrix:\n",
      "[[136  32]\n",
      " [ 59  95]]\n",
      "Accuracy: 71.73913043478261\n",
      "Precision: 74.80314960629921\n",
      "Sensitivity (Recall): 61.68831168831169\n",
      "Specificity: 80.95238095238095\n",
      "F1 Score: 0.6761565836298932\n",
      "AUC Score: 0.7137445887445888\n",
      "\n",
      "\n",
      "Test Binary Accuracy: 65.2174\n",
      "Confusion Matrix:\n",
      "[[38 10]\n",
      " [22 22]]\n",
      "Accuracy: 65.21739130434783\n",
      "Precision: 68.75\n",
      "Sensitivity (Recall): 50.0\n",
      "Specificity: 79.16666666666666\n",
      "F1 Score: 0.5789473684210527\n",
      "AUC Score: 0.6396780303030304\n",
      "Completed\n"
     ]
    }
   ],
   "source": [
    "bert_finetune_modelfullpath=os.path.join(bert_finetune_no_pretrain_modelpath,'finetune_bert.pt')\n",
    "best_model_state=torch.load(bert_finetune_modelfullpath, map_location=device)\n",
    "classification_model.load_state_dict(best_model_state,strict=True)\n",
    "classification_model.eval()\n",
    "print('Fine tune model loaded')\n",
    "\n",
    "tr_accuracy, tr_est,tr_labels,tr_scores= evaluate_binary_accuracy(classification_model, train_loader,device)\n",
    "print(f'Train Binary Accuracy: {tr_accuracy:.4f}')\n",
    "perf_metrics(tr_labels, tr_est,tr_scores)\n",
    "print('\\n')\n",
    "v_accuracy,val_est,val_labels, val_scores = evaluate_binary_accuracy(classification_model, val_loader,device)\n",
    "print(f'Validation Binary Accuracy: {v_accuracy:.4f}')\n",
    "perf_metrics(val_labels, val_est,val_scores)\n",
    "print('\\n')\n",
    "test_accuracy,test_est,test_labels, test_scores = evaluate_binary_accuracy(classification_model, test_loader,device)\n",
    "print(f'Test Binary Accuracy: {test_accuracy:.4f}')\n",
    "perf_metrics(test_labels, test_est,test_scores)\n",
    "\n",
    "print('Completed')"
   ]
  }
 ],
 "metadata": {
  "kernelspec": {
   "display_name": "mybertV2",
   "language": "python",
   "name": "python3"
  },
  "language_info": {
   "codemirror_mode": {
    "name": "ipython",
    "version": 3
   },
   "file_extension": ".py",
   "mimetype": "text/x-python",
   "name": "python",
   "nbconvert_exporter": "python",
   "pygments_lexer": "ipython3",
   "version": "3.9.18"
  }
 },
 "nbformat": 4,
 "nbformat_minor": 2
}
