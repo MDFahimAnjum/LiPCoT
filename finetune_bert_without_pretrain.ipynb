{
 "cells": [
  {
   "cell_type": "markdown",
   "metadata": {},
   "source": [
    "## Fine Tune a PreTrain a BERT model for Binary classification\n",
    "Before this, the data must be processed, tokenized and prepared.\n",
    "1. `data_processing` notebook loads raw data and prepares training,validation and test dataset\n",
    "2. `data_tokenizer`notebook tokenizes the data using LiPCoT model\n",
    "3. `data_prepare` notebook prepares datasets for BERT models\n",
    "\n",
    "Here, we will use training and validation dataset for fine-tuning. Then test set is used for evaluation\n",
    "### 1. Import libraries"
   ]
  },
  {
   "cell_type": "code",
   "execution_count": 1,
   "metadata": {},
   "outputs": [],
   "source": [
    "import os\n",
    "import joblib\n",
    "from modules.bert_module import *\n",
    "from modules.path_module import *\n",
    "from transformers import BertForMaskedLM\n",
    "from torch import cuda\n",
    "from tqdm import tqdm\n",
    "import torch.optim as optim\n",
    "from torch.utils.data import DataLoader"
   ]
  },
  {
   "cell_type": "markdown",
   "metadata": {},
   "source": [
    "### 2. Load datasets\n",
    "We are going to use the validation set for training the fine-tune model. The training set for the pre-trained model will be used with labels as a validation."
   ]
  },
  {
   "cell_type": "code",
   "execution_count": 2,
   "metadata": {},
   "outputs": [],
   "source": [
    "train_dataset=joblib.load( os.path.join(bert_datapath,\"val_data.joblib\"))\n",
    "val_dataset=joblib.load( os.path.join(bert_datapath,\"train_data.joblib\"))\n",
    "test_dataset=joblib.load(os.path.join(bert_datapath,\"test_data.joblib\"))"
   ]
  },
  {
   "cell_type": "markdown",
   "metadata": {},
   "source": [
    "### 3. Create Fine-tune classification model"
   ]
  },
  {
   "cell_type": "code",
   "execution_count": 3,
   "metadata": {},
   "outputs": [
    {
     "name": "stdout",
     "output_type": "stream",
     "text": [
      "BERT Model initialized\n",
      "Running on: cuda\n",
      "FineTune Model created\n"
     ]
    }
   ],
   "source": [
    "# load pretrain model\n",
    "pretrained_model = BertForMaskedLM.from_pretrained(bert_modelpath)\n",
    "# use config of pretrain model to initialize a new BERT model\n",
    "model = BertForMaskedLM(pretrained_model.config)\n",
    "model.resize_token_embeddings()\n",
    "\n",
    "print('BERT Model initialized')\n",
    "# use GPU\n",
    "device='cuda' if cuda.is_available() else 'cpu'\n",
    "print(\"Running on: \"+device)\n",
    "cuda.empty_cache()\n",
    "\n",
    "# Instantiate the classification model\n",
    "num_classes = 2  # Number of classes in classification task\n",
    "classification_model = BertForSequenceClassification(model, num_classes,device)\n",
    "classification_model.to(device)  # Move model to the device (e.g., GPU if available)\n",
    "print('FineTune Model created')"
   ]
  },
  {
   "cell_type": "markdown",
   "metadata": {},
   "source": [
    "### 4. Configure Training "
   ]
  },
  {
   "cell_type": "code",
   "execution_count": 4,
   "metadata": {},
   "outputs": [],
   "source": [
    "num_epochs = 64 #128\n",
    "training_batch_size=4\n",
    "learning_rate=1.888861270702437e-05\n",
    "# Define optimizer and loss function\n",
    "optimizer = optim.Adam(classification_model.parameters(), lr=learning_rate)\n",
    "criterion = nn.BCELoss()#nn.CrossEntropyLoss()\n",
    "bert_finetune_modelfullpath=os.path.join(bert_finetune_no_pretrain_modelpath,'finetune_bert.pt')\n",
    "\n",
    "random_seed=42\n",
    "patience=80\n",
    "training_arg={\n",
    "    'modelfullpath': bert_finetune_modelfullpath,\n",
    "    'criterion': criterion,\n",
    "    'optimizer': optimizer,\n",
    "    'epochs': num_epochs,\n",
    "    'patience': patience,\n",
    "    'seed': random_seed\n",
    "}"
   ]
  },
  {
   "cell_type": "markdown",
   "metadata": {},
   "source": [
    "### 5. Create DataLoaders"
   ]
  },
  {
   "cell_type": "code",
   "execution_count": 5,
   "metadata": {},
   "outputs": [],
   "source": [
    "train_loader = DataLoader(train_dataset, batch_size=training_batch_size, shuffle=True)\n",
    "val_loader = DataLoader(val_dataset, batch_size=1, shuffle=False)\n",
    "test_loader = DataLoader(test_dataset, batch_size=1, shuffle=False)"
   ]
  },
  {
   "cell_type": "markdown",
   "metadata": {},
   "source": [
    "### 6. Train and evaluate via validation set\n",
    "We train using the training set and save the model that gives the best performance on the validation set"
   ]
  },
  {
   "cell_type": "code",
   "execution_count": 6,
   "metadata": {},
   "outputs": [
    {
     "name": "stderr",
     "output_type": "stream",
     "text": [
      "Epoch 1/64: 100%|██████████| 35/35 [00:01<00:00, 20.11batch/s, Loss=0.735]\n"
     ]
    },
    {
     "name": "stdout",
     "output_type": "stream",
     "text": [
      "model state saved with validation accuracy: 52.1739\n"
     ]
    },
    {
     "name": "stderr",
     "output_type": "stream",
     "text": [
      "Epoch 2/64: 100%|██████████| 35/35 [00:01<00:00, 20.07batch/s, Loss=0.682]\n",
      "Epoch 3/64: 100%|██████████| 35/35 [00:01<00:00, 21.70batch/s, Loss=0.682]\n",
      "Epoch 4/64: 100%|██████████| 35/35 [00:01<00:00, 21.68batch/s, Loss=0.665]\n"
     ]
    },
    {
     "name": "stdout",
     "output_type": "stream",
     "text": [
      "model state saved with validation accuracy: 52.4845\n"
     ]
    },
    {
     "name": "stderr",
     "output_type": "stream",
     "text": [
      "Epoch 5/64: 100%|██████████| 35/35 [00:01<00:00, 21.29batch/s, Loss=0.723]\n"
     ]
    },
    {
     "name": "stdout",
     "output_type": "stream",
     "text": [
      "model state saved with validation accuracy: 68.3230\n"
     ]
    },
    {
     "name": "stderr",
     "output_type": "stream",
     "text": [
      "Epoch 6/64: 100%|██████████| 35/35 [00:01<00:00, 19.71batch/s, Loss=0.695]\n",
      "Epoch 7/64: 100%|██████████| 35/35 [00:01<00:00, 20.65batch/s, Loss=0.644]\n",
      "Epoch 8/64: 100%|██████████| 35/35 [00:01<00:00, 21.72batch/s, Loss=0.506]\n"
     ]
    },
    {
     "name": "stdout",
     "output_type": "stream",
     "text": [
      "model state saved with validation accuracy: 70.8075\n"
     ]
    },
    {
     "name": "stderr",
     "output_type": "stream",
     "text": [
      "Epoch 9/64: 100%|██████████| 35/35 [00:01<00:00, 20.70batch/s, Loss=0.493]\n"
     ]
    },
    {
     "name": "stdout",
     "output_type": "stream",
     "text": [
      "model state saved with validation accuracy: 72.0497\n"
     ]
    },
    {
     "name": "stderr",
     "output_type": "stream",
     "text": [
      "Epoch 10/64: 100%|██████████| 35/35 [00:01<00:00, 20.78batch/s, Loss=0.46]  \n"
     ]
    },
    {
     "name": "stdout",
     "output_type": "stream",
     "text": [
      "model state saved with validation accuracy: 72.6708\n"
     ]
    },
    {
     "name": "stderr",
     "output_type": "stream",
     "text": [
      "Epoch 11/64: 100%|██████████| 35/35 [00:01<00:00, 20.80batch/s, Loss=0.202]\n",
      "Epoch 12/64: 100%|██████████| 35/35 [00:01<00:00, 21.53batch/s, Loss=0.0776]\n"
     ]
    },
    {
     "name": "stdout",
     "output_type": "stream",
     "text": [
      "model state saved with validation accuracy: 75.1553\n"
     ]
    },
    {
     "name": "stderr",
     "output_type": "stream",
     "text": [
      "Epoch 13/64: 100%|██████████| 35/35 [00:01<00:00, 20.54batch/s, Loss=0.227] \n",
      "Epoch 14/64: 100%|██████████| 35/35 [00:01<00:00, 22.12batch/s, Loss=0.479] \n",
      "Epoch 15/64: 100%|██████████| 35/35 [00:01<00:00, 20.79batch/s, Loss=0.672] \n",
      "Epoch 16/64: 100%|██████████| 35/35 [00:01<00:00, 22.13batch/s, Loss=1.11]  \n",
      "Epoch 17/64: 100%|██████████| 35/35 [00:01<00:00, 21.41batch/s, Loss=0.365] \n",
      "Epoch 18/64: 100%|██████████| 35/35 [00:01<00:00, 21.95batch/s, Loss=0.0517]\n"
     ]
    },
    {
     "name": "stdout",
     "output_type": "stream",
     "text": [
      "model state saved with validation accuracy: 76.0870\n"
     ]
    },
    {
     "name": "stderr",
     "output_type": "stream",
     "text": [
      "Epoch 19/64: 100%|██████████| 35/35 [00:01<00:00, 21.44batch/s, Loss=0.435] \n",
      "Epoch 20/64: 100%|██████████| 35/35 [00:01<00:00, 21.66batch/s, Loss=0.0777]\n",
      "Epoch 21/64: 100%|██████████| 35/35 [00:01<00:00, 20.33batch/s, Loss=0.0735]\n"
     ]
    },
    {
     "name": "stdout",
     "output_type": "stream",
     "text": [
      "model state saved with validation accuracy: 76.7081\n"
     ]
    },
    {
     "name": "stderr",
     "output_type": "stream",
     "text": [
      "Epoch 22/64: 100%|██████████| 35/35 [00:01<00:00, 21.60batch/s, Loss=1.7]   \n",
      "Epoch 23/64: 100%|██████████| 35/35 [00:01<00:00, 21.50batch/s, Loss=0.162] \n",
      "Epoch 24/64: 100%|██████████| 35/35 [00:01<00:00, 20.60batch/s, Loss=0.511] \n",
      "Epoch 25/64: 100%|██████████| 35/35 [00:01<00:00, 22.03batch/s, Loss=0.195]  \n",
      "Epoch 26/64: 100%|██████████| 35/35 [00:01<00:00, 21.52batch/s, Loss=0.0564]\n",
      "Epoch 27/64: 100%|██████████| 35/35 [00:01<00:00, 21.92batch/s, Loss=0.0224]\n",
      "Epoch 28/64: 100%|██████████| 35/35 [00:01<00:00, 21.87batch/s, Loss=0.189] \n",
      "Epoch 29/64: 100%|██████████| 35/35 [00:01<00:00, 21.39batch/s, Loss=0.221] \n",
      "Epoch 30/64: 100%|██████████| 35/35 [00:01<00:00, 21.99batch/s, Loss=0.248] \n",
      "Epoch 31/64: 100%|██████████| 35/35 [00:01<00:00, 21.40batch/s, Loss=0.0893]\n",
      "Epoch 32/64: 100%|██████████| 35/35 [00:01<00:00, 21.28batch/s, Loss=0.0421]\n",
      "Epoch 33/64: 100%|██████████| 35/35 [00:01<00:00, 21.59batch/s, Loss=0.15]   \n",
      "Epoch 34/64: 100%|██████████| 35/35 [00:01<00:00, 20.70batch/s, Loss=0.0692]\n",
      "Epoch 35/64: 100%|██████████| 35/35 [00:01<00:00, 21.68batch/s, Loss=0.241]  \n",
      "Epoch 36/64: 100%|██████████| 35/35 [00:01<00:00, 21.39batch/s, Loss=0.028] \n",
      "Epoch 37/64: 100%|██████████| 35/35 [00:01<00:00, 22.23batch/s, Loss=0.715] \n",
      "Epoch 38/64: 100%|██████████| 35/35 [00:01<00:00, 22.01batch/s, Loss=0.241]  \n",
      "Epoch 39/64: 100%|██████████| 35/35 [00:01<00:00, 21.79batch/s, Loss=0.0185] \n",
      "Epoch 40/64: 100%|██████████| 35/35 [00:01<00:00, 21.17batch/s, Loss=0.0384] \n",
      "Epoch 41/64: 100%|██████████| 35/35 [00:01<00:00, 21.55batch/s, Loss=0.00635]\n",
      "Epoch 42/64: 100%|██████████| 35/35 [00:01<00:00, 20.93batch/s, Loss=0.0252]\n",
      "Epoch 43/64: 100%|██████████| 35/35 [00:01<00:00, 20.92batch/s, Loss=0.0883]\n",
      "Epoch 44/64: 100%|██████████| 35/35 [00:01<00:00, 21.74batch/s, Loss=0.36]   \n",
      "Epoch 45/64: 100%|██████████| 35/35 [00:01<00:00, 22.23batch/s, Loss=0.0711] \n",
      "Epoch 46/64: 100%|██████████| 35/35 [00:01<00:00, 21.73batch/s, Loss=0.000772]\n",
      "Epoch 47/64: 100%|██████████| 35/35 [00:01<00:00, 21.72batch/s, Loss=0.173]  \n",
      "Epoch 48/64: 100%|██████████| 35/35 [00:01<00:00, 22.17batch/s, Loss=0.00143]\n",
      "Epoch 49/64: 100%|██████████| 35/35 [00:01<00:00, 21.51batch/s, Loss=0.0033] \n",
      "Epoch 50/64: 100%|██████████| 35/35 [00:01<00:00, 20.84batch/s, Loss=0.0211] \n",
      "Epoch 51/64: 100%|██████████| 35/35 [00:01<00:00, 21.14batch/s, Loss=0.00132]\n",
      "Epoch 52/64: 100%|██████████| 35/35 [00:01<00:00, 21.55batch/s, Loss=1.16]   \n",
      "Epoch 53/64: 100%|██████████| 35/35 [00:01<00:00, 21.23batch/s, Loss=0.137]  \n",
      "Epoch 54/64: 100%|██████████| 35/35 [00:01<00:00, 20.90batch/s, Loss=0.603]   \n",
      "Epoch 55/64: 100%|██████████| 35/35 [00:01<00:00, 21.55batch/s, Loss=0.264]  \n",
      "Epoch 56/64: 100%|██████████| 35/35 [00:01<00:00, 21.77batch/s, Loss=0.00406]\n",
      "Epoch 57/64: 100%|██████████| 35/35 [00:01<00:00, 21.49batch/s, Loss=0.0468] \n",
      "Epoch 58/64: 100%|██████████| 35/35 [00:01<00:00, 21.25batch/s, Loss=0.0464] \n",
      "Epoch 59/64: 100%|██████████| 35/35 [00:01<00:00, 21.91batch/s, Loss=0.000734]\n",
      "Epoch 60/64: 100%|██████████| 35/35 [00:01<00:00, 21.48batch/s, Loss=0.01]   \n",
      "Epoch 61/64: 100%|██████████| 35/35 [00:01<00:00, 20.28batch/s, Loss=0.477]  \n",
      "Epoch 62/64: 100%|██████████| 35/35 [00:01<00:00, 21.17batch/s, Loss=0.0562] \n",
      "Epoch 63/64: 100%|██████████| 35/35 [00:01<00:00, 21.92batch/s, Loss=0.0108] \n",
      "Epoch 64/64: 100%|██████████| 35/35 [00:01<00:00, 21.43batch/s, Loss=0.00197]\n"
     ]
    },
    {
     "name": "stdout",
     "output_type": "stream",
     "text": [
      "Fine tune completed\n"
     ]
    }
   ],
   "source": [
    "results= model_trainer(classification_model,train_loader,val_loader,training_arg,device)"
   ]
  },
  {
   "cell_type": "markdown",
   "metadata": {},
   "source": [
    "Let's plot the training and validation loss"
   ]
  },
  {
   "cell_type": "code",
   "execution_count": 7,
   "metadata": {},
   "outputs": [
    {
     "data": {
      "image/png": "[encoded data removed]",
      "text/plain": [
       "<Figure size 640x480 with 1 Axes>"
      ]
     },
     "metadata": {},
     "output_type": "display_data"
    },
    {
     "data": {
      "image/png": "[encoded data removed]",
      "text/plain": [
       "<Figure size 640x480 with 1 Axes>"
      ]
     },
     "metadata": {},
     "output_type": "display_data"
    }
   ],
   "source": [
    "plt.figure()\n",
    "plt.plot(results['epoch_loss'])\n",
    "plt.xlabel('epoch')\n",
    "plt.ylabel('Avg loss')\n",
    "plt.show()\n",
    "\n",
    "\n",
    "plt.figure()\n",
    "plt.plot(results['training_acc'],label='Training data')\n",
    "plt.plot(results['validation_acc'],label='Validation data')\n",
    "plt.legend()\n",
    "plt.xlabel('epoch')\n",
    "plt.ylabel('Accuracy')\n",
    "plt.show()"
   ]
  },
  {
   "cell_type": "markdown",
   "metadata": {},
   "source": [
    "### 7. Evaluate model"
   ]
  },
  {
   "cell_type": "code",
   "execution_count": 8,
   "metadata": {},
   "outputs": [
    {
     "name": "stdout",
     "output_type": "stream",
     "text": [
      "Fine tune model loaded\n",
      "Train Binary Accuracy: 88.4058\n",
      "Confusion Matrix:\n",
      "[[68  4]\n",
      " [12 54]]\n",
      "Accuracy: 88.40579710144928\n",
      "Precision: 93.10344827586206\n",
      "Sensitivity (Recall): 81.81818181818183\n",
      "Specificity: 94.44444444444444\n",
      "F1 Score: 0.8709677419354839\n",
      "AUC Score: 0.9524410774410774\n",
      "\n",
      "\n",
      "Validation Binary Accuracy: 76.7081\n",
      "Confusion Matrix:\n",
      "[[145  23]\n",
      " [ 52 102]]\n",
      "Accuracy: 76.70807453416148\n",
      "Precision: 81.6\n",
      "Sensitivity (Recall): 66.23376623376623\n",
      "Specificity: 86.30952380952381\n",
      "F1 Score: 0.7311827956989247\n",
      "AUC Score: 0.8453927025355598\n",
      "\n",
      "\n",
      "Test Binary Accuracy: 72.8261\n",
      "Confusion Matrix:\n",
      "[[41  7]\n",
      " [18 26]]\n",
      "Accuracy: 72.82608695652173\n",
      "Precision: 78.78787878787878\n",
      "Sensitivity (Recall): 59.09090909090909\n",
      "Specificity: 85.41666666666666\n",
      "F1 Score: 0.6753246753246752\n",
      "AUC Score: 0.7651515151515151\n",
      "Completed\n"
     ]
    }
   ],
   "source": [
    "best_model_state=torch.load(bert_finetune_modelfullpath, map_location=device)\n",
    "classification_model.load_state_dict(best_model_state,strict=True)\n",
    "classification_model.eval()\n",
    "print('Fine tune model loaded')\n",
    "\n",
    "tr_accuracy, tr_est,tr_labels,tr_scores= evaluate_binary_accuracy(classification_model, train_loader,device)\n",
    "print(f'Train Binary Accuracy: {tr_accuracy:.4f}')\n",
    "perf_metrics(tr_labels, tr_est,tr_scores)\n",
    "print('\\n')\n",
    "v_accuracy,val_est,val_labels, val_scores = evaluate_binary_accuracy(classification_model, val_loader,device)\n",
    "print(f'Validation Binary Accuracy: {v_accuracy:.4f}')\n",
    "perf_metrics(val_labels, val_est,val_scores)\n",
    "print('\\n')\n",
    "test_accuracy,test_est,test_labels, test_scores = evaluate_binary_accuracy(classification_model, test_loader,device)\n",
    "print(f'Test Binary Accuracy: {test_accuracy:.4f}')\n",
    "perf_metrics(test_labels, test_est,test_scores)\n",
    "\n",
    "print('Completed')"
   ]
  }
 ],
 "metadata": {
  "kernelspec": {
   "display_name": "mybertV2",
   "language": "python",
   "name": "python3"
  },
  "language_info": {
   "codemirror_mode": {
    "name": "ipython",
    "version": 3
   },
   "file_extension": ".py",
   "mimetype": "text/x-python",
   "name": "python",
   "nbconvert_exporter": "python",
   "pygments_lexer": "ipython3",
   "version": "3.9.18"
  }
 },
 "nbformat": 4,
 "nbformat_minor": 2
}
