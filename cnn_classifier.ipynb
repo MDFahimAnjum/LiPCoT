{
 "cells": [
  {
   "cell_type": "markdown",
   "metadata": {},
   "source": [
    "## Binary classification with CNN\n",
    "\n",
    "The paths utilized are defiend in the `path_module.py`\n",
    "\n",
    "Before this, the data must be processed and tokenized. \n",
    "1. `data_processing` notebook loads raw data and prepares training,validation and test dataset\n",
    "2. `data_tokenizer`notebook tokenizes the data using LiPCoT model\n",
    "\n",
    "### 1. Import libraries"
   ]
  },
  {
   "cell_type": "code",
   "execution_count": 2,
   "metadata": {},
   "outputs": [],
   "source": [
    "from modules.bert_module import *\n",
    "from modules.path_module import *\n",
    "import os\n",
    "import joblib\n",
    "from modules.lipcot_module import LiPCoTdata\n",
    "from transformers import BertTokenizer\n",
    "from hugtokencraft import editor # type: ignore\n",
    "import torch\n",
    "import numpy as np"
   ]
  },
  {
   "cell_type": "markdown",
   "metadata": {},
   "source": [
    "### 2. Load tokenized data"
   ]
  },
  {
   "cell_type": "code",
   "execution_count": 3,
   "metadata": {},
   "outputs": [],
   "source": [
    "train_data=joblib.load(os.path.join(tokenized_data_savepath,\"train_data.joblib\"))\n",
    "test_data=joblib.load(os.path.join(tokenized_data_savepath,\"test_data.joblib\"))\n",
    "val_data=joblib.load(os.path.join(tokenized_data_savepath,\"val_data.joblib\"))"
   ]
  },
  {
   "cell_type": "markdown",
   "metadata": {},
   "source": [
    "### 3. Prepare data for CNN\n",
    "- We extract only the signal data and labels from dataset for CNN\n",
    "- We train using the training set and save the model that gives the best performance on the validation set"
   ]
  },
  {
   "cell_type": "code",
   "execution_count": 4,
   "metadata": {},
   "outputs": [],
   "source": [
    "def prepare_cnn_data(lkdataset):\n",
    "    signal_data=[]\n",
    "    labels=[]\n",
    "    for lkdata in lkdataset:\n",
    "        signal=lkdata.data # (signal x chan) matrix\n",
    "        signal=np.transpose(signal) #(Chan x Signal Length) matrix\n",
    "        signal_tensor=torch.from_numpy(signal).float() # tensor\n",
    "        signal_data.append(signal_tensor)\n",
    "        if lkdata.label==0:\n",
    "            newlabel=torch.tensor([0,1]).float()\n",
    "        else:\n",
    "            newlabel=torch.tensor([1,0]).float()\n",
    "        labels.append(newlabel)\n",
    "    return signal_data,labels\n",
    "\n",
    "train_sigdata,train_label=prepare_cnn_data(val_data)\n",
    "val_sigdata,val_label=prepare_cnn_data(train_data)\n",
    "test_sigdata,test_label=prepare_cnn_data(test_data)"
   ]
  },
  {
   "cell_type": "markdown",
   "metadata": {},
   "source": [
    "### 4. CNN model\n",
    "Let's define our baseline CNN architecture which has one conv layer and one FC layer"
   ]
  },
  {
   "cell_type": "code",
   "execution_count": 115,
   "metadata": {},
   "outputs": [],
   "source": [
    "import torch.nn as nn\n",
    "import torch.nn.functional as F\n",
    "\n",
    "class CNN_Model(nn.Module):\n",
    "    def __init__(self,chan_total,signal_length):\n",
    "        super(CNN_Model, self).__init__()\n",
    "        self.stride=5#2\n",
    "        self.k_val=50#100\n",
    "        # conv: (chan x signal)--> (chan x signal/stride)\n",
    "        self.conv1 = nn.Conv1d(in_channels=chan_total, out_channels=chan_total, kernel_size=2*self.k_val+self.stride, stride=self.stride,padding=self.k_val) #k=lpc order ?#oc=2,k=4\n",
    "        # pool: (chan x signal/stride) --> (chan x 1)\n",
    "        self.pool1 = nn.AvgPool1d(kernel_size=int(signal_length/self.stride))\n",
    "        self.input_s=int(chan_total)\n",
    "        self.fc = nn.Linear(self.input_s, 2)\n",
    "        self.dropout = nn.Dropout(0.1)\n",
    "        \n",
    "    def forward(self, x):\n",
    "        x = F.relu(self.conv1(x))\n",
    "        x = self.dropout(x)\n",
    "        x = self.pool1(x)\n",
    "        x = x.view(-1, self.input_s)\n",
    "        x=self.fc(x)\n",
    "        return x"
   ]
  },
  {
   "cell_type": "markdown",
   "metadata": {},
   "source": [
    "Other deeper architectures are defined below which are not used for now"
   ]
  },
  {
   "cell_type": "code",
   "execution_count": null,
   "metadata": {},
   "outputs": [],
   "source": [
    "class ResidualBlock(nn.Module):\n",
    "    def __init__(self, hidden_size):\n",
    "        super(ResidualBlock, self).__init__()\n",
    "        self.linear1 = nn.Linear(hidden_size, hidden_size)\n",
    "        self.linear2 = nn.Linear(hidden_size, hidden_size)\n",
    "\n",
    "    def forward(self, x):\n",
    "        residual = x\n",
    "        x = self.linear1(x)\n",
    "        x = F.relu(x)\n",
    "        x = self.linear2(x)\n",
    "        x += residual  # Element-wise addition\n",
    "        x = F.relu(x)\n",
    "        return x\n",
    "    \n",
    "\n",
    "class FC_Classification(nn.Module):\n",
    "    def __init__(self, num_classes,input_size):\n",
    "        super(FC_Classification, self).__init__()\n",
    "        self.dropout = nn.Dropout(0.1)\n",
    "        self.fc = nn.Linear(input_size, input_size)\n",
    "        self.residual_block = ResidualBlock(input_size)\n",
    "        self.classifier = nn.Linear(input_size, num_classes)\n",
    "\n",
    "    def forward(self, input_ids, attention_mask):\n",
    "        # Convert input_ids to float before matrix multiplication\n",
    "        input_ids_float = input_ids.float()\n",
    "        x = self.fc(input_ids_float)\n",
    "        x = F.relu(x)\n",
    "        x = self.dropout(x)\n",
    "        logits = self.classifier(x)\n",
    "        return logits\n",
    "    \n",
    "class CNN_Model_deep(nn.Module):\n",
    "    def __init__(self,chan_total,signal_length):\n",
    "        super(CNN_Model, self).__init__()\n",
    "        self.stride=1\n",
    "        self.k_val=50\n",
    "        # input 62 x max_length\n",
    "        self.conv1 = nn.Conv1d(in_channels=chan_total, out_channels=chan_total, kernel_size=2*self.k_val+1, stride=self.stride,padding=self.k_val) #k=lpc order ?#oc=2,k=4\n",
    "        # input 62 x max_length\n",
    "        self.pool1 = nn.AvgPool1d(kernel_size=signal_length)\n",
    "        # input 62 x max_length/10\n",
    "        self.conv2 = nn.Conv1d(in_channels=chan_total, out_channels=chan_total, kernel_size=2*4+1, stride=1,padding=4)\n",
    "        # input 62 x max_length/10\n",
    "        self.pool2 = nn.AvgPool1d(kernel_size=10)\n",
    "        # input 62 x max_length/100\n",
    "        self.conv3 = nn.Conv1d(in_channels=chan_total, out_channels=chan_total, kernel_size=2*4+1, stride=1,padding=4)\n",
    "        # input 62 x max_length/100\n",
    "        self.pool3 = nn.AvgPool1d(kernel_size=5)\n",
    "        # input 62 x max_length/500\n",
    "        #self.input_s=int(chan_total*signal_length/(5*10*10))\n",
    "        self.input_s=int(chan_total/(self.stride))\n",
    "        self.fc1 = nn.Linear(self.input_s, 16)\n",
    "        self.fc2 = nn.Linear(16, 8)\n",
    "        self.fc3 = nn.Linear(8, 2)\n",
    "        self.fc = nn.Linear(self.input_s, 2)\n",
    "        self.dropout = nn.Dropout(0.1)\n",
    "        \n",
    "    def forward(self, x):\n",
    "        x = F.relu(self.conv1(x))\n",
    "        x = self.dropout(x)\n",
    "        x = self.pool1(x)\n",
    "        #x = F.relu(self.conv2(x))\n",
    "        #x = self.dropout(x)\n",
    "        #x = self.pool2(x)\n",
    "        #x = F.relu(self.conv3(x))\n",
    "        #x = self.dropout(x)\n",
    "        #x = self.pool3(x)\n",
    "        x = x.view(-1, self.input_s)\n",
    "        x=self.fc(x)\n",
    "        #x = F.relu(self.fc1(x))\n",
    "        #x = self.dropout(x)\n",
    "        #x = F.relu(self.fc2(x))\n",
    "        #x = self.dropout(x)\n",
    "        #x = torch.sigmoid(self.fc3(x))\n",
    "        #x=self.fc3(x)\n",
    "        return x\n"
   ]
  },
  {
   "cell_type": "markdown",
   "metadata": {},
   "source": [
    "### 5. Initialize CNN model"
   ]
  },
  {
   "cell_type": "code",
   "execution_count": 116,
   "metadata": {},
   "outputs": [
    {
     "name": "stdout",
     "output_type": "stream",
     "text": [
      "Running on: cpu\n",
      "Model created\n"
     ]
    }
   ],
   "source": [
    "from tqdm import tqdm\n",
    "import torch.optim as optim\n",
    "from torch import cuda\n",
    "\n",
    "# Set the random seed for reproducibility\n",
    "random_seed = 42\n",
    "random.seed(random_seed)\n",
    "torch.manual_seed(random_seed)\n",
    "torch.cuda.manual_seed(random_seed)\n",
    "np.random.seed(random_seed)\n",
    "\n",
    "# use GPU\n",
    "device='cpu'#'cuda' if cuda.is_available() else 'cpu'\n",
    "print(\"Running on: \"+device)\n",
    "cuda.empty_cache()\n",
    "\n",
    "# initialize model\n",
    "n_chan=train_data[0].data.shape[1]\n",
    "n_datalength=train_data[0].data.shape[0]\n",
    "model = CNN_Model(n_chan,n_datalength)\n",
    "model.to(device)\n",
    "print('Model created')"
   ]
  },
  {
   "cell_type": "markdown",
   "metadata": {},
   "source": [
    "### 6. Configure Training"
   ]
  },
  {
   "cell_type": "code",
   "execution_count": 117,
   "metadata": {},
   "outputs": [],
   "source": [
    "batch_size = 2#1\n",
    "num_epochs = 100\n",
    "lrate=1e-5\n",
    "patience=20\n",
    "# Define loss function and optimizer\n",
    "criterion = nn.BCELoss()\n",
    "optimizer = optim.Adam(model.parameters(), lr=lrate)\n",
    "cnn_modelfullpath=os.path.join(cnn_modelpath,'cnn.pt')"
   ]
  },
  {
   "cell_type": "markdown",
   "metadata": {},
   "source": [
    "### 7. Prepare data"
   ]
  },
  {
   "cell_type": "code",
   "execution_count": 118,
   "metadata": {},
   "outputs": [],
   "source": [
    "from torch.utils.data import DataLoader, TensorDataset\n",
    "\n",
    "train_dataset = TensorDataset(torch.stack(train_sigdata), torch.stack(train_label))\n",
    "val_dataset = TensorDataset(torch.stack(val_sigdata), torch.stack(val_label))\n",
    "test_dataset = TensorDataset(torch.stack(test_sigdata), torch.stack(test_label))\n",
    "\n",
    "train_loader = DataLoader(train_dataset, batch_size=batch_size, shuffle=True)\n",
    "val_loader = DataLoader(val_dataset, batch_size=batch_size, shuffle=True)\n",
    "test_loader = DataLoader(test_dataset, batch_size=batch_size, shuffle=True)"
   ]
  },
  {
   "cell_type": "markdown",
   "metadata": {},
   "source": [
    "### 8. Train model"
   ]
  },
  {
   "cell_type": "code",
   "execution_count": 119,
   "metadata": {},
   "outputs": [
    {
     "name": "stderr",
     "output_type": "stream",
     "text": [
      "Epoch 1/100: 100%|██████████| 69/69 [00:01<00:00, 50.14it/s]\n"
     ]
    },
    {
     "name": "stdout",
     "output_type": "stream",
     "text": [
      "model state saved with validation accuracy: 65.2174\n"
     ]
    },
    {
     "name": "stderr",
     "output_type": "stream",
     "text": [
      "Epoch 2/100: 100%|██████████| 69/69 [00:01<00:00, 59.02it/s]\n"
     ]
    },
    {
     "name": "stdout",
     "output_type": "stream",
     "text": [
      "model state saved with validation accuracy: 65.5280\n"
     ]
    },
    {
     "name": "stderr",
     "output_type": "stream",
     "text": [
      "Epoch 3/100: 100%|██████████| 69/69 [00:01<00:00, 56.62it/s]\n"
     ]
    },
    {
     "name": "stdout",
     "output_type": "stream",
     "text": [
      "model state saved with validation accuracy: 66.1491\n"
     ]
    },
    {
     "name": "stderr",
     "output_type": "stream",
     "text": [
      "Epoch 4/100: 100%|██████████| 69/69 [00:01<00:00, 61.13it/s]\n"
     ]
    },
    {
     "name": "stdout",
     "output_type": "stream",
     "text": [
      "model state saved with validation accuracy: 67.3913\n"
     ]
    },
    {
     "name": "stderr",
     "output_type": "stream",
     "text": [
      "Epoch 5/100: 100%|██████████| 69/69 [00:01<00:00, 58.39it/s]\n"
     ]
    },
    {
     "name": "stdout",
     "output_type": "stream",
     "text": [
      "model state saved with validation accuracy: 68.0124\n"
     ]
    },
    {
     "name": "stderr",
     "output_type": "stream",
     "text": [
      "Epoch 6/100: 100%|██████████| 69/69 [00:01<00:00, 60.33it/s]\n",
      "Epoch 7/100: 100%|██████████| 69/69 [00:01<00:00, 59.76it/s]\n",
      "Epoch 8/100: 100%|██████████| 69/69 [00:01<00:00, 63.94it/s]\n",
      "Epoch 9/100: 100%|██████████| 69/69 [00:01<00:00, 60.13it/s]\n",
      "Epoch 10/100: 100%|██████████| 69/69 [00:01<00:00, 63.12it/s]\n"
     ]
    },
    {
     "name": "stdout",
     "output_type": "stream",
     "text": [
      "model state saved with validation accuracy: 73.6025\n"
     ]
    },
    {
     "name": "stderr",
     "output_type": "stream",
     "text": [
      "Epoch 11/100: 100%|██████████| 69/69 [00:01<00:00, 54.84it/s]\n",
      "Epoch 12/100: 100%|██████████| 69/69 [00:01<00:00, 62.34it/s]\n",
      "Epoch 13/100: 100%|██████████| 69/69 [00:01<00:00, 61.67it/s]\n",
      "Epoch 14/100: 100%|██████████| 69/69 [00:01<00:00, 61.56it/s]\n",
      "Epoch 15/100: 100%|██████████| 69/69 [00:01<00:00, 62.26it/s]\n",
      "Epoch 16/100: 100%|██████████| 69/69 [00:01<00:00, 58.86it/s]\n"
     ]
    },
    {
     "name": "stdout",
     "output_type": "stream",
     "text": [
      "model state saved with validation accuracy: 76.0870\n"
     ]
    },
    {
     "name": "stderr",
     "output_type": "stream",
     "text": [
      "Epoch 17/100: 100%|██████████| 69/69 [00:01<00:00, 58.31it/s]\n",
      "Epoch 18/100: 100%|██████████| 69/69 [00:01<00:00, 61.62it/s]\n",
      "Epoch 19/100: 100%|██████████| 69/69 [00:01<00:00, 51.72it/s]\n",
      "Epoch 20/100: 100%|██████████| 69/69 [00:01<00:00, 48.41it/s]\n",
      "Epoch 21/100: 100%|██████████| 69/69 [00:01<00:00, 53.75it/s]\n",
      "Epoch 22/100: 100%|██████████| 69/69 [00:01<00:00, 48.09it/s]\n"
     ]
    },
    {
     "name": "stdout",
     "output_type": "stream",
     "text": [
      "model state saved with validation accuracy: 77.6398\n"
     ]
    },
    {
     "name": "stderr",
     "output_type": "stream",
     "text": [
      "Epoch 23/100: 100%|██████████| 69/69 [00:01<00:00, 54.06it/s]\n"
     ]
    },
    {
     "name": "stdout",
     "output_type": "stream",
     "text": [
      "model state saved with validation accuracy: 78.2609\n"
     ]
    },
    {
     "name": "stderr",
     "output_type": "stream",
     "text": [
      "Epoch 24/100: 100%|██████████| 69/69 [00:01<00:00, 62.52it/s]\n",
      "Epoch 25/100: 100%|██████████| 69/69 [00:01<00:00, 58.00it/s]\n"
     ]
    },
    {
     "name": "stdout",
     "output_type": "stream",
     "text": [
      "model state saved with validation accuracy: 79.1925\n"
     ]
    },
    {
     "name": "stderr",
     "output_type": "stream",
     "text": [
      "Epoch 26/100: 100%|██████████| 69/69 [00:01<00:00, 55.61it/s]\n",
      "Epoch 27/100: 100%|██████████| 69/69 [00:01<00:00, 59.54it/s]\n",
      "Epoch 28/100: 100%|██████████| 69/69 [00:01<00:00, 61.16it/s]\n",
      "Epoch 29/100: 100%|██████████| 69/69 [00:01<00:00, 57.44it/s]\n",
      "Epoch 30/100: 100%|██████████| 69/69 [00:01<00:00, 58.96it/s]\n",
      "Epoch 31/100: 100%|██████████| 69/69 [00:01<00:00, 61.90it/s]\n",
      "Epoch 32/100: 100%|██████████| 69/69 [00:01<00:00, 58.71it/s]\n",
      "Epoch 33/100: 100%|██████████| 69/69 [00:01<00:00, 60.57it/s]\n",
      "Epoch 34/100: 100%|██████████| 69/69 [00:01<00:00, 58.41it/s]\n",
      "Epoch 35/100: 100%|██████████| 69/69 [00:01<00:00, 58.89it/s]\n",
      "Epoch 36/100: 100%|██████████| 69/69 [00:01<00:00, 59.27it/s]\n"
     ]
    },
    {
     "name": "stdout",
     "output_type": "stream",
     "text": [
      "model state saved with validation accuracy: 79.5031\n"
     ]
    },
    {
     "name": "stderr",
     "output_type": "stream",
     "text": [
      "Epoch 37/100: 100%|██████████| 69/69 [00:01<00:00, 52.80it/s]\n"
     ]
    },
    {
     "name": "stdout",
     "output_type": "stream",
     "text": [
      "model state saved with validation accuracy: 79.8137\n"
     ]
    },
    {
     "name": "stderr",
     "output_type": "stream",
     "text": [
      "Epoch 38/100: 100%|██████████| 69/69 [00:01<00:00, 56.78it/s]\n",
      "Epoch 39/100: 100%|██████████| 69/69 [00:01<00:00, 59.22it/s]\n"
     ]
    },
    {
     "name": "stdout",
     "output_type": "stream",
     "text": [
      "model state saved with validation accuracy: 80.4348\n"
     ]
    },
    {
     "name": "stderr",
     "output_type": "stream",
     "text": [
      "Epoch 40/100: 100%|██████████| 69/69 [00:01<00:00, 57.02it/s]\n",
      "Epoch 41/100: 100%|██████████| 69/69 [00:01<00:00, 59.17it/s]\n",
      "Epoch 42/100: 100%|██████████| 69/69 [00:01<00:00, 53.42it/s]\n",
      "Epoch 43/100: 100%|██████████| 69/69 [00:01<00:00, 60.09it/s]\n",
      "Epoch 44/100: 100%|██████████| 69/69 [00:01<00:00, 61.51it/s]\n",
      "Epoch 45/100: 100%|██████████| 69/69 [00:01<00:00, 61.87it/s]\n",
      "Epoch 46/100: 100%|██████████| 69/69 [00:01<00:00, 61.40it/s]\n",
      "Epoch 47/100: 100%|██████████| 69/69 [00:01<00:00, 53.44it/s]\n",
      "Epoch 48/100: 100%|██████████| 69/69 [00:01<00:00, 53.58it/s]\n",
      "Epoch 49/100: 100%|██████████| 69/69 [00:01<00:00, 49.17it/s]\n",
      "Epoch 50/100: 100%|██████████| 69/69 [00:01<00:00, 58.25it/s]\n",
      "Epoch 51/100: 100%|██████████| 69/69 [00:01<00:00, 62.18it/s]\n",
      "Epoch 52/100: 100%|██████████| 69/69 [00:01<00:00, 63.79it/s]\n",
      "Epoch 53/100: 100%|██████████| 69/69 [00:01<00:00, 60.74it/s]\n",
      "Epoch 54/100: 100%|██████████| 69/69 [00:01<00:00, 54.47it/s]\n",
      "Epoch 55/100: 100%|██████████| 69/69 [00:01<00:00, 53.64it/s]\n",
      "Epoch 56/100: 100%|██████████| 69/69 [00:01<00:00, 54.79it/s]\n",
      "Epoch 57/100: 100%|██████████| 69/69 [00:01<00:00, 51.76it/s]\n",
      "Epoch 58/100: 100%|██████████| 69/69 [00:01<00:00, 50.71it/s]\n"
     ]
    },
    {
     "name": "stdout",
     "output_type": "stream",
     "text": [
      "model state saved with validation accuracy: 80.7453\n"
     ]
    },
    {
     "name": "stderr",
     "output_type": "stream",
     "text": [
      "Epoch 59/100: 100%|██████████| 69/69 [00:01<00:00, 58.81it/s]\n",
      "Epoch 60/100: 100%|██████████| 69/69 [00:01<00:00, 50.47it/s]\n",
      "Epoch 61/100: 100%|██████████| 69/69 [00:01<00:00, 60.86it/s]\n"
     ]
    },
    {
     "name": "stdout",
     "output_type": "stream",
     "text": [
      "model state saved with validation accuracy: 81.0559\n"
     ]
    },
    {
     "name": "stderr",
     "output_type": "stream",
     "text": [
      "Epoch 62/100: 100%|██████████| 69/69 [00:01<00:00, 60.23it/s]\n",
      "Epoch 63/100: 100%|██████████| 69/69 [00:01<00:00, 54.02it/s]\n",
      "Epoch 64/100: 100%|██████████| 69/69 [00:01<00:00, 57.59it/s]\n"
     ]
    },
    {
     "name": "stdout",
     "output_type": "stream",
     "text": [
      "model state saved with validation accuracy: 81.6770\n"
     ]
    },
    {
     "name": "stderr",
     "output_type": "stream",
     "text": [
      "Epoch 65/100: 100%|██████████| 69/69 [00:01<00:00, 57.16it/s]\n",
      "Epoch 66/100: 100%|██████████| 69/69 [00:01<00:00, 61.61it/s]\n",
      "Epoch 67/100: 100%|██████████| 69/69 [00:01<00:00, 57.44it/s]\n",
      "Epoch 68/100: 100%|██████████| 69/69 [00:01<00:00, 59.46it/s]\n",
      "Epoch 69/100: 100%|██████████| 69/69 [00:01<00:00, 60.86it/s]\n",
      "Epoch 70/100: 100%|██████████| 69/69 [00:01<00:00, 63.51it/s]\n",
      "Epoch 71/100: 100%|██████████| 69/69 [00:01<00:00, 61.81it/s]\n",
      "Epoch 72/100: 100%|██████████| 69/69 [00:01<00:00, 60.92it/s]\n",
      "Epoch 73/100: 100%|██████████| 69/69 [00:01<00:00, 62.07it/s]\n",
      "Epoch 74/100: 100%|██████████| 69/69 [00:01<00:00, 52.97it/s]\n",
      "Epoch 75/100: 100%|██████████| 69/69 [00:01<00:00, 59.68it/s]\n",
      "Epoch 76/100: 100%|██████████| 69/69 [00:01<00:00, 62.44it/s]\n",
      "Epoch 77/100: 100%|██████████| 69/69 [00:01<00:00, 53.96it/s]\n",
      "Epoch 78/100: 100%|██████████| 69/69 [00:01<00:00, 53.09it/s]\n",
      "Epoch 79/100: 100%|██████████| 69/69 [00:01<00:00, 54.67it/s]\n",
      "Epoch 80/100: 100%|██████████| 69/69 [00:01<00:00, 56.31it/s]\n",
      "Epoch 81/100: 100%|██████████| 69/69 [00:01<00:00, 57.03it/s]\n",
      "Epoch 82/100: 100%|██████████| 69/69 [00:01<00:00, 60.12it/s]\n",
      "Epoch 83/100: 100%|██████████| 69/69 [00:01<00:00, 56.13it/s]\n",
      "Epoch 84/100: 100%|██████████| 69/69 [00:01<00:00, 53.64it/s]\n"
     ]
    },
    {
     "name": "stdout",
     "output_type": "stream",
     "text": [
      "Early stopping at epoch 84 as validation accuracy did not improve for 20 epochs.\n"
     ]
    }
   ],
   "source": [
    "def evaluate_binary_accuracy(model,eval_loader):\n",
    "    model.eval()  # Set model to evaluation mode\n",
    "    all_preds = []\n",
    "    all_scores = []\n",
    "    all_labels = []\n",
    "\n",
    "    with torch.no_grad():\n",
    "        for batch in eval_loader:\n",
    "            in_data=batch[0]\n",
    "            in_label=batch[1]\n",
    "\n",
    "            # Forward pass\n",
    "            logits = model(in_data) \n",
    "            # Convert logits to probabilities using sigmoid activation\n",
    "            probs = torch.sigmoid(logits)\n",
    "            probs_normalized = probs / probs.sum(dim=1, keepdim=True)\n",
    "\n",
    "            # Convert probabilities to binary predictions (0 or 1)\n",
    "            preds = (probs_normalized > 0.5).int()\n",
    "\n",
    "            all_scores.extend(probs_normalized.tolist())\n",
    "            all_preds.extend(preds.tolist())\n",
    "            all_labels.extend(in_label.tolist())\n",
    "\n",
    "    accuracy = accuracy_score(all_labels, all_preds)\n",
    "    return accuracy*100,    all_preds,  all_labels  ,all_scores\n",
    "\n",
    "torch.manual_seed(42)\n",
    "\n",
    "# Training loop\n",
    "num_batches = len(train_loader)\n",
    "best_val_accuracy=-1\n",
    "average_epoch_loss_all=[]\n",
    "acc_train_all=[]\n",
    "acc_val_all=[]\n",
    "\n",
    "tr_est_temp=[]\n",
    "tr_labels_temp=[]\n",
    "tr_scores_temp=[]\n",
    "\n",
    "v_est_temp=[]\n",
    "v_labels_temp=[]\n",
    "v_scores_temp=[]\n",
    "\n",
    "for epoch in range(num_epochs):\n",
    "    model.train()  # Set the model to training mode\n",
    "    total_loss = 0\n",
    "\n",
    "    # Use tqdm to create a progress bar for the training loop\n",
    "    for batch_data, batch_labels in tqdm(train_loader, desc=f'Epoch {epoch+1}/{num_epochs}'):\n",
    "        optimizer.zero_grad()\n",
    "        output = model(batch_data)\n",
    "        probs = torch.sigmoid(output)\n",
    "        probs_normalized = probs / probs.sum(dim=1, keepdim=True)\n",
    "        loss = criterion(probs_normalized, batch_labels)\n",
    "        loss.backward()\n",
    "        optimizer.step()\n",
    "        total_loss += loss.item()\n",
    "\n",
    "    # Calculate and print average epoch loss\n",
    "    average_epoch_loss = total_loss / num_batches\n",
    "    average_epoch_loss_all.append(average_epoch_loss)\n",
    "    #calculate accuracy perf\n",
    "    accuracy, tr_est,tr_labels,tr_scores= evaluate_binary_accuracy(model, train_loader)\n",
    "    v_accuracy, val_est,val_labels, val_scores = evaluate_binary_accuracy(model, val_loader)\n",
    "    # Switch back to training mode for the next epoch\n",
    "    model.train()\n",
    "    # collect eval results\n",
    "    acc_train_all.append(accuracy)\n",
    "    acc_val_all.append(v_accuracy)\n",
    "\n",
    "    tr_est_temp.extend([tr_est])\n",
    "    tr_labels_temp.extend([tr_labels])\n",
    "    tr_scores_temp.extend([tr_scores])\n",
    "\n",
    "    v_est_temp.extend([val_est])\n",
    "    v_labels_temp.extend([val_labels])\n",
    "    v_scores_temp.extend([val_scores])\n",
    "\n",
    "    #print(f'Epoch {epoch + 1} - Average Loss: {average_epoch_loss:.4f} - Train acc: {accuracy:.2f} - Validation acc: {v_accuracy:.2f}')\n",
    "\n",
    "    # Check if validation accuracy has improved\n",
    "    if v_accuracy > best_val_accuracy:\n",
    "        best_val_accuracy = v_accuracy\n",
    "        torch.save(model.state_dict(),cnn_modelfullpath) # Save the model state\n",
    "        print(f'model state saved with validation accuracy: {best_val_accuracy:.4f}')\n",
    "        counter = 0  # Reset counter if accuracy improved\n",
    "    else:\n",
    "        counter += 1  # Increment counter if accuracy did not improve\n",
    "\n",
    "    # Check if patience limit reached\n",
    "    if counter >= patience:\n",
    "        print(f'Early stopping at epoch {epoch + 1} as validation accuracy did not improve for {patience} epochs.')\n",
    "        break"
   ]
  },
  {
   "cell_type": "markdown",
   "metadata": {},
   "source": [
    "### 9. Inspect training process"
   ]
  },
  {
   "cell_type": "code",
   "execution_count": 120,
   "metadata": {},
   "outputs": [
    {
     "data": {
      "image/png": "[encoded data removed]",
      "text/plain": [
       "<Figure size 640x480 with 1 Axes>"
      ]
     },
     "metadata": {},
     "output_type": "display_data"
    },
    {
     "data": {
      "image/png": "[encoded data removed]",
      "text/plain": [
       "<Figure size 640x480 with 1 Axes>"
      ]
     },
     "metadata": {},
     "output_type": "display_data"
    }
   ],
   "source": [
    "plt.figure()\n",
    "plt.plot(average_epoch_loss_all)\n",
    "plt.xlabel('epoch')\n",
    "plt.ylabel('Avg loss')\n",
    "plt.show()\n",
    "\n",
    "\n",
    "plt.figure()\n",
    "plt.plot(acc_train_all,label='Training data')\n",
    "plt.plot(acc_val_all,label='Validation data')\n",
    "plt.legend()\n",
    "plt.xlabel('epoch')\n",
    "plt.ylabel('Accuracy')\n",
    "plt.show()"
   ]
  },
  {
   "cell_type": "markdown",
   "metadata": {},
   "source": [
    "### 10. Evaluate model"
   ]
  },
  {
   "cell_type": "code",
   "execution_count": 121,
   "metadata": {},
   "outputs": [
    {
     "name": "stdout",
     "output_type": "stream",
     "text": [
      "Fine tune model loaded\n",
      "Train Binary Accuracy: 99.2754\n",
      "Confusion Matrix:\n",
      "[[72  0]\n",
      " [ 1 65]]\n",
      "Accuracy: 99.27536231884058\n",
      "Sensitivity (Recall): 98.48484848484848\n",
      "Specificity: 100.0\n",
      "F1 Score: 0.9923664122137404\n",
      "AUC Score: 1.0\n",
      "\n",
      "\n",
      "Validation Binary Accuracy: 81.6770\n",
      "Confusion Matrix:\n",
      "[[147  21]\n",
      " [ 38 116]]\n",
      "Accuracy: 81.67701863354037\n",
      "Sensitivity (Recall): 75.32467532467533\n",
      "Specificity: 87.5\n",
      "F1 Score: 0.8095712861415754\n",
      "AUC Score: 0.8629406307977737\n",
      "\n",
      "\n",
      "Test Binary Accuracy: 70.6522\n",
      "Confusion Matrix:\n",
      "[[41  7]\n",
      " [20 24]]\n",
      "Accuracy: 70.65217391304348\n",
      "Sensitivity (Recall): 54.54545454545454\n",
      "Specificity: 85.41666666666666\n",
      "F1 Score: 0.6657645466847091\n",
      "AUC Score: 0.8309659090909091\n",
      "Completed\n"
     ]
    }
   ],
   "source": [
    "best_model_state=torch.load(cnn_modelfullpath, map_location=device)\n",
    "model.load_state_dict(best_model_state,strict=True)\n",
    "model.eval()\n",
    "print('Fine tune model loaded')\n",
    "\n",
    "tr_accuracy, tr_est,tr_labels,tr_scores= evaluate_binary_accuracy(model, train_loader)\n",
    "print(f'Train Binary Accuracy: {tr_accuracy:.4f}')\n",
    "perf_metrics(tr_labels, tr_est,tr_scores)\n",
    "print('\\n')\n",
    "v_accuracy,val_est,val_labels, val_scores = evaluate_binary_accuracy(model, val_loader)\n",
    "print(f'Validation Binary Accuracy: {v_accuracy:.4f}')\n",
    "perf_metrics(val_labels, val_est,val_scores)\n",
    "print('\\n')\n",
    "test_accuracy,test_est,test_labels, test_scores = evaluate_binary_accuracy(model, test_loader)\n",
    "print(f'Test Binary Accuracy: {test_accuracy:.4f}')\n",
    "perf_metrics(test_labels, test_est,test_scores)\n",
    "\n",
    "print('Completed')"
   ]
  }
 ],
 "metadata": {
  "kernelspec": {
   "display_name": "mybertV2",
   "language": "python",
   "name": "python3"
  },
  "language_info": {
   "codemirror_mode": {
    "name": "ipython",
    "version": 3
   },
   "file_extension": ".py",
   "mimetype": "text/x-python",
   "name": "python",
   "nbconvert_exporter": "python",
   "pygments_lexer": "ipython3",
   "version": "3.9.18"
  }
 },
 "nbformat": 4,
 "nbformat_minor": 2
}
