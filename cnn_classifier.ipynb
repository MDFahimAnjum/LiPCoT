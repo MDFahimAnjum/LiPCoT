{
 "cells": [
  {
   "cell_type": "markdown",
   "metadata": {},
   "source": [
    "## Binary classification with CNN\n",
    "\n",
    "The paths utilized are defiend in the `path_module.py`\n",
    "\n",
    "Before this, the data must be processed and tokenized. \n",
    "1. `data_processing` notebook loads raw data and prepares training,validation and test dataset\n",
    "2. `data_tokenizer`notebook tokenizes the data using LiPCoT model\n",
    "\n",
    "### 1. Import libraries"
   ]
  },
  {
   "cell_type": "code",
   "execution_count": 12,
   "metadata": {},
   "outputs": [],
   "source": [
    "from modules.bert_module import *\n",
    "from modules.path_module import *\n",
    "from modules.utils_module import *\n",
    "import os\n",
    "import joblib\n",
    "import torch\n",
    "import numpy as np"
   ]
  },
  {
   "cell_type": "markdown",
   "metadata": {},
   "source": [
    "### 2. Load tokenized data"
   ]
  },
  {
   "cell_type": "code",
   "execution_count": 13,
   "metadata": {},
   "outputs": [],
   "source": [
    "train_data=joblib.load(os.path.join(tokenized_data_savepath,\"train_data.joblib\"))\n",
    "test_data=joblib.load(os.path.join(tokenized_data_savepath,\"test_data.joblib\"))\n",
    "val_data=joblib.load(os.path.join(tokenized_data_savepath,\"val_data.joblib\"))"
   ]
  },
  {
   "cell_type": "markdown",
   "metadata": {},
   "source": [
    "### 3. Prepare data for CNN\n",
    "- We extract only the signal data and labels from dataset for CNN\n",
    "- We train using the training set and save the model that gives the best performance on the validation set"
   ]
  },
  {
   "cell_type": "code",
   "execution_count": 14,
   "metadata": {},
   "outputs": [],
   "source": [
    "train_sigdata,train_label=prepare_cnn_data(val_data)\n",
    "val_sigdata,val_label=prepare_cnn_data(train_data)\n",
    "test_sigdata,test_label=prepare_cnn_data(test_data)"
   ]
  },
  {
   "cell_type": "markdown",
   "metadata": {},
   "source": [
    "### 4. CNN model"
   ]
  },
  {
   "cell_type": "markdown",
   "metadata": {},
   "source": [
    "Paper: https://link.springer.com/article/10.1007/s00521-018-3689-5\n",
    "\n",
    "Architecture: https://link.springer.com/article/10.1007/s00521-018-3689-5/tables/1"
   ]
  },
  {
   "cell_type": "markdown",
   "metadata": {},
   "source": [
    "| Layers | Layer name    | Kernel size | No. of filters | Stride | Output shape | No. of trainable parameters | Regularization  |\n",
    "|--------|---------------|-------------|----------------|--------|--------------|-----------------------------|-----------------|\n",
    "| 0      | Input         | –           | –              | –      | 2500 x 59    | 0                           | –               |\n",
    "| 1      | 1D convolution| 20 x 1      | 5              | 1      | 2481 x 5     | 6000                        | –               |\n",
    "| 2      | Max-pooling   | 2 x 1       | 5              | 2      | 1240 x 5     | 0                           | –               |\n",
    "| 3      | 1D convolution| 10 x 1      | 10             | 1      | 1231 x 10    | 5000                        | –               |\n",
    "| 4      | Max-pooling   | 2 x 1       | 10             | 2      | 615 x 10     | 0                           | –               |\n",
    "| 5      | 1D convolution| 10 x 1      | 10             | 1      | 606 x 10     | 10000                       | –               |\n",
    "| 6      | Max-pooling   | 2 x 1       | 10             | 2      | 303 x 10     | 0                           | –               |\n",
    "| 7      | 1D convolution| 5 x 1       | 15             | 1      | 299 x 15     | 7500                        | –               |\n",
    "| 8      | Max-pooling   | 2 x 1       | 15             | 2      | 149 x 15     | 0                           | –               |\n",
    "| 10     | Dense         | –           | –              | –      | 20           | 44800                       | Dropout (0.5)   |\n",
    "| 12     | Dense         | –           | –              | –      | 10           | 210                         | Dropout (0.5)   |\n",
    "| 13     | Dense         | –           | –              | –      | 2            | 22                          | –               |\n",
    "|        | Total         |             |                |        |              | 68332                       |                 |\n"
   ]
  },
  {
   "cell_type": "code",
   "execution_count": 15,
   "metadata": {},
   "outputs": [],
   "source": [
    "import torch.nn as nn\n",
    "import torch.nn.functional as F\n",
    "\n",
    "class CNN_Model(nn.Module):\n",
    "    def __init__(self,chan_total,signal_length):\n",
    "        super(CNN_Model, self).__init__()\n",
    "        self.conv1 = nn.Conv1d(in_channels=chan_total, out_channels=5, kernel_size=20, stride=1,padding=0)\n",
    "        self.pool = nn.AvgPool1d(kernel_size=2)\n",
    "        self.conv2=nn.Conv1d(in_channels=5, out_channels=10, kernel_size=10, stride=1,padding=0)\n",
    "        self.conv3=nn.Conv1d(in_channels=10, out_channels=10, kernel_size=10, stride=1,padding=0)\n",
    "        self.conv4=nn.Conv1d(in_channels=10, out_channels=15, kernel_size=5, stride=1,padding=0)\n",
    "        self.fc1 = nn.Linear(int(149*15), 20)\n",
    "        self.fc2 = nn.Linear(20, 10)\n",
    "        self.fc3 = nn.Linear(10, 2)\n",
    "        self.dropout = nn.Dropout(0.5)\n",
    "        \n",
    "    def forward(self, x):\n",
    "        x = F.relu(self.conv1(x)) # layer 1\n",
    "        x = self.pool(x) # layer 2\n",
    "        x=F.relu(self.conv2(x)) # layer 3\n",
    "        x = self.pool(x) # layer 4\n",
    "        x=F.relu(self.conv3(x)) # layer 5\n",
    "        x = self.pool(x) # layer 6\n",
    "        x=F.relu(self.conv4(x)) # layer 7\n",
    "        x = self.pool(x) # layer 8\n",
    "        x = x.view(-1, int(149*15)) \n",
    "        x = self.dropout(x) # layer 9\n",
    "        x=self.fc1(x) # layer 10\n",
    "        x = self.dropout(x) # layer 11\n",
    "        x=self.fc2(x) # layer 12\n",
    "        x=self.fc3(x) # layer 13\n",
    "        return x"
   ]
  },
  {
   "cell_type": "markdown",
   "metadata": {},
   "source": [
    "### 5. Initialize CNN model"
   ]
  },
  {
   "cell_type": "code",
   "execution_count": 16,
   "metadata": {},
   "outputs": [
    {
     "name": "stdout",
     "output_type": "stream",
     "text": [
      "Running on: cpu\n",
      "Model created\n"
     ]
    }
   ],
   "source": [
    "import torch.optim as optim\n",
    "from torch import cuda\n",
    "\n",
    "# Set the random seed for reproducibility\n",
    "random_seed = 42\n",
    "random.seed(random_seed)\n",
    "torch.manual_seed(random_seed)\n",
    "torch.cuda.manual_seed(random_seed)\n",
    "np.random.seed(random_seed)\n",
    "\n",
    "# use GPU\n",
    "device='cpu'#'cuda' if cuda.is_available() else 'cpu'\n",
    "print(\"Running on: \"+device)\n",
    "cuda.empty_cache()\n",
    "\n",
    "# initialize model\n",
    "n_chan=train_data[0].data.shape[1]\n",
    "n_datalength=train_data[0].data.shape[0]\n",
    "model = CNN_Model(n_chan,n_datalength)\n",
    "model.to(device)\n",
    "print('Model created')"
   ]
  },
  {
   "cell_type": "markdown",
   "metadata": {},
   "source": [
    "### 6. Configure Training"
   ]
  },
  {
   "cell_type": "code",
   "execution_count": 17,
   "metadata": {},
   "outputs": [],
   "source": [
    "batch_size = 16#1 # could not find\n",
    "#num_epochs = 64\n",
    "num_epochs = 70 # from paper\n",
    "lrate=1e-4 #from paper\n",
    "patience=80 # no early stopping from paper\n",
    "# Define loss function and optimizer\n",
    "criterion = nn.BCELoss()\n",
    "optimizer = optim.Adam(model.parameters(), lr=lrate)\n",
    "cnn_modelfullpath=os.path.join(cnn_modelpath,'cnn.pt')\n",
    "\n",
    "training_arg={\n",
    "    'modelfullpath': cnn_modelfullpath,\n",
    "    'criterion': criterion,\n",
    "    'optimizer': optimizer,\n",
    "    'epochs': num_epochs,\n",
    "    'patience': patience,\n",
    "    'seed': random_seed\n",
    "}"
   ]
  },
  {
   "cell_type": "markdown",
   "metadata": {},
   "source": [
    "### 7. Prepare data"
   ]
  },
  {
   "cell_type": "code",
   "execution_count": 18,
   "metadata": {},
   "outputs": [],
   "source": [
    "from torch.utils.data import DataLoader, TensorDataset\n",
    "\n",
    "train_dataset = TensorDataset(torch.stack(train_sigdata), torch.stack(train_label))\n",
    "val_dataset = TensorDataset(torch.stack(val_sigdata), torch.stack(val_label))\n",
    "test_dataset = TensorDataset(torch.stack(test_sigdata), torch.stack(test_label))\n",
    "\n",
    "train_loader = DataLoader(train_dataset, batch_size=batch_size, shuffle=True)\n",
    "val_loader = DataLoader(val_dataset, batch_size=1, shuffle=False)\n",
    "test_loader = DataLoader(test_dataset, batch_size=1, shuffle=False)"
   ]
  },
  {
   "cell_type": "markdown",
   "metadata": {},
   "source": [
    "### 8. Train model"
   ]
  },
  {
   "cell_type": "code",
   "execution_count": 19,
   "metadata": {},
   "outputs": [
    {
     "name": "stderr",
     "output_type": "stream",
     "text": [
      "Epoch 1/70:   0%|          | 0/9 [00:00<?, ?it/s]"
     ]
    },
    {
     "name": "stderr",
     "output_type": "stream",
     "text": [
      "Epoch 1/70: 100%|██████████| 9/9 [00:00<00:00, 33.02it/s]\n"
     ]
    },
    {
     "name": "stdout",
     "output_type": "stream",
     "text": [
      "model state saved with validation accuracy: 47.8261\n"
     ]
    },
    {
     "name": "stderr",
     "output_type": "stream",
     "text": [
      "Epoch 2/70: 100%|██████████| 9/9 [00:00<00:00, 36.88it/s]\n"
     ]
    },
    {
     "name": "stdout",
     "output_type": "stream",
     "text": [
      "model state saved with validation accuracy: 48.7578\n"
     ]
    },
    {
     "name": "stderr",
     "output_type": "stream",
     "text": [
      "Epoch 3/70: 100%|██████████| 9/9 [00:00<00:00, 34.08it/s]\n"
     ]
    },
    {
     "name": "stdout",
     "output_type": "stream",
     "text": [
      "model state saved with validation accuracy: 51.8634\n"
     ]
    },
    {
     "name": "stderr",
     "output_type": "stream",
     "text": [
      "Epoch 4/70: 100%|██████████| 9/9 [00:00<00:00, 34.80it/s]\n"
     ]
    },
    {
     "name": "stdout",
     "output_type": "stream",
     "text": [
      "model state saved with validation accuracy: 54.6584\n"
     ]
    },
    {
     "name": "stderr",
     "output_type": "stream",
     "text": [
      "Epoch 5/70: 100%|██████████| 9/9 [00:00<00:00, 35.34it/s]\n"
     ]
    },
    {
     "name": "stdout",
     "output_type": "stream",
     "text": [
      "model state saved with validation accuracy: 57.4534\n"
     ]
    },
    {
     "name": "stderr",
     "output_type": "stream",
     "text": [
      "Epoch 6/70: 100%|██████████| 9/9 [00:00<00:00, 36.19it/s]\n"
     ]
    },
    {
     "name": "stdout",
     "output_type": "stream",
     "text": [
      "model state saved with validation accuracy: 58.3851\n"
     ]
    },
    {
     "name": "stderr",
     "output_type": "stream",
     "text": [
      "Epoch 7/70: 100%|██████████| 9/9 [00:00<00:00, 34.94it/s]\n",
      "Epoch 8/70: 100%|██████████| 9/9 [00:00<00:00, 30.25it/s]\n",
      "Epoch 9/70: 100%|██████████| 9/9 [00:00<00:00, 34.81it/s]\n",
      "Epoch 10/70: 100%|██████████| 9/9 [00:00<00:00, 37.24it/s]\n",
      "Epoch 11/70: 100%|██████████| 9/9 [00:00<00:00, 34.73it/s]\n",
      "Epoch 12/70: 100%|██████████| 9/9 [00:00<00:00, 40.53it/s]\n"
     ]
    },
    {
     "name": "stdout",
     "output_type": "stream",
     "text": [
      "model state saved with validation accuracy: 59.0062\n"
     ]
    },
    {
     "name": "stderr",
     "output_type": "stream",
     "text": [
      "Epoch 13/70: 100%|██████████| 9/9 [00:00<00:00, 35.99it/s]\n",
      "Epoch 14/70: 100%|██████████| 9/9 [00:00<00:00, 34.01it/s]\n",
      "Epoch 15/70: 100%|██████████| 9/9 [00:00<00:00, 39.46it/s]\n",
      "Epoch 16/70: 100%|██████████| 9/9 [00:00<00:00, 36.88it/s]\n",
      "Epoch 17/70: 100%|██████████| 9/9 [00:00<00:00, 43.25it/s]\n",
      "Epoch 18/70: 100%|██████████| 9/9 [00:00<00:00, 39.38it/s]\n",
      "Epoch 19/70: 100%|██████████| 9/9 [00:00<00:00, 37.97it/s]\n"
     ]
    },
    {
     "name": "stdout",
     "output_type": "stream",
     "text": [
      "model state saved with validation accuracy: 60.5590\n"
     ]
    },
    {
     "name": "stderr",
     "output_type": "stream",
     "text": [
      "Epoch 20/70: 100%|██████████| 9/9 [00:00<00:00, 41.36it/s]\n",
      "Epoch 21/70: 100%|██████████| 9/9 [00:00<00:00, 41.85it/s]\n",
      "Epoch 22/70: 100%|██████████| 9/9 [00:00<00:00, 43.88it/s]\n",
      "Epoch 23/70: 100%|██████████| 9/9 [00:00<00:00, 47.86it/s]\n",
      "Epoch 24/70: 100%|██████████| 9/9 [00:00<00:00, 43.25it/s]\n"
     ]
    },
    {
     "name": "stdout",
     "output_type": "stream",
     "text": [
      "model state saved with validation accuracy: 62.7329\n"
     ]
    },
    {
     "name": "stderr",
     "output_type": "stream",
     "text": [
      "Epoch 25/70: 100%|██████████| 9/9 [00:00<00:00, 46.14it/s]\n",
      "Epoch 26/70: 100%|██████████| 9/9 [00:00<00:00, 42.84it/s]\n",
      "Epoch 27/70: 100%|██████████| 9/9 [00:00<00:00, 45.21it/s]\n",
      "Epoch 28/70: 100%|██████████| 9/9 [00:00<00:00, 44.61it/s]\n",
      "Epoch 29/70: 100%|██████████| 9/9 [00:00<00:00, 46.38it/s]\n",
      "Epoch 30/70: 100%|██████████| 9/9 [00:00<00:00, 45.89it/s]\n",
      "Epoch 31/70: 100%|██████████| 9/9 [00:00<00:00, 44.11it/s]\n",
      "Epoch 32/70: 100%|██████████| 9/9 [00:00<00:00, 46.62it/s]\n",
      "Epoch 33/70: 100%|██████████| 9/9 [00:00<00:00, 46.86it/s]\n",
      "Epoch 34/70: 100%|██████████| 9/9 [00:00<00:00, 44.11it/s]\n",
      "Epoch 35/70: 100%|██████████| 9/9 [00:00<00:00, 47.10it/s]\n",
      "Epoch 36/70: 100%|██████████| 9/9 [00:00<00:00, 38.28it/s]\n",
      "Epoch 37/70: 100%|██████████| 9/9 [00:00<00:00, 44.54it/s]\n",
      "Epoch 38/70: 100%|██████████| 9/9 [00:00<00:00, 43.26it/s]\n",
      "Epoch 39/70: 100%|██████████| 9/9 [00:00<00:00, 40.71it/s]\n",
      "Epoch 40/70: 100%|██████████| 9/9 [00:00<00:00, 42.24it/s]\n",
      "Epoch 41/70: 100%|██████████| 9/9 [00:00<00:00, 43.14it/s]\n",
      "Epoch 42/70: 100%|██████████| 9/9 [00:00<00:00, 42.44it/s]\n",
      "Epoch 43/70: 100%|██████████| 9/9 [00:00<00:00, 39.29it/s]\n",
      "Epoch 44/70: 100%|██████████| 9/9 [00:00<00:00, 36.13it/s]\n",
      "Epoch 45/70: 100%|██████████| 9/9 [00:00<00:00, 38.45it/s]\n",
      "Epoch 46/70: 100%|██████████| 9/9 [00:00<00:00, 41.45it/s]\n",
      "Epoch 47/70: 100%|██████████| 9/9 [00:00<00:00, 44.49it/s]\n",
      "Epoch 48/70: 100%|██████████| 9/9 [00:00<00:00, 47.85it/s]\n",
      "Epoch 49/70: 100%|██████████| 9/9 [00:00<00:00, 45.90it/s]\n",
      "Epoch 50/70: 100%|██████████| 9/9 [00:00<00:00, 44.76it/s]\n",
      "Epoch 51/70: 100%|██████████| 9/9 [00:00<00:00, 42.54it/s]\n",
      "Epoch 52/70: 100%|██████████| 9/9 [00:00<00:00, 41.65it/s]\n",
      "Epoch 53/70: 100%|██████████| 9/9 [00:00<00:00, 44.98it/s]\n",
      "Epoch 54/70: 100%|██████████| 9/9 [00:00<00:00, 46.36it/s]\n",
      "Epoch 55/70: 100%|██████████| 9/9 [00:00<00:00, 41.28it/s]\n",
      "Epoch 56/70: 100%|██████████| 9/9 [00:00<00:00, 46.38it/s]\n",
      "Epoch 57/70: 100%|██████████| 9/9 [00:00<00:00, 45.16it/s]\n",
      "Epoch 58/70: 100%|██████████| 9/9 [00:00<00:00, 46.14it/s]\n",
      "Epoch 59/70: 100%|██████████| 9/9 [00:00<00:00, 43.25it/s]\n",
      "Epoch 60/70: 100%|██████████| 9/9 [00:00<00:00, 43.26it/s]\n",
      "Epoch 61/70: 100%|██████████| 9/9 [00:00<00:00, 45.89it/s]\n",
      "Epoch 62/70: 100%|██████████| 9/9 [00:00<00:00, 43.68it/s]\n",
      "Epoch 63/70: 100%|██████████| 9/9 [00:00<00:00, 45.21it/s]\n",
      "Epoch 64/70: 100%|██████████| 9/9 [00:00<00:00, 45.22it/s]\n",
      "Epoch 65/70: 100%|██████████| 9/9 [00:00<00:00, 45.67it/s]\n",
      "Epoch 66/70: 100%|██████████| 9/9 [00:00<00:00, 45.45it/s]\n"
     ]
    },
    {
     "name": "stdout",
     "output_type": "stream",
     "text": [
      "model state saved with validation accuracy: 63.3540\n"
     ]
    },
    {
     "name": "stderr",
     "output_type": "stream",
     "text": [
      "Epoch 67/70: 100%|██████████| 9/9 [00:00<00:00, 45.21it/s]\n",
      "Epoch 68/70: 100%|██████████| 9/9 [00:00<00:00, 45.89it/s]\n",
      "Epoch 69/70: 100%|██████████| 9/9 [00:00<00:00, 44.99it/s]\n",
      "Epoch 70/70: 100%|██████████| 9/9 [00:00<00:00, 43.88it/s]\n"
     ]
    }
   ],
   "source": [
    "results= model_trainer(model,train_loader,val_loader,training_arg)"
   ]
  },
  {
   "cell_type": "markdown",
   "metadata": {},
   "source": [
    "### 9. Inspect training process"
   ]
  },
  {
   "cell_type": "code",
   "execution_count": 20,
   "metadata": {},
   "outputs": [
    {
     "data": {
      "image/png": "[encoded data removed]",
      "text/plain": [
       "<Figure size 640x480 with 1 Axes>"
      ]
     },
     "metadata": {},
     "output_type": "display_data"
    },
    {
     "data": {
      "image/png": "[encoded data removed]",
      "text/plain": [
       "<Figure size 640x480 with 1 Axes>"
      ]
     },
     "metadata": {},
     "output_type": "display_data"
    }
   ],
   "source": [
    "plt.figure()\n",
    "plt.plot(results['epoch_loss'])\n",
    "plt.xlabel('epoch')\n",
    "plt.ylabel('Avg loss')\n",
    "plt.show()\n",
    "\n",
    "\n",
    "plt.figure()\n",
    "plt.plot(results['training_acc'],label='Training data')\n",
    "plt.plot(results['validation_acc'],label='Validation data')\n",
    "plt.legend()\n",
    "plt.xlabel('epoch')\n",
    "plt.ylabel('Accuracy')\n",
    "plt.show()"
   ]
  },
  {
   "cell_type": "markdown",
   "metadata": {},
   "source": [
    "### 10. Evaluate model"
   ]
  },
  {
   "cell_type": "code",
   "execution_count": 21,
   "metadata": {},
   "outputs": [
    {
     "name": "stdout",
     "output_type": "stream",
     "text": [
      "Fine tune model loaded\n",
      "Train Binary Accuracy: 100.0000\n",
      "Confusion Matrix:\n",
      "[[72  0]\n",
      " [ 0 66]]\n",
      "Accuracy: 100.0\n",
      "Precision: 100.0\n",
      "Sensitivity (Recall): 100.0\n",
      "Specificity: 100.0\n",
      "F1 Score: 1.0\n",
      "AUC Score: 1.0\n",
      "\n",
      "\n",
      "Validation Binary Accuracy: 63.3540\n",
      "Confusion Matrix:\n",
      "[[101  67]\n",
      " [ 51 103]]\n",
      "Accuracy: 63.35403726708074\n",
      "Precision: 60.588235294117645\n",
      "Sensitivity (Recall): 66.88311688311688\n",
      "Specificity: 60.11904761904761\n",
      "F1 Score: 0.6358024691358024\n",
      "AUC Score: 0.6413497217068647\n",
      "\n",
      "\n",
      "Test Binary Accuracy: 51.0870\n",
      "Confusion Matrix:\n",
      "[[26 22]\n",
      " [23 21]]\n",
      "Accuracy: 51.08695652173913\n",
      "Precision: 48.837209302325576\n",
      "Sensitivity (Recall): 47.72727272727273\n",
      "Specificity: 54.166666666666664\n",
      "F1 Score: 0.4827586206896552\n",
      "AUC Score: 0.5392992424242424\n",
      "Completed\n"
     ]
    }
   ],
   "source": [
    "best_model_state=torch.load(cnn_modelfullpath, map_location=device)\n",
    "model.load_state_dict(best_model_state,strict=True)\n",
    "model.eval()\n",
    "print('Fine tune model loaded')\n",
    "\n",
    "tr_accuracy, tr_est,tr_labels,tr_scores= evaluate_binary_accuracy(model, train_loader)\n",
    "print(f'Train Binary Accuracy: {tr_accuracy:.4f}')\n",
    "perf_metrics(tr_labels, tr_est,tr_scores)\n",
    "print('\\n')\n",
    "v_accuracy,val_est,val_labels, val_scores = evaluate_binary_accuracy(model, val_loader)\n",
    "print(f'Validation Binary Accuracy: {v_accuracy:.4f}')\n",
    "perf_metrics(val_labels, val_est,val_scores)\n",
    "print('\\n')\n",
    "test_accuracy,test_est,test_labels, test_scores = evaluate_binary_accuracy(model, test_loader)\n",
    "print(f'Test Binary Accuracy: {test_accuracy:.4f}')\n",
    "perf_metrics(test_labels, test_est,test_scores)\n",
    "\n",
    "print('Completed')"
   ]
  }
 ],
 "metadata": {
  "kernelspec": {
   "display_name": "mybertV2",
   "language": "python",
   "name": "python3"
  },
  "language_info": {
   "codemirror_mode": {
    "name": "ipython",
    "version": 3
   },
   "file_extension": ".py",
   "mimetype": "text/x-python",
   "name": "python",
   "nbconvert_exporter": "python",
   "pygments_lexer": "ipython3",
   "version": "3.9.18"
  }
 },
 "nbformat": 4,
 "nbformat_minor": 2
}
