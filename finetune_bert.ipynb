{
 "cells": [
  {
   "cell_type": "markdown",
   "metadata": {},
   "source": [
    "## Fine Tune a PreTrain a BERT model for Binary classification\n",
    "Before this, the data must be processed, tokenized and prepared. Next, we need a pretrained bert model.\n",
    "1. `data_processing` notebook loads raw data and prepares training,validation and test dataset\n",
    "2. `data_tokenizer`notebook tokenizes the data using LiPCoT model\n",
    "3. `data_prepare` notebook prepares datasets for BERT models\n",
    "4. `pretrain_bert` notebook conducts pretraining of BERT model\n",
    "\n",
    "Here, we will use training and validation dataset for fine-tuning. Then test set is used for evaluation\n",
    "### 1. Import libraries"
   ]
  },
  {
   "cell_type": "code",
   "execution_count": 1,
   "metadata": {},
   "outputs": [],
   "source": [
    "import os\n",
    "import joblib\n",
    "from modules.bert_module import *\n",
    "from modules.path_module import *\n",
    "from transformers import BertForMaskedLM\n",
    "from torch import cuda\n",
    "from tqdm import tqdm\n",
    "import torch.optim as optim\n",
    "from torch.utils.data import DataLoader"
   ]
  },
  {
   "cell_type": "markdown",
   "metadata": {},
   "source": [
    "### 2. Load datasets\n",
    "We are going to use the validation set for training the fine-tune model. The training set for the pre-trained model will be used with labels as a validation."
   ]
  },
  {
   "cell_type": "code",
   "execution_count": 2,
   "metadata": {},
   "outputs": [],
   "source": [
    "train_dataset=joblib.load( os.path.join(bert_datapath,\"val_data.joblib\"))\n",
    "val_dataset=joblib.load( os.path.join(bert_datapath,\"train_data.joblib\"))\n",
    "test_dataset=joblib.load(os.path.join(bert_datapath,\"test_data.joblib\"))"
   ]
  },
  {
   "cell_type": "markdown",
   "metadata": {},
   "source": [
    "### 3. Create Fine-tune classification model"
   ]
  },
  {
   "cell_type": "code",
   "execution_count": 3,
   "metadata": {},
   "outputs": [
    {
     "name": "stdout",
     "output_type": "stream",
     "text": [
      "PreTrained Model loaded\n",
      "Running on: cuda\n",
      "FineTune Model created\n"
     ]
    }
   ],
   "source": [
    "model = BertForMaskedLM.from_pretrained(bert_modelpath)\n",
    "print('PreTrained Model loaded')\n",
    "# use GPU\n",
    "device='cuda' if cuda.is_available() else 'cpu'\n",
    "print(\"Running on: \"+device)\n",
    "cuda.empty_cache()\n",
    "\n",
    "# Instantiate the classification model\n",
    "num_classes = 2  # Number of classes in classification task\n",
    "classification_model = BertForSequenceClassification(model, num_classes,device)\n",
    "classification_model.to(device)  # Move model to the device (e.g., GPU if available)\n",
    "print('FineTune Model created')"
   ]
  },
  {
   "cell_type": "markdown",
   "metadata": {},
   "source": [
    "### 4. Configure Training "
   ]
  },
  {
   "cell_type": "code",
   "execution_count": 4,
   "metadata": {},
   "outputs": [],
   "source": [
    "num_epochs = 64 #128\n",
    "training_batch_size=1\n",
    "learning_rate=5e-6 #5e-6#2e-6\n",
    "# Define optimizer and loss function\n",
    "optimizer = optim.Adam(classification_model.parameters(), lr=learning_rate)\n",
    "criterion = nn.BCELoss()#nn.CrossEntropyLoss()\n",
    "bert_finetune_modelfullpath=os.path.join(bert_finetune_modelpath,'finetune_bert.pt')"
   ]
  },
  {
   "cell_type": "markdown",
   "metadata": {},
   "source": [
    "### 5. Create DataLoaders"
   ]
  },
  {
   "cell_type": "code",
   "execution_count": 5,
   "metadata": {},
   "outputs": [],
   "source": [
    "train_loader = DataLoader(train_dataset, batch_size=training_batch_size, shuffle=True)\n",
    "val_loader = DataLoader(val_dataset, batch_size=1, shuffle=False)\n",
    "test_loader = DataLoader(test_dataset, batch_size=1, shuffle=False)"
   ]
  },
  {
   "cell_type": "markdown",
   "metadata": {},
   "source": [
    "### 6. Train and evaluate via validation set\n",
    "We train using the training set and save the model that gives the best performance on the validation set"
   ]
  },
  {
   "cell_type": "code",
   "execution_count": 6,
   "metadata": {},
   "outputs": [
    {
     "name": "stderr",
     "output_type": "stream",
     "text": [
      "Epoch 1/64: 100%|██████████| 138/138 [00:05<00:00, 23.34batch/s, Loss=0.69] \n"
     ]
    },
    {
     "name": "stdout",
     "output_type": "stream",
     "text": [
      "model state saved with validation accuracy: 60.8696\n"
     ]
    },
    {
     "name": "stderr",
     "output_type": "stream",
     "text": [
      "Epoch 2/64: 100%|██████████| 138/138 [00:05<00:00, 26.33batch/s, Loss=0.401]\n"
     ]
    },
    {
     "name": "stdout",
     "output_type": "stream",
     "text": [
      "model state saved with validation accuracy: 68.9441\n"
     ]
    },
    {
     "name": "stderr",
     "output_type": "stream",
     "text": [
      "Epoch 3/64: 100%|██████████| 138/138 [00:05<00:00, 26.43batch/s, Loss=0.917]\n"
     ]
    },
    {
     "name": "stdout",
     "output_type": "stream",
     "text": [
      "model state saved with validation accuracy: 71.1180\n"
     ]
    },
    {
     "name": "stderr",
     "output_type": "stream",
     "text": [
      "Epoch 4/64: 100%|██████████| 138/138 [00:05<00:00, 26.21batch/s, Loss=0.745]\n",
      "Epoch 5/64: 100%|██████████| 138/138 [00:05<00:00, 26.83batch/s, Loss=0.355] \n",
      "Epoch 6/64: 100%|██████████| 138/138 [00:05<00:00, 26.54batch/s, Loss=0.629] \n",
      "Epoch 7/64: 100%|██████████| 138/138 [00:05<00:00, 26.87batch/s, Loss=0.159] \n",
      "Epoch 8/64: 100%|██████████| 138/138 [00:05<00:00, 26.83batch/s, Loss=0.11]  \n",
      "Epoch 9/64: 100%|██████████| 138/138 [00:05<00:00, 26.68batch/s, Loss=0.117] \n",
      "Epoch 10/64: 100%|██████████| 138/138 [00:05<00:00, 26.78batch/s, Loss=0.38]  \n",
      "Epoch 11/64: 100%|██████████| 138/138 [00:05<00:00, 26.87batch/s, Loss=0.0673]\n",
      "Epoch 12/64: 100%|██████████| 138/138 [00:05<00:00, 26.58batch/s, Loss=1.01]  \n",
      "Epoch 13/64: 100%|██████████| 138/138 [00:05<00:00, 26.91batch/s, Loss=0.0994]\n",
      "Epoch 14/64: 100%|██████████| 138/138 [00:05<00:00, 26.81batch/s, Loss=0.499] \n",
      "Epoch 15/64: 100%|██████████| 138/138 [00:06<00:00, 22.68batch/s, Loss=0.0316] \n",
      "Epoch 16/64: 100%|██████████| 138/138 [00:05<00:00, 26.64batch/s, Loss=0.123]  \n",
      "Epoch 17/64: 100%|██████████| 138/138 [00:05<00:00, 26.57batch/s, Loss=0.117]  \n",
      "Epoch 18/64: 100%|██████████| 138/138 [00:05<00:00, 26.24batch/s, Loss=0.149]  \n",
      "Epoch 19/64: 100%|██████████| 138/138 [00:05<00:00, 26.60batch/s, Loss=0.103]  \n",
      "Epoch 20/64: 100%|██████████| 138/138 [00:05<00:00, 26.87batch/s, Loss=0.046]  \n",
      "Epoch 21/64: 100%|██████████| 138/138 [00:05<00:00, 25.96batch/s, Loss=0.129]  \n",
      "Epoch 22/64: 100%|██████████| 138/138 [00:05<00:00, 26.61batch/s, Loss=0.099]  \n",
      "Epoch 23/64: 100%|██████████| 138/138 [00:05<00:00, 26.89batch/s, Loss=0.0403] \n",
      "Epoch 24/64: 100%|██████████| 138/138 [00:05<00:00, 26.28batch/s, Loss=0.00519]\n"
     ]
    },
    {
     "name": "stdout",
     "output_type": "stream",
     "text": [
      "model state saved with validation accuracy: 71.7391\n"
     ]
    },
    {
     "name": "stderr",
     "output_type": "stream",
     "text": [
      "Epoch 25/64: 100%|██████████| 138/138 [00:05<00:00, 26.36batch/s, Loss=0.00307]\n",
      "Epoch 26/64: 100%|██████████| 138/138 [00:05<00:00, 27.04batch/s, Loss=0.0115] \n",
      "Epoch 27/64: 100%|██████████| 138/138 [00:05<00:00, 26.79batch/s, Loss=0.134]  \n",
      "Epoch 28/64: 100%|██████████| 138/138 [00:05<00:00, 27.10batch/s, Loss=0.00259]\n",
      "Epoch 29/64: 100%|██████████| 138/138 [00:05<00:00, 27.38batch/s, Loss=0.00627]\n",
      "Epoch 30/64: 100%|██████████| 138/138 [00:05<00:00, 26.80batch/s, Loss=0.00674]\n",
      "Epoch 31/64: 100%|██████████| 138/138 [00:05<00:00, 27.02batch/s, Loss=0.888]  \n",
      "Epoch 32/64: 100%|██████████| 138/138 [00:05<00:00, 26.96batch/s, Loss=0.358]  \n",
      "Epoch 33/64: 100%|██████████| 138/138 [00:05<00:00, 26.66batch/s, Loss=0.00186]\n",
      "Epoch 34/64: 100%|██████████| 138/138 [00:05<00:00, 27.30batch/s, Loss=0.0172] \n"
     ]
    },
    {
     "name": "stdout",
     "output_type": "stream",
     "text": [
      "model state saved with validation accuracy: 72.0497\n"
     ]
    },
    {
     "name": "stderr",
     "output_type": "stream",
     "text": [
      "Epoch 35/64: 100%|██████████| 138/138 [00:05<00:00, 27.20batch/s, Loss=0.00225]\n",
      "Epoch 36/64: 100%|██████████| 138/138 [00:05<00:00, 26.72batch/s, Loss=0.00584]\n",
      "Epoch 37/64: 100%|██████████| 138/138 [00:05<00:00, 26.48batch/s, Loss=0.00249]\n",
      "Epoch 38/64: 100%|██████████| 138/138 [00:05<00:00, 26.99batch/s, Loss=0.0628] \n",
      "Epoch 39/64: 100%|██████████| 138/138 [00:05<00:00, 26.80batch/s, Loss=0.00153]\n"
     ]
    },
    {
     "name": "stdout",
     "output_type": "stream",
     "text": [
      "model state saved with validation accuracy: 72.3602\n"
     ]
    },
    {
     "name": "stderr",
     "output_type": "stream",
     "text": [
      "Epoch 40/64: 100%|██████████| 138/138 [00:05<00:00, 26.99batch/s, Loss=0.00343]\n",
      "Epoch 41/64: 100%|██████████| 138/138 [00:05<00:00, 27.16batch/s, Loss=0.00958]\n",
      "Epoch 42/64: 100%|██████████| 138/138 [00:05<00:00, 27.09batch/s, Loss=0.00528]\n"
     ]
    },
    {
     "name": "stdout",
     "output_type": "stream",
     "text": [
      "model state saved with validation accuracy: 72.9814\n"
     ]
    },
    {
     "name": "stderr",
     "output_type": "stream",
     "text": [
      "Epoch 43/64: 100%|██████████| 138/138 [00:05<00:00, 27.29batch/s, Loss=0.00113]\n",
      "Epoch 44/64: 100%|██████████| 138/138 [00:05<00:00, 27.14batch/s, Loss=0.00111]\n"
     ]
    },
    {
     "name": "stdout",
     "output_type": "stream",
     "text": [
      "model state saved with validation accuracy: 73.2919\n"
     ]
    },
    {
     "name": "stderr",
     "output_type": "stream",
     "text": [
      "Epoch 45/64: 100%|██████████| 138/138 [00:05<00:00, 27.04batch/s, Loss=0.00361] \n",
      "Epoch 46/64: 100%|██████████| 138/138 [00:05<00:00, 27.30batch/s, Loss=0.00945] \n",
      "Epoch 47/64: 100%|██████████| 138/138 [00:05<00:00, 27.32batch/s, Loss=0.00724]\n",
      "Epoch 48/64: 100%|██████████| 138/138 [00:05<00:00, 26.54batch/s, Loss=0.0051]  \n",
      "Epoch 49/64: 100%|██████████| 138/138 [00:05<00:00, 27.21batch/s, Loss=0.00273] \n",
      "Epoch 50/64: 100%|██████████| 138/138 [00:05<00:00, 27.23batch/s, Loss=0.00652] \n",
      "Epoch 51/64: 100%|██████████| 138/138 [00:05<00:00, 26.94batch/s, Loss=0.00387] \n",
      "Epoch 52/64: 100%|██████████| 138/138 [00:05<00:00, 27.14batch/s, Loss=0.00343] \n",
      "Epoch 53/64: 100%|██████████| 138/138 [00:05<00:00, 27.18batch/s, Loss=0.0453]  \n"
     ]
    },
    {
     "name": "stdout",
     "output_type": "stream",
     "text": [
      "model state saved with validation accuracy: 73.9130\n"
     ]
    },
    {
     "name": "stderr",
     "output_type": "stream",
     "text": [
      "Epoch 54/64: 100%|██████████| 138/138 [00:05<00:00, 27.01batch/s, Loss=0.00159] \n",
      "Epoch 55/64: 100%|██████████| 138/138 [00:05<00:00, 26.67batch/s, Loss=0.00265] \n",
      "Epoch 56/64: 100%|██████████| 138/138 [00:05<00:00, 26.85batch/s, Loss=0.00075] \n",
      "Epoch 57/64: 100%|██████████| 138/138 [00:05<00:00, 26.36batch/s, Loss=0.000961]\n",
      "Epoch 58/64: 100%|██████████| 138/138 [00:05<00:00, 26.79batch/s, Loss=0.00185] \n",
      "Epoch 59/64: 100%|██████████| 138/138 [00:05<00:00, 26.79batch/s, Loss=0.0117]  \n",
      "Epoch 60/64: 100%|██████████| 138/138 [00:05<00:00, 26.82batch/s, Loss=0.000739]\n",
      "Epoch 61/64: 100%|██████████| 138/138 [00:05<00:00, 27.10batch/s, Loss=0.25]    \n",
      "Epoch 62/64: 100%|██████████| 138/138 [00:05<00:00, 26.82batch/s, Loss=0.00143] \n",
      "Epoch 63/64: 100%|██████████| 138/138 [00:05<00:00, 26.71batch/s, Loss=0.00175] \n",
      "Epoch 64/64: 100%|██████████| 138/138 [00:05<00:00, 26.40batch/s, Loss=0.0011]  \n"
     ]
    },
    {
     "name": "stdout",
     "output_type": "stream",
     "text": [
      "Fine tune completed\n"
     ]
    }
   ],
   "source": [
    "# Training loop\n",
    "average_epoch_loss_all=[]\n",
    "acc_train_all=[]\n",
    "acc_val_all=[]\n",
    "best_val_accuracy = 0.0\n",
    "\n",
    "for epoch in range(num_epochs):\n",
    "    classification_model.train()\n",
    "    epoch_loss = 0.0  # Initialize epoch loss\n",
    "    num_batches = len(train_loader)\n",
    "\n",
    "    # Use tqdm to create a progress bar for the training loop\n",
    "    with tqdm(total=num_batches, desc=f'Epoch {epoch + 1}/{num_epochs}', unit='batch') as progress_bar:\n",
    "        for batch_idx, batch in enumerate(train_loader):\n",
    "            input_ids = batch['input_ids'].to(device)\n",
    "            attention_mask = batch['attention_mask'].to(device)\n",
    "            labels = batch['label'].to(device)\n",
    "            # Convert labels to float type\n",
    "            labels = labels.float()\n",
    "            optimizer.zero_grad()\n",
    "            logits = classification_model(input_ids, attention_mask)\n",
    "            probs = torch.sigmoid(logits)\n",
    "            probs_normalized = probs / probs.sum(dim=1, keepdim=True)\n",
    "            loss = criterion(probs_normalized, labels)\n",
    "            loss.backward()\n",
    "            optimizer.step()\n",
    "\n",
    "            epoch_loss += loss.item()\n",
    "\n",
    "            # Update progress bar\n",
    "            progress_bar.set_postfix({'Loss': loss.item()})\n",
    "            progress_bar.update()\n",
    "\n",
    "    # Calculate and print average epoch loss\n",
    "    average_epoch_loss = epoch_loss / num_batches\n",
    "    #print(f'Epoch {epoch + 1} - Average Loss: {average_epoch_loss:.4f}')\n",
    "    average_epoch_loss_all.append(average_epoch_loss)\n",
    "    # Switch to evaluation mode for accuracy calculation\n",
    "    classification_model.eval()\n",
    "    # Calculate training accuracy\n",
    "    accuracy, _ , _ , _= evaluate_binary_accuracy(classification_model, train_loader,device)\n",
    "    acc_train_all.append(accuracy)\n",
    "    # Calculate validation accuracy\n",
    "    v_accuracy, _ , _ , _ = evaluate_binary_accuracy(classification_model, val_loader,device)\n",
    "    acc_val_all.append(v_accuracy)\n",
    "    # Check if current validation accuracy is the best\n",
    "    if v_accuracy > best_val_accuracy:\n",
    "        best_val_accuracy = v_accuracy\n",
    "        torch.save(classification_model.state_dict(),bert_finetune_modelfullpath) # Save the model state\n",
    "        print(f'model state saved with validation accuracy: {best_val_accuracy:.4f}')\n",
    "    # Switch back to training mode for the next epoch\n",
    "    classification_model.train()\n",
    "\n",
    "print('Fine tune completed')"
   ]
  },
  {
   "cell_type": "markdown",
   "metadata": {},
   "source": [
    "Let's plot the training and validation loss"
   ]
  },
  {
   "cell_type": "code",
   "execution_count": 7,
   "metadata": {},
   "outputs": [
    {
     "data": {
      "text/plain": [
       "<function matplotlib.pyplot.show(close=None, block=None)>"
      ]
     },
     "execution_count": 7,
     "metadata": {},
     "output_type": "execute_result"
    },
    {
     "data": {
      "image/png": "[encoded data removed]",
      "text/plain": [
       "<Figure size 640x480 with 1 Axes>"
      ]
     },
     "metadata": {},
     "output_type": "display_data"
    },
    {
     "data": {
      "image/png": "[encoded data removed]",
      "text/plain": [
       "<Figure size 640x480 with 1 Axes>"
      ]
     },
     "metadata": {},
     "output_type": "display_data"
    }
   ],
   "source": [
    "plt.figure()\n",
    "plt.plot(average_epoch_loss_all)\n",
    "plt.xlabel('epoch')\n",
    "plt.ylabel('Avg loss')\n",
    "plt.show\n",
    "\n",
    "\n",
    "plt.figure()\n",
    "plt.plot(acc_train_all,label='Training data')\n",
    "plt.plot(acc_val_all,label='Validation data')\n",
    "plt.legend()\n",
    "plt.xlabel('epoch')\n",
    "plt.ylabel('Accuracy')\n",
    "plt.show"
   ]
  },
  {
   "cell_type": "markdown",
   "metadata": {},
   "source": [
    "### 7. Evaluate model"
   ]
  },
  {
   "cell_type": "code",
   "execution_count": 8,
   "metadata": {},
   "outputs": [
    {
     "name": "stdout",
     "output_type": "stream",
     "text": [
      "Fine tune model loaded\n",
      "Train Binary Accuracy: 99.2754\n",
      "Confusion Matrix:\n",
      "[[72  0]\n",
      " [ 1 65]]\n",
      "Accuracy: 99.27536231884058\n",
      "Sensitivity (Recall): 98.48484848484848\n",
      "Specificity: 100.0\n",
      "F1 Score: 0.9923664122137404\n",
      "AUC Score: 1.0\n",
      "\n",
      "\n",
      "Validation Binary Accuracy: 73.9130\n",
      "Confusion Matrix:\n",
      "[[126  42]\n",
      " [ 42 112]]\n",
      "Accuracy: 73.91304347826086\n",
      "Sensitivity (Recall): 72.72727272727273\n",
      "Specificity: 75.0\n",
      "F1 Score: 0.7384615384615384\n",
      "AUC Score: 0.785095856524428\n",
      "\n",
      "\n",
      "Test Binary Accuracy: 68.4783\n",
      "Confusion Matrix:\n",
      "[[36 12]\n",
      " [17 27]]\n",
      "Accuracy: 68.47826086956522\n",
      "Sensitivity (Recall): 61.36363636363637\n",
      "Specificity: 75.0\n",
      "F1 Score: 0.6749999999999999\n",
      "AUC Score: 0.7604166666666666\n",
      "Completed\n"
     ]
    }
   ],
   "source": [
    "best_model_state=torch.load(bert_finetune_modelfullpath, map_location=device)\n",
    "classification_model.load_state_dict(best_model_state,strict=True)\n",
    "classification_model.eval()\n",
    "print('Fine tune model loaded')\n",
    "\n",
    "tr_accuracy, tr_est,tr_labels,tr_scores= evaluate_binary_accuracy(classification_model, train_loader,device)\n",
    "print(f'Train Binary Accuracy: {tr_accuracy:.4f}')\n",
    "perf_metrics(tr_labels, tr_est,tr_scores)\n",
    "print('\\n')\n",
    "v_accuracy,val_est,val_labels, val_scores = evaluate_binary_accuracy(classification_model, val_loader,device)\n",
    "print(f'Validation Binary Accuracy: {v_accuracy:.4f}')\n",
    "perf_metrics(val_labels, val_est,val_scores)\n",
    "print('\\n')\n",
    "test_accuracy,test_est,test_labels, test_scores = evaluate_binary_accuracy(classification_model, test_loader,device)\n",
    "print(f'Test Binary Accuracy: {test_accuracy:.4f}')\n",
    "perf_metrics(test_labels, test_est,test_scores)\n",
    "\n",
    "print('Completed')"
   ]
  }
 ],
 "metadata": {
  "kernelspec": {
   "display_name": "mybertV2",
   "language": "python",
   "name": "python3"
  },
  "language_info": {
   "codemirror_mode": {
    "name": "ipython",
    "version": 3
   },
   "file_extension": ".py",
   "mimetype": "text/x-python",
   "name": "python",
   "nbconvert_exporter": "python",
   "pygments_lexer": "ipython3",
   "version": "3.9.18"
  }
 },
 "nbformat": 4,
 "nbformat_minor": 2
}
