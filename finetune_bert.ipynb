{
 "cells": [
  {
   "cell_type": "markdown",
   "metadata": {},
   "source": [
    "## Fine Tune a PreTrain a BERT model for Binary classification\n",
    "Before this, the data must be processed, tokenized and prepared. Next, we need a pretrained bert model.\n",
    "1. `data_processing` notebook loads raw data and prepares training,validation and test dataset\n",
    "2. `data_tokenizer`notebook tokenizes the data using LiPCoT model\n",
    "3. `data_prepare` notebook prepares datasets for BERT models\n",
    "4. `pretrain_bert` notebook conducts pretraining of BERT model\n",
    "\n",
    "Here, we will use training and validation dataset for fine-tuning. Then test set is used for evaluation\n",
    "### 1. Import libraries"
   ]
  },
  {
   "cell_type": "code",
   "execution_count": 1,
   "metadata": {},
   "outputs": [],
   "source": [
    "import os\n",
    "import joblib\n",
    "from modules.bert_module import *\n",
    "from modules.path_module import *\n",
    "from transformers import BertForMaskedLM\n",
    "from torch import cuda\n",
    "from tqdm import tqdm\n",
    "import torch.optim as optim\n",
    "from torch.utils.data import DataLoader"
   ]
  },
  {
   "cell_type": "markdown",
   "metadata": {},
   "source": [
    "### 2. Load datasets\n",
    "We are going to use the validation set for training the fine-tune model. The training set for the pre-trained model will be used with labels as a validation."
   ]
  },
  {
   "cell_type": "code",
   "execution_count": 2,
   "metadata": {},
   "outputs": [],
   "source": [
    "train_dataset=joblib.load( os.path.join(bert_datapath,\"val_data.joblib\"))\n",
    "val_dataset=joblib.load( os.path.join(bert_datapath,\"train_data.joblib\"))\n",
    "test_dataset=joblib.load(os.path.join(bert_datapath,\"test_data.joblib\"))"
   ]
  },
  {
   "cell_type": "markdown",
   "metadata": {},
   "source": [
    "### 3. Create Fine-tune classification model"
   ]
  },
  {
   "cell_type": "code",
   "execution_count": 3,
   "metadata": {},
   "outputs": [
    {
     "name": "stdout",
     "output_type": "stream",
     "text": [
      "PreTrained Model loaded\n",
      "Running on: cuda\n",
      "FineTune Model created\n"
     ]
    }
   ],
   "source": [
    "model = BertForMaskedLM.from_pretrained(bert_modelpath)\n",
    "print('PreTrained Model loaded')\n",
    "# use GPU\n",
    "device='cuda' if cuda.is_available() else 'cpu'\n",
    "print(\"Running on: \"+device)\n",
    "cuda.empty_cache()\n",
    "\n",
    "# Instantiate the classification model\n",
    "num_classes = 2  # Number of classes in classification task\n",
    "classification_model = BertForSequenceClassification(model, num_classes,device)\n",
    "classification_model.to(device)  # Move model to the device (e.g., GPU if available)\n",
    "print('FineTune Model created')"
   ]
  },
  {
   "cell_type": "markdown",
   "metadata": {},
   "source": [
    "### 4. Configure Training "
   ]
  },
  {
   "cell_type": "code",
   "execution_count": 4,
   "metadata": {},
   "outputs": [],
   "source": [
    "num_epochs = 64 #128\n",
    "training_batch_size=4\n",
    "learning_rate=1.888861270702437e-05\n",
    "# Define optimizer and loss function\n",
    "optimizer = optim.Adam(classification_model.parameters(), lr=learning_rate)\n",
    "criterion = nn.BCELoss()#nn.CrossEntropyLoss()\n",
    "bert_finetune_modelfullpath=os.path.join(bert_finetune_modelpath,'finetune_bert.pt')\n",
    "\n",
    "random_seed=42\n",
    "patience=80\n",
    "training_arg={\n",
    "    'modelfullpath': bert_finetune_modelfullpath,\n",
    "    'criterion': criterion,\n",
    "    'optimizer': optimizer,\n",
    "    'epochs': num_epochs,\n",
    "    'patience': patience,\n",
    "    'seed': random_seed\n",
    "}"
   ]
  },
  {
   "cell_type": "markdown",
   "metadata": {},
   "source": [
    "### 5. Create DataLoaders"
   ]
  },
  {
   "cell_type": "code",
   "execution_count": 5,
   "metadata": {},
   "outputs": [],
   "source": [
    "train_loader = DataLoader(train_dataset, batch_size=training_batch_size, shuffle=True)\n",
    "val_loader = DataLoader(val_dataset, batch_size=1, shuffle=False)\n",
    "test_loader = DataLoader(test_dataset, batch_size=1, shuffle=False)"
   ]
  },
  {
   "cell_type": "markdown",
   "metadata": {},
   "source": [
    "### 6. Train and evaluate via validation set\n",
    "We train using the training set and save the model that gives the best performance on the validation set"
   ]
  },
  {
   "cell_type": "code",
   "execution_count": 6,
   "metadata": {},
   "outputs": [
    {
     "name": "stderr",
     "output_type": "stream",
     "text": [
      "Epoch 1/64: 100%|██████████| 35/35 [00:02<00:00, 17.29batch/s, Loss=0.592]\n"
     ]
    },
    {
     "name": "stdout",
     "output_type": "stream",
     "text": [
      "model state saved with validation accuracy: 72.9814\n"
     ]
    },
    {
     "name": "stderr",
     "output_type": "stream",
     "text": [
      "Epoch 2/64: 100%|██████████| 35/35 [00:01<00:00, 21.51batch/s, Loss=0.822]\n"
     ]
    },
    {
     "name": "stdout",
     "output_type": "stream",
     "text": [
      "model state saved with validation accuracy: 73.2919\n"
     ]
    },
    {
     "name": "stderr",
     "output_type": "stream",
     "text": [
      "Epoch 3/64: 100%|██████████| 35/35 [00:01<00:00, 19.52batch/s, Loss=0.383]\n"
     ]
    },
    {
     "name": "stdout",
     "output_type": "stream",
     "text": [
      "model state saved with validation accuracy: 74.8447\n"
     ]
    },
    {
     "name": "stderr",
     "output_type": "stream",
     "text": [
      "Epoch 4/64: 100%|██████████| 35/35 [00:01<00:00, 20.33batch/s, Loss=0.0709]\n"
     ]
    },
    {
     "name": "stdout",
     "output_type": "stream",
     "text": [
      "model state saved with validation accuracy: 77.0186\n"
     ]
    },
    {
     "name": "stderr",
     "output_type": "stream",
     "text": [
      "Epoch 5/64: 100%|██████████| 35/35 [00:01<00:00, 20.05batch/s, Loss=0.5]  \n"
     ]
    },
    {
     "name": "stdout",
     "output_type": "stream",
     "text": [
      "model state saved with validation accuracy: 78.8820\n"
     ]
    },
    {
     "name": "stderr",
     "output_type": "stream",
     "text": [
      "Epoch 6/64: 100%|██████████| 35/35 [00:01<00:00, 20.95batch/s, Loss=0.133] \n",
      "Epoch 7/64: 100%|██████████| 35/35 [00:01<00:00, 19.71batch/s, Loss=0.939] \n"
     ]
    },
    {
     "name": "stdout",
     "output_type": "stream",
     "text": [
      "model state saved with validation accuracy: 81.0559\n"
     ]
    },
    {
     "name": "stderr",
     "output_type": "stream",
     "text": [
      "Epoch 8/64: 100%|██████████| 35/35 [00:01<00:00, 21.34batch/s, Loss=0.0349]\n",
      "Epoch 9/64: 100%|██████████| 35/35 [00:01<00:00, 19.51batch/s, Loss=0.0932]\n"
     ]
    },
    {
     "name": "stdout",
     "output_type": "stream",
     "text": [
      "model state saved with validation accuracy: 81.6770\n"
     ]
    },
    {
     "name": "stderr",
     "output_type": "stream",
     "text": [
      "Epoch 10/64: 100%|██████████| 35/35 [00:01<00:00, 20.42batch/s, Loss=0.334] \n",
      "Epoch 11/64: 100%|██████████| 35/35 [00:01<00:00, 20.59batch/s, Loss=0.0843] \n",
      "Epoch 12/64: 100%|██████████| 35/35 [00:01<00:00, 21.28batch/s, Loss=0.00626]\n",
      "Epoch 13/64: 100%|██████████| 35/35 [00:01<00:00, 20.19batch/s, Loss=0.00958]\n",
      "Epoch 14/64: 100%|██████████| 35/35 [00:01<00:00, 21.57batch/s, Loss=0.0232] \n",
      "Epoch 15/64: 100%|██████████| 35/35 [00:01<00:00, 20.36batch/s, Loss=0.0954] \n",
      "Epoch 16/64: 100%|██████████| 35/35 [00:01<00:00, 21.88batch/s, Loss=0.0227] \n",
      "Epoch 17/64: 100%|██████████| 35/35 [00:01<00:00, 21.11batch/s, Loss=0.00848]\n",
      "Epoch 18/64: 100%|██████████| 35/35 [00:01<00:00, 21.74batch/s, Loss=0.00423]\n",
      "Epoch 19/64: 100%|██████████| 35/35 [00:01<00:00, 19.66batch/s, Loss=0.00652]\n"
     ]
    },
    {
     "name": "stdout",
     "output_type": "stream",
     "text": [
      "model state saved with validation accuracy: 82.2981\n"
     ]
    },
    {
     "name": "stderr",
     "output_type": "stream",
     "text": [
      "Epoch 20/64: 100%|██████████| 35/35 [00:01<00:00, 20.80batch/s, Loss=0.0414] \n",
      "Epoch 21/64: 100%|██████████| 35/35 [00:01<00:00, 21.33batch/s, Loss=0.022]  \n",
      "Epoch 22/64: 100%|██████████| 35/35 [00:01<00:00, 22.10batch/s, Loss=0.011]  \n"
     ]
    },
    {
     "name": "stdout",
     "output_type": "stream",
     "text": [
      "model state saved with validation accuracy: 82.6087\n"
     ]
    },
    {
     "name": "stderr",
     "output_type": "stream",
     "text": [
      "Epoch 23/64: 100%|██████████| 35/35 [00:01<00:00, 19.07batch/s, Loss=0.00509]\n",
      "Epoch 24/64: 100%|██████████| 35/35 [00:01<00:00, 21.33batch/s, Loss=0.00146]\n",
      "Epoch 25/64: 100%|██████████| 35/35 [00:01<00:00, 21.47batch/s, Loss=0.00309]\n",
      "Epoch 26/64: 100%|██████████| 35/35 [00:01<00:00, 21.72batch/s, Loss=0.00785]\n",
      "Epoch 27/64: 100%|██████████| 35/35 [00:01<00:00, 21.12batch/s, Loss=0.0112] \n",
      "Epoch 28/64: 100%|██████████| 35/35 [00:01<00:00, 21.78batch/s, Loss=0.00351]\n",
      "Epoch 29/64: 100%|██████████| 35/35 [00:01<00:00, 20.13batch/s, Loss=0.407]  \n",
      "Epoch 30/64: 100%|██████████| 35/35 [00:01<00:00, 21.56batch/s, Loss=0.0312] \n",
      "Epoch 31/64: 100%|██████████| 35/35 [00:01<00:00, 20.67batch/s, Loss=0.332]  \n",
      "Epoch 32/64: 100%|██████████| 35/35 [00:01<00:00, 20.99batch/s, Loss=0.0139] \n",
      "Epoch 33/64: 100%|██████████| 35/35 [00:01<00:00, 19.87batch/s, Loss=0.033]  \n",
      "Epoch 34/64: 100%|██████████| 35/35 [00:01<00:00, 20.85batch/s, Loss=0.00386]\n",
      "Epoch 35/64: 100%|██████████| 35/35 [00:01<00:00, 21.59batch/s, Loss=0.00253]\n",
      "Epoch 36/64: 100%|██████████| 35/35 [00:01<00:00, 18.84batch/s, Loss=0.00414]\n",
      "Epoch 37/64: 100%|██████████| 35/35 [00:01<00:00, 19.47batch/s, Loss=0.00275]\n",
      "Epoch 38/64: 100%|██████████| 35/35 [00:01<00:00, 20.84batch/s, Loss=0.00142]\n",
      "Epoch 39/64: 100%|██████████| 35/35 [00:01<00:00, 20.82batch/s, Loss=0.00555]\n",
      "Epoch 40/64: 100%|██████████| 35/35 [00:01<00:00, 22.01batch/s, Loss=0.00253]\n",
      "Epoch 41/64: 100%|██████████| 35/35 [00:01<00:00, 20.42batch/s, Loss=0.0094] \n",
      "Epoch 42/64: 100%|██████████| 35/35 [00:01<00:00, 21.63batch/s, Loss=0.00565]\n",
      "Epoch 43/64: 100%|██████████| 35/35 [00:01<00:00, 21.45batch/s, Loss=0.00475]\n",
      "Epoch 44/64: 100%|██████████| 35/35 [00:01<00:00, 21.41batch/s, Loss=0.00705]\n",
      "Epoch 45/64: 100%|██████████| 35/35 [00:01<00:00, 21.03batch/s, Loss=0.00965]\n",
      "Epoch 46/64: 100%|██████████| 35/35 [00:01<00:00, 22.18batch/s, Loss=0.00442]\n",
      "Epoch 47/64: 100%|██████████| 35/35 [00:01<00:00, 21.16batch/s, Loss=0.00277]\n",
      "Epoch 48/64: 100%|██████████| 35/35 [00:01<00:00, 21.41batch/s, Loss=0.017]  \n",
      "Epoch 49/64: 100%|██████████| 35/35 [00:01<00:00, 21.54batch/s, Loss=0.00173]\n",
      "Epoch 50/64: 100%|██████████| 35/35 [00:01<00:00, 20.99batch/s, Loss=0.00137]\n",
      "Epoch 51/64: 100%|██████████| 35/35 [00:01<00:00, 20.35batch/s, Loss=0.00208] \n",
      "Epoch 52/64: 100%|██████████| 35/35 [00:01<00:00, 21.76batch/s, Loss=0.000901]\n",
      "Epoch 53/64: 100%|██████████| 35/35 [00:01<00:00, 21.36batch/s, Loss=0.00193] \n",
      "Epoch 54/64: 100%|██████████| 35/35 [00:01<00:00, 21.25batch/s, Loss=0.00336]\n",
      "Epoch 55/64: 100%|██████████| 35/35 [00:01<00:00, 21.14batch/s, Loss=0.00116] \n",
      "Epoch 56/64: 100%|██████████| 35/35 [00:01<00:00, 21.02batch/s, Loss=0.00127] \n",
      "Epoch 57/64: 100%|██████████| 35/35 [00:01<00:00, 21.34batch/s, Loss=0.00309] \n",
      "Epoch 58/64: 100%|██████████| 35/35 [00:01<00:00, 21.94batch/s, Loss=0.00211] \n",
      "Epoch 59/64: 100%|██████████| 35/35 [00:01<00:00, 21.66batch/s, Loss=0.000586]\n",
      "Epoch 60/64: 100%|██████████| 35/35 [00:01<00:00, 22.26batch/s, Loss=0.000899]\n",
      "Epoch 61/64: 100%|██████████| 35/35 [00:01<00:00, 22.18batch/s, Loss=0.0113]  \n",
      "Epoch 62/64: 100%|██████████| 35/35 [00:01<00:00, 21.24batch/s, Loss=0.00136] \n",
      "Epoch 63/64: 100%|██████████| 35/35 [00:01<00:00, 20.75batch/s, Loss=0.00291] \n",
      "Epoch 64/64: 100%|██████████| 35/35 [00:01<00:00, 21.73batch/s, Loss=0.000805]\n"
     ]
    },
    {
     "name": "stdout",
     "output_type": "stream",
     "text": [
      "Fine tune completed\n"
     ]
    }
   ],
   "source": [
    "results= model_trainer(classification_model,train_loader,val_loader,training_arg,device)"
   ]
  },
  {
   "cell_type": "markdown",
   "metadata": {},
   "source": [
    "Let's plot the training and validation loss"
   ]
  },
  {
   "cell_type": "code",
   "execution_count": 7,
   "metadata": {},
   "outputs": [
    {
     "data": {
      "image/png": "[encoded data removed]",
      "text/plain": [
       "<Figure size 640x480 with 1 Axes>"
      ]
     },
     "metadata": {},
     "output_type": "display_data"
    },
    {
     "data": {
      "image/png": "[encoded data removed]",
      "text/plain": [
       "<Figure size 640x480 with 1 Axes>"
      ]
     },
     "metadata": {},
     "output_type": "display_data"
    }
   ],
   "source": [
    "plt.figure()\n",
    "plt.plot(results['epoch_loss'])\n",
    "plt.xlabel('epoch')\n",
    "plt.ylabel('Avg loss')\n",
    "plt.show()\n",
    "\n",
    "\n",
    "plt.figure()\n",
    "plt.plot(results['training_acc'],label='Training data')\n",
    "plt.plot(results['validation_acc'],label='Validation data')\n",
    "plt.legend()\n",
    "plt.xlabel('epoch')\n",
    "plt.ylabel('Accuracy')\n",
    "plt.show()"
   ]
  },
  {
   "cell_type": "markdown",
   "metadata": {},
   "source": [
    "### 7. Evaluate model"
   ]
  },
  {
   "cell_type": "code",
   "execution_count": 8,
   "metadata": {},
   "outputs": [
    {
     "name": "stdout",
     "output_type": "stream",
     "text": [
      "Fine tune model loaded\n",
      "Train Binary Accuracy: 98.5507\n",
      "Confusion Matrix:\n",
      "[[72  0]\n",
      " [ 2 64]]\n",
      "Accuracy: 98.55072463768117\n",
      "Precision: 100.0\n",
      "Sensitivity (Recall): 96.96969696969697\n",
      "Specificity: 100.0\n",
      "F1 Score: 0.9846153846153847\n",
      "AUC Score: 0.9995791245791246\n",
      "\n",
      "\n",
      "Validation Binary Accuracy: 82.6087\n",
      "Confusion Matrix:\n",
      "[[150  18]\n",
      " [ 38 116]]\n",
      "Accuracy: 82.6086956521739\n",
      "Precision: 86.56716417910447\n",
      "Sensitivity (Recall): 75.32467532467533\n",
      "Specificity: 89.28571428571429\n",
      "F1 Score: 0.8055555555555556\n",
      "AUC Score: 0.8945578231292517\n",
      "\n",
      "\n",
      "Test Binary Accuracy: 76.0870\n",
      "Confusion Matrix:\n",
      "[[42  6]\n",
      " [16 28]]\n",
      "Accuracy: 76.08695652173914\n",
      "Precision: 82.35294117647058\n",
      "Sensitivity (Recall): 63.63636363636363\n",
      "Specificity: 87.5\n",
      "F1 Score: 0.717948717948718\n",
      "AUC Score: 0.787878787878788\n",
      "Completed\n"
     ]
    }
   ],
   "source": [
    "best_model_state=torch.load(bert_finetune_modelfullpath, map_location=device)\n",
    "classification_model.load_state_dict(best_model_state,strict=True)\n",
    "classification_model.eval()\n",
    "print('Fine tune model loaded')\n",
    "\n",
    "tr_accuracy, tr_est,tr_labels,tr_scores= evaluate_binary_accuracy(classification_model, train_loader,device)\n",
    "print(f'Train Binary Accuracy: {tr_accuracy:.4f}')\n",
    "perf_metrics(tr_labels, tr_est,tr_scores)\n",
    "print('\\n')\n",
    "v_accuracy,val_est,val_labels, val_scores = evaluate_binary_accuracy(classification_model, val_loader,device)\n",
    "print(f'Validation Binary Accuracy: {v_accuracy:.4f}')\n",
    "perf_metrics(val_labels, val_est,val_scores)\n",
    "print('\\n')\n",
    "test_accuracy,test_est,test_labels, test_scores = evaluate_binary_accuracy(classification_model, test_loader,device)\n",
    "print(f'Test Binary Accuracy: {test_accuracy:.4f}')\n",
    "perf_metrics(test_labels, test_est,test_scores)\n",
    "\n",
    "print('Completed')"
   ]
  },
  {
   "cell_type": "markdown",
   "metadata": {},
   "source": [
    "### 8. Optimize Training Parameters via Baysian Opt"
   ]
  },
  {
   "cell_type": "code",
   "execution_count": 28,
   "metadata": {},
   "outputs": [],
   "source": [
    "%%capture\n",
    "\n",
    "from skopt import gp_minimize\n",
    "from skopt.space import Real, Categorical\n",
    "from skopt.utils import use_named_args\n",
    "\n",
    "\n",
    "num_epochs = 64\n",
    "random_seed=42\n",
    "patience=80\n",
    "\n",
    "# Define the hyperparameter space\n",
    "space  = [Real(1e-7, 1e-3, \"log-uniform\", name='learning_rate'),\n",
    "          Categorical([1,2,4, 6, 8, 10,12,14,16], name='batch_size')]\n",
    "\n",
    "# Define the objective function\n",
    "@use_named_args(space)\n",
    "def objective(**params):\n",
    "    learning_rate = params['learning_rate']\n",
    "    batch_size = int(params['batch_size'])\n",
    "\n",
    "    print(f'lr={learning_rate}, batch={batch_size}')\n",
    "\n",
    "    # Prepare DataLoader\n",
    "    train_loader = DataLoader(train_dataset, batch_size=batch_size, shuffle=True)\n",
    "\n",
    "    # Initialize the model, criterion, and optimizer\n",
    "    model = BertForMaskedLM.from_pretrained(bert_modelpath)\n",
    "    classification_model = BertForSequenceClassification(model, num_classes,device)\n",
    "    classification_model.to(device)  # Move model to the device (e.g., GPU if available)\n",
    "    criterion = nn.BCELoss()\n",
    "    optimizer = optim.Adam(classification_model.parameters(), lr=learning_rate)\n",
    "\n",
    "\n",
    "    training_arg={\n",
    "    'modelfullpath': bert_finetune_modelfullpath,\n",
    "    'criterion': criterion,\n",
    "    'optimizer': optimizer,\n",
    "    'epochs': num_epochs,\n",
    "    'patience': patience,\n",
    "    'seed': random_seed\n",
    "    }\n",
    "    \n",
    "    # Training loop\n",
    "    results= model_trainer(classification_model,train_loader,val_loader,training_arg,device)\n",
    "\n",
    "    # loss is the error rate\n",
    "    running_loss=1-results['best_validation_acc']/100\n",
    "\n",
    "    # Return the final validation loss\n",
    "    return running_loss\n",
    "\n",
    "# Run Bayesian Optimization\n",
    "res = gp_minimize(objective, space, n_calls=60, random_state=0)"
   ]
  },
  {
   "cell_type": "markdown",
   "metadata": {},
   "source": [
    "Results"
   ]
  },
  {
   "cell_type": "code",
   "execution_count": 29,
   "metadata": {},
   "outputs": [
    {
     "name": "stdout",
     "output_type": "stream",
     "text": [
      "Best parameters: [1.888861270702437e-05, 4]\n",
      "Best validation loss: 0.15838509316770188\n"
     ]
    }
   ],
   "source": [
    "print(f\"Best parameters: {res.x}\")\n",
    "print(f\"Best validation loss: {res.fun}\")"
   ]
  }
 ],
 "metadata": {
  "kernelspec": {
   "display_name": "mybertV2",
   "language": "python",
   "name": "python3"
  },
  "language_info": {
   "codemirror_mode": {
    "name": "ipython",
    "version": 3
   },
   "file_extension": ".py",
   "mimetype": "text/x-python",
   "name": "python",
   "nbconvert_exporter": "python",
   "pygments_lexer": "ipython3",
   "version": "3.9.18"
  }
 },
 "nbformat": 4,
 "nbformat_minor": 2
}
