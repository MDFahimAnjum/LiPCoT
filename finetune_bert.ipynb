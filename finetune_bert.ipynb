{
 "cells": [
  {
   "cell_type": "markdown",
   "metadata": {},
   "source": [
    "## Fine Tune a PreTrain a BERT model for Binary classification\n",
    "Before this, the data must be processed, tokenized and prepared. Next, we need a pretrained bert model.\n",
    "1. `data_processing` notebook loads raw data and prepares training,validation and test dataset\n",
    "2. `data_tokenizer`notebook tokenizes the data using LiPCoT model\n",
    "3. `data_prepare` notebook prepares datasets for BERT models\n",
    "4. `pretrain_bert` notebook conducts pretraining of BERT model\n",
    "\n",
    "Here, we will use training and validation dataset for fine-tuning. Then test set is used for evaluation\n",
    "### 1. Import libraries"
   ]
  },
  {
   "cell_type": "code",
   "execution_count": 7,
   "metadata": {},
   "outputs": [],
   "source": [
    "import os\n",
    "import joblib\n",
    "from modules.bert_module import *\n",
    "from modules.path_module import *\n",
    "from transformers import BertForMaskedLM\n",
    "from torch import cuda\n",
    "from tqdm import tqdm\n",
    "import torch.optim as optim\n",
    "from torch.utils.data import DataLoader"
   ]
  },
  {
   "cell_type": "markdown",
   "metadata": {},
   "source": [
    "### 2. Load datasets\n",
    "We are going to use the validation set for training the fine-tune model. The training set for the pre-trained model will be used with labels as a validation."
   ]
  },
  {
   "cell_type": "code",
   "execution_count": 8,
   "metadata": {},
   "outputs": [],
   "source": [
    "train_dataset=joblib.load( os.path.join(bert_datapath,\"val_data.joblib\"))\n",
    "val_dataset=joblib.load( os.path.join(bert_datapath,\"train_data.joblib\"))\n",
    "test_dataset=joblib.load(os.path.join(bert_datapath,\"test_data.joblib\"))"
   ]
  },
  {
   "cell_type": "markdown",
   "metadata": {},
   "source": [
    "### 3. Create Fine-tune classification model"
   ]
  },
  {
   "cell_type": "code",
   "execution_count": 9,
   "metadata": {},
   "outputs": [
    {
     "name": "stdout",
     "output_type": "stream",
     "text": [
      "PreTrained Model loaded\n",
      "Running on: cuda\n",
      "FineTune Model created\n"
     ]
    }
   ],
   "source": [
    "model = BertForMaskedLM.from_pretrained(bert_modelpath)\n",
    "print('PreTrained Model loaded')\n",
    "# use GPU\n",
    "device='cuda' if cuda.is_available() else 'cpu'\n",
    "print(\"Running on: \"+device)\n",
    "cuda.empty_cache()\n",
    "\n",
    "# Instantiate the classification model\n",
    "num_classes = 2  # Number of classes in classification task\n",
    "classification_model = BertForSequenceClassification(model, num_classes,device)\n",
    "classification_model.to(device)  # Move model to the device (e.g., GPU if available)\n",
    "print('FineTune Model created')"
   ]
  },
  {
   "cell_type": "markdown",
   "metadata": {},
   "source": [
    "### 4. Configure Training "
   ]
  },
  {
   "cell_type": "code",
   "execution_count": 10,
   "metadata": {},
   "outputs": [],
   "source": [
    "num_epochs = 64 #128\n",
    "training_batch_size=1\n",
    "learning_rate=5e-6 #5e-6#2e-6\n",
    "# Define optimizer and loss function\n",
    "optimizer = optim.Adam(classification_model.parameters(), lr=learning_rate)\n",
    "criterion = nn.BCELoss()#nn.CrossEntropyLoss()\n",
    "bert_finetune_modelfullpath=os.path.join(bert_finetune_modelpath,'finetune_bert.pt')"
   ]
  },
  {
   "cell_type": "markdown",
   "metadata": {},
   "source": [
    "### 5. Create DataLoaders"
   ]
  },
  {
   "cell_type": "code",
   "execution_count": 11,
   "metadata": {},
   "outputs": [],
   "source": [
    "train_loader = DataLoader(train_dataset, batch_size=training_batch_size, shuffle=True)\n",
    "val_loader = DataLoader(val_dataset, batch_size=1, shuffle=False)\n",
    "test_loader = DataLoader(test_dataset, batch_size=1, shuffle=False)"
   ]
  },
  {
   "cell_type": "markdown",
   "metadata": {},
   "source": [
    "### 6. Train and evaluate via validation set\n",
    "We train using the training set and save the model that gives the best performance on the validation set"
   ]
  },
  {
   "cell_type": "code",
   "execution_count": 6,
   "metadata": {},
   "outputs": [
    {
     "name": "stderr",
     "output_type": "stream",
     "text": [
      "Epoch 1/64: 100%|██████████| 138/138 [00:05<00:00, 23.68batch/s, Loss=0.621]\n"
     ]
    },
    {
     "name": "stdout",
     "output_type": "stream",
     "text": [
      "model state saved\n"
     ]
    },
    {
     "name": "stderr",
     "output_type": "stream",
     "text": [
      "Epoch 2/64: 100%|██████████| 138/138 [00:05<00:00, 24.05batch/s, Loss=0.817]\n"
     ]
    },
    {
     "name": "stdout",
     "output_type": "stream",
     "text": [
      "model state saved\n"
     ]
    },
    {
     "name": "stderr",
     "output_type": "stream",
     "text": [
      "Epoch 3/64: 100%|██████████| 138/138 [00:05<00:00, 24.23batch/s, Loss=0.485]\n"
     ]
    },
    {
     "name": "stdout",
     "output_type": "stream",
     "text": [
      "model state saved\n"
     ]
    },
    {
     "name": "stderr",
     "output_type": "stream",
     "text": [
      "Epoch 4/64: 100%|██████████| 138/138 [00:05<00:00, 24.15batch/s, Loss=0.608]\n"
     ]
    },
    {
     "name": "stdout",
     "output_type": "stream",
     "text": [
      "model state saved\n"
     ]
    },
    {
     "name": "stderr",
     "output_type": "stream",
     "text": [
      "Epoch 5/64: 100%|██████████| 138/138 [00:05<00:00, 24.11batch/s, Loss=0.231]\n"
     ]
    },
    {
     "name": "stdout",
     "output_type": "stream",
     "text": [
      "model state saved\n"
     ]
    },
    {
     "name": "stderr",
     "output_type": "stream",
     "text": [
      "Epoch 6/64: 100%|██████████| 138/138 [00:05<00:00, 23.95batch/s, Loss=0.397]\n"
     ]
    },
    {
     "name": "stdout",
     "output_type": "stream",
     "text": [
      "model state saved\n"
     ]
    },
    {
     "name": "stderr",
     "output_type": "stream",
     "text": [
      "Epoch 7/64: 100%|██████████| 138/138 [00:05<00:00, 24.22batch/s, Loss=0.114]\n"
     ]
    },
    {
     "name": "stdout",
     "output_type": "stream",
     "text": [
      "model state saved\n"
     ]
    },
    {
     "name": "stderr",
     "output_type": "stream",
     "text": [
      "Epoch 8/64: 100%|██████████| 138/138 [00:06<00:00, 22.36batch/s, Loss=0.883]\n",
      "Epoch 9/64: 100%|██████████| 138/138 [00:05<00:00, 24.26batch/s, Loss=0.237]\n"
     ]
    },
    {
     "name": "stdout",
     "output_type": "stream",
     "text": [
      "model state saved\n"
     ]
    },
    {
     "name": "stderr",
     "output_type": "stream",
     "text": [
      "Epoch 10/64: 100%|██████████| 138/138 [00:05<00:00, 23.99batch/s, Loss=0.379] \n",
      "Epoch 11/64: 100%|██████████| 138/138 [00:05<00:00, 24.07batch/s, Loss=0.328] \n",
      "Epoch 12/64: 100%|██████████| 138/138 [00:05<00:00, 23.65batch/s, Loss=0.307] \n",
      "Epoch 13/64: 100%|██████████| 138/138 [00:05<00:00, 23.36batch/s, Loss=0.109] \n",
      "Epoch 14/64: 100%|██████████| 138/138 [00:05<00:00, 24.32batch/s, Loss=0.114] \n"
     ]
    },
    {
     "name": "stdout",
     "output_type": "stream",
     "text": [
      "model state saved\n"
     ]
    },
    {
     "name": "stderr",
     "output_type": "stream",
     "text": [
      "Epoch 15/64: 100%|██████████| 138/138 [00:05<00:00, 23.11batch/s, Loss=0.0338]\n"
     ]
    },
    {
     "name": "stdout",
     "output_type": "stream",
     "text": [
      "model state saved\n"
     ]
    },
    {
     "name": "stderr",
     "output_type": "stream",
     "text": [
      "Epoch 16/64: 100%|██████████| 138/138 [00:05<00:00, 24.05batch/s, Loss=0.329] \n"
     ]
    },
    {
     "name": "stdout",
     "output_type": "stream",
     "text": [
      "model state saved\n"
     ]
    },
    {
     "name": "stderr",
     "output_type": "stream",
     "text": [
      "Epoch 17/64: 100%|██████████| 138/138 [00:05<00:00, 24.38batch/s, Loss=1.1]   \n",
      "Epoch 18/64: 100%|██████████| 138/138 [00:05<00:00, 24.60batch/s, Loss=0.108] \n"
     ]
    },
    {
     "name": "stdout",
     "output_type": "stream",
     "text": [
      "model state saved\n"
     ]
    },
    {
     "name": "stderr",
     "output_type": "stream",
     "text": [
      "Epoch 19/64: 100%|██████████| 138/138 [00:05<00:00, 24.58batch/s, Loss=0.0458] \n",
      "Epoch 20/64: 100%|██████████| 138/138 [00:05<00:00, 24.55batch/s, Loss=0.0231] \n"
     ]
    },
    {
     "name": "stdout",
     "output_type": "stream",
     "text": [
      "model state saved\n"
     ]
    },
    {
     "name": "stderr",
     "output_type": "stream",
     "text": [
      "Epoch 21/64: 100%|██████████| 138/138 [00:05<00:00, 24.52batch/s, Loss=0.0194] \n"
     ]
    },
    {
     "name": "stdout",
     "output_type": "stream",
     "text": [
      "model state saved\n"
     ]
    },
    {
     "name": "stderr",
     "output_type": "stream",
     "text": [
      "Epoch 22/64: 100%|██████████| 138/138 [00:05<00:00, 23.38batch/s, Loss=0.00497]\n",
      "Epoch 23/64: 100%|██████████| 138/138 [00:05<00:00, 24.59batch/s, Loss=0.016]  \n",
      "Epoch 24/64: 100%|██████████| 138/138 [00:05<00:00, 24.54batch/s, Loss=0.00436]\n",
      "Epoch 25/64: 100%|██████████| 138/138 [00:05<00:00, 24.71batch/s, Loss=0.015]  \n",
      "Epoch 26/64: 100%|██████████| 138/138 [00:05<00:00, 23.91batch/s, Loss=0.00561]\n"
     ]
    },
    {
     "name": "stdout",
     "output_type": "stream",
     "text": [
      "model state saved\n"
     ]
    },
    {
     "name": "stderr",
     "output_type": "stream",
     "text": [
      "Epoch 27/64: 100%|██████████| 138/138 [00:05<00:00, 24.92batch/s, Loss=0.00263]\n",
      "Epoch 28/64: 100%|██████████| 138/138 [00:05<00:00, 24.48batch/s, Loss=0.438]  \n",
      "Epoch 29/64: 100%|██████████| 138/138 [00:05<00:00, 25.14batch/s, Loss=0.00403]\n",
      "Epoch 30/64: 100%|██████████| 138/138 [00:05<00:00, 25.05batch/s, Loss=0.00771]\n",
      "Epoch 31/64: 100%|██████████| 138/138 [00:05<00:00, 24.84batch/s, Loss=0.00639]\n",
      "Epoch 32/64: 100%|██████████| 138/138 [00:05<00:00, 24.81batch/s, Loss=0.0104] \n",
      "Epoch 33/64: 100%|██████████| 138/138 [00:05<00:00, 24.52batch/s, Loss=0.0553] \n",
      "Epoch 34/64: 100%|██████████| 138/138 [00:05<00:00, 24.87batch/s, Loss=0.00673]\n",
      "Epoch 35/64: 100%|██████████| 138/138 [00:05<00:00, 24.94batch/s, Loss=0.00333]\n",
      "Epoch 36/64: 100%|██████████| 138/138 [00:05<00:00, 24.94batch/s, Loss=0.00307]\n",
      "Epoch 37/64: 100%|██████████| 138/138 [00:05<00:00, 24.99batch/s, Loss=0.00326]\n",
      "Epoch 38/64: 100%|██████████| 138/138 [00:05<00:00, 24.98batch/s, Loss=0.0024] \n",
      "Epoch 39/64: 100%|██████████| 138/138 [00:05<00:00, 24.83batch/s, Loss=0.00207]\n",
      "Epoch 40/64: 100%|██████████| 138/138 [00:05<00:00, 24.79batch/s, Loss=0.011]  \n",
      "Epoch 41/64: 100%|██████████| 138/138 [00:05<00:00, 24.66batch/s, Loss=0.00772]\n",
      "Epoch 42/64: 100%|██████████| 138/138 [00:05<00:00, 24.39batch/s, Loss=0.00746]\n"
     ]
    },
    {
     "name": "stdout",
     "output_type": "stream",
     "text": [
      "model state saved\n"
     ]
    },
    {
     "name": "stderr",
     "output_type": "stream",
     "text": [
      "Epoch 43/64: 100%|██████████| 138/138 [00:05<00:00, 24.07batch/s, Loss=0.0161] \n",
      "Epoch 44/64: 100%|██████████| 138/138 [00:05<00:00, 24.55batch/s, Loss=0.00145] \n",
      "Epoch 45/64: 100%|██████████| 138/138 [00:05<00:00, 24.30batch/s, Loss=0.00104] \n",
      "Epoch 46/64: 100%|██████████| 138/138 [00:05<00:00, 24.19batch/s, Loss=0.00434]\n",
      "Epoch 47/64: 100%|██████████| 138/138 [00:05<00:00, 24.33batch/s, Loss=0.00149] \n",
      "Epoch 48/64: 100%|██████████| 138/138 [00:05<00:00, 24.43batch/s, Loss=0.0117]  \n",
      "Epoch 49/64: 100%|██████████| 138/138 [00:05<00:00, 24.50batch/s, Loss=0.00185] \n",
      "Epoch 50/64: 100%|██████████| 138/138 [00:05<00:00, 24.40batch/s, Loss=0.000982]\n",
      "Epoch 51/64: 100%|██████████| 138/138 [00:05<00:00, 24.30batch/s, Loss=0.00126] \n",
      "Epoch 52/64: 100%|██████████| 138/138 [00:05<00:00, 24.46batch/s, Loss=0.00371] \n",
      "Epoch 53/64: 100%|██████████| 138/138 [00:05<00:00, 24.59batch/s, Loss=0.000719]\n",
      "Epoch 54/64: 100%|██████████| 138/138 [00:05<00:00, 24.36batch/s, Loss=0.00324] \n",
      "Epoch 55/64: 100%|██████████| 138/138 [00:05<00:00, 24.19batch/s, Loss=0.0013]  \n",
      "Epoch 56/64: 100%|██████████| 138/138 [00:05<00:00, 24.72batch/s, Loss=0.00181] \n",
      "Epoch 57/64: 100%|██████████| 138/138 [00:05<00:00, 24.46batch/s, Loss=0.00149] \n",
      "Epoch 58/64: 100%|██████████| 138/138 [00:05<00:00, 24.73batch/s, Loss=0.00166] \n",
      "Epoch 59/64: 100%|██████████| 138/138 [00:05<00:00, 24.33batch/s, Loss=0.00101] \n",
      "Epoch 60/64: 100%|██████████| 138/138 [00:05<00:00, 24.53batch/s, Loss=0.000775]\n",
      "Epoch 61/64: 100%|██████████| 138/138 [00:05<00:00, 24.41batch/s, Loss=0.000649]\n",
      "Epoch 62/64: 100%|██████████| 138/138 [00:05<00:00, 24.22batch/s, Loss=0.00121] \n",
      "Epoch 63/64: 100%|██████████| 138/138 [00:05<00:00, 24.57batch/s, Loss=0.00388] \n",
      "Epoch 64/64: 100%|██████████| 138/138 [00:05<00:00, 24.58batch/s, Loss=0.00401] \n"
     ]
    },
    {
     "name": "stdout",
     "output_type": "stream",
     "text": [
      "Fine tune completed\n"
     ]
    }
   ],
   "source": [
    "# Training loop\n",
    "average_epoch_loss_all=[]\n",
    "acc_train_all=[]\n",
    "acc_val_all=[]\n",
    "best_val_accuracy = 0.0\n",
    "\n",
    "for epoch in range(num_epochs):\n",
    "    classification_model.train()\n",
    "    epoch_loss = 0.0  # Initialize epoch loss\n",
    "    num_batches = len(train_loader)\n",
    "\n",
    "    # Use tqdm to create a progress bar for the training loop\n",
    "    with tqdm(total=num_batches, desc=f'Epoch {epoch + 1}/{num_epochs}', unit='batch') as progress_bar:\n",
    "        for batch_idx, batch in enumerate(train_loader):\n",
    "            input_ids = batch['input_ids'].to(device)\n",
    "            attention_mask = batch['attention_mask'].to(device)\n",
    "            labels = batch['label'].to(device)\n",
    "            # Convert labels to float type\n",
    "            labels = labels.float()\n",
    "            optimizer.zero_grad()\n",
    "            logits = classification_model(input_ids, attention_mask)\n",
    "            probs = torch.sigmoid(logits)\n",
    "            probs_normalized = probs / probs.sum(dim=1, keepdim=True)\n",
    "            loss = criterion(probs_normalized, labels)\n",
    "            loss.backward()\n",
    "            optimizer.step()\n",
    "\n",
    "            epoch_loss += loss.item()\n",
    "\n",
    "            # Update progress bar\n",
    "            progress_bar.set_postfix({'Loss': loss.item()})\n",
    "            progress_bar.update()\n",
    "\n",
    "    # Calculate and print average epoch loss\n",
    "    average_epoch_loss = epoch_loss / num_batches\n",
    "    #print(f'Epoch {epoch + 1} - Average Loss: {average_epoch_loss:.4f}')\n",
    "    average_epoch_loss_all.append(average_epoch_loss)\n",
    "    # Switch to evaluation mode for accuracy calculation\n",
    "    classification_model.eval()\n",
    "    # Calculate training accuracy\n",
    "    accuracy, _ , _ , _= evaluate_binary_accuracy(classification_model, train_loader,device)\n",
    "    acc_train_all.append(accuracy)\n",
    "    # Calculate validation accuracy\n",
    "    v_accuracy, _ , _ , _ = evaluate_binary_accuracy(classification_model, val_loader,device)\n",
    "    acc_val_all.append(v_accuracy)\n",
    "    # Check if current validation accuracy is the best\n",
    "    if v_accuracy > best_val_accuracy:\n",
    "        best_val_accuracy = v_accuracy\n",
    "        torch.save(classification_model.state_dict(),bert_finetune_modelfullpath) # Save the model state\n",
    "        print(f'model state saved with validation accuracy: {best_val_accuracy:.4f}')\n",
    "    # Switch back to training mode for the next epoch\n",
    "    classification_model.train()\n",
    "\n",
    "print('Fine tune completed')"
   ]
  },
  {
   "cell_type": "markdown",
   "metadata": {},
   "source": [
    "Let's plot the training and validation loss"
   ]
  },
  {
   "cell_type": "code",
   "execution_count": 7,
   "metadata": {},
   "outputs": [
    {
     "data": {
      "text/plain": [
       "<function matplotlib.pyplot.show(close=None, block=None)>"
      ]
     },
     "execution_count": 7,
     "metadata": {},
     "output_type": "execute_result"
    },
    {
     "data": {
      "image/png": "[encoded data removed]",
      "text/plain": [
       "<Figure size 640x480 with 1 Axes>"
      ]
     },
     "metadata": {},
     "output_type": "display_data"
    },
    {
     "data": {
      "image/png": "[encoded data removed]",
      "text/plain": [
       "<Figure size 640x480 with 1 Axes>"
      ]
     },
     "metadata": {},
     "output_type": "display_data"
    }
   ],
   "source": [
    "plt.figure()\n",
    "plt.plot(average_epoch_loss_all)\n",
    "plt.xlabel('epoch')\n",
    "plt.ylabel('Avg loss')\n",
    "plt.show\n",
    "\n",
    "\n",
    "plt.figure()\n",
    "plt.plot(acc_train_all,label='Training data')\n",
    "plt.plot(acc_val_all,label='Validation data')\n",
    "plt.legend()\n",
    "plt.xlabel('epoch')\n",
    "plt.ylabel('Accuracy')\n",
    "plt.show"
   ]
  },
  {
   "cell_type": "markdown",
   "metadata": {},
   "source": [
    "### 7. Evaluate model"
   ]
  },
  {
   "cell_type": "code",
   "execution_count": 12,
   "metadata": {},
   "outputs": [
    {
     "name": "stdout",
     "output_type": "stream",
     "text": [
      "Fine tune model loaded\n",
      "Train Binary Accuracy: 100.0000\n",
      "Confusion Matrix:\n",
      "[[72  0]\n",
      " [ 0 66]]\n",
      "Accuracy: 100.0\n",
      "Precision: 100.0\n",
      "Sensitivity (Recall): 100.0\n",
      "Specificity: 100.0\n",
      "F1 Score: 1.0\n",
      "AUC Score: 1.0\n",
      "\n",
      "\n",
      "Validation Binary Accuracy: 82.2981\n",
      "Confusion Matrix:\n",
      "[[147  21]\n",
      " [ 36 118]]\n",
      "Accuracy: 82.29813664596274\n",
      "Precision: 84.89208633093526\n",
      "Sensitivity (Recall): 76.62337662337663\n",
      "Specificity: 87.5\n",
      "F1 Score: 0.8054607508532423\n",
      "AUC Score: 0.860273654916512\n",
      "\n",
      "\n",
      "Test Binary Accuracy: 78.2609\n",
      "Confusion Matrix:\n",
      "[[41  7]\n",
      " [13 31]]\n",
      "Accuracy: 78.26086956521739\n",
      "Precision: 81.57894736842105\n",
      "Sensitivity (Recall): 70.45454545454545\n",
      "Specificity: 85.41666666666666\n",
      "F1 Score: 0.7560975609756098\n",
      "AUC Score: 0.8214962121212122\n",
      "Completed\n"
     ]
    }
   ],
   "source": [
    "best_model_state=torch.load(bert_finetune_modelfullpath, map_location=device)\n",
    "classification_model.load_state_dict(best_model_state,strict=True)\n",
    "classification_model.eval()\n",
    "print('Fine tune model loaded')\n",
    "\n",
    "tr_accuracy, tr_est,tr_labels,tr_scores= evaluate_binary_accuracy(classification_model, train_loader,device)\n",
    "print(f'Train Binary Accuracy: {tr_accuracy:.4f}')\n",
    "perf_metrics(tr_labels, tr_est,tr_scores)\n",
    "print('\\n')\n",
    "v_accuracy,val_est,val_labels, val_scores = evaluate_binary_accuracy(classification_model, val_loader,device)\n",
    "print(f'Validation Binary Accuracy: {v_accuracy:.4f}')\n",
    "perf_metrics(val_labels, val_est,val_scores)\n",
    "print('\\n')\n",
    "test_accuracy,test_est,test_labels, test_scores = evaluate_binary_accuracy(classification_model, test_loader,device)\n",
    "print(f'Test Binary Accuracy: {test_accuracy:.4f}')\n",
    "perf_metrics(test_labels, test_est,test_scores)\n",
    "\n",
    "print('Completed')"
   ]
  }
 ],
 "metadata": {
  "kernelspec": {
   "display_name": "mybertV2",
   "language": "python",
   "name": "python3"
  },
  "language_info": {
   "codemirror_mode": {
    "name": "ipython",
    "version": 3
   },
   "file_extension": ".py",
   "mimetype": "text/x-python",
   "name": "python",
   "nbconvert_exporter": "python",
   "pygments_lexer": "ipython3",
   "version": "3.9.18"
  }
 },
 "nbformat": 4,
 "nbformat_minor": 2
}
