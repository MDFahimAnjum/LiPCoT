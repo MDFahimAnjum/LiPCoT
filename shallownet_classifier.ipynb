{
 "cells": [
  {
   "cell_type": "markdown",
   "metadata": {},
   "source": [
    "## Binary classification with CNN\n",
    "\n",
    "The paths utilized are defiend in the `path_module.py`\n",
    "\n",
    "Before this, the data must be processed and tokenized. \n",
    "1. `data_processing` notebook loads raw data and prepares training,validation and test dataset\n",
    "2. `data_tokenizer`notebook tokenizes the data using LiPCoT model\n",
    "\n",
    "### 1. Import libraries"
   ]
  },
  {
   "cell_type": "code",
   "execution_count": 188,
   "metadata": {},
   "outputs": [],
   "source": [
    "from modules.bert_module import *\n",
    "from modules.path_module import *\n",
    "from modules.utils_module import *\n",
    "import os\n",
    "import joblib\n",
    "import torch\n",
    "import numpy as np"
   ]
  },
  {
   "cell_type": "markdown",
   "metadata": {},
   "source": [
    "### 2. Load tokenized data"
   ]
  },
  {
   "cell_type": "code",
   "execution_count": 189,
   "metadata": {},
   "outputs": [],
   "source": [
    "train_data=joblib.load(os.path.join(tokenized_data_savepath,\"train_data.joblib\"))\n",
    "test_data=joblib.load(os.path.join(tokenized_data_savepath,\"test_data.joblib\"))\n",
    "val_data=joblib.load(os.path.join(tokenized_data_savepath,\"val_data.joblib\"))"
   ]
  },
  {
   "cell_type": "markdown",
   "metadata": {},
   "source": [
    "### 3. Prepare data for CNN\n",
    "- We extract only the signal data and labels from dataset for CNN\n",
    "- We train using the training set and save the model that gives the best performance on the validation set"
   ]
  },
  {
   "cell_type": "code",
   "execution_count": 190,
   "metadata": {},
   "outputs": [],
   "source": [
    "train_sigdata,train_label=prepare_cnn_data(val_data)\n",
    "val_sigdata,val_label=prepare_cnn_data(train_data)\n",
    "test_sigdata,test_label=prepare_cnn_data(test_data)"
   ]
  },
  {
   "cell_type": "markdown",
   "metadata": {},
   "source": [
    "### 4. ShallowConvNet model"
   ]
  },
  {
   "cell_type": "markdown",
   "metadata": {},
   "source": [
    "- Paper: https://onlinelibrary.wiley.com/doi/full/10.1002/hbm.23730\n",
    "- Pytorch conversion from keras implementation https://github.com/vlawhern/arl-eegmodels/blob/master/EEGModels.py\n",
    "- Another useful link: https://github.com/TNTLFreiburg/braindecode/tree/master/braindecode\n",
    "- Pytorch implementation of the Shallow Convolutional Network as described in Schirrmeister et. al. (2017), Human Brain Mapping.\n",
    "- In PyTorch, kernel constraints like max_norm are not directly implemented as part of the layer definitions.\n",
    "\n",
    "- Assumes the input is a 5-second EEG signal sampled at 500Hz. \n",
    "\n",
    "- Note that we use the max_norm constraint on all convolutional layers, as well as the classification layer.\n",
    "- In PyTorch, kernel constraints like max_norm are not directly implemented as part of the layer definitions. Instead, they can be implemented using hooks or by manually enforcing the constraint during the forward pass or after updating the weights. \n",
    "- Model was developed with hyperparameters from original paper\n",
    "- examples are in: https://braindecode.org/stable/auto_examples/model_building/plot_bcic_iv_2a_moabb_trial.html#model-training"
   ]
  },
  {
   "cell_type": "code",
   "execution_count": 191,
   "metadata": {},
   "outputs": [],
   "source": [
    "import torch\n",
    "import torch.nn as nn\n",
    "\n",
    "def max_norm(layer, max_value, axis=0):\n",
    "    with torch.no_grad():\n",
    "        norm = layer.weight.norm(2, axis, keepdim=True)\n",
    "        desired = torch.clamp(norm, 0, max_value)\n",
    "        scale = desired / (1e-8 + norm)\n",
    "        layer.weight.data *= scale\n",
    "\n",
    "class ShallowConvNet(nn.Module):\n",
    "    def __init__(self, nb_classes, Chans=59, Samples=2500, dropoutRate=0.5):\n",
    "        super(ShallowConvNet, self).__init__()\n",
    "        self.Samples=Samples       \n",
    "        # First Conv2D layer\n",
    "        self.conv1 = nn.Conv2d(in_channels=1, out_channels=40, kernel_size=(1, 25), padding=0)     \n",
    "        # Second Conv2D layer\n",
    "        self.conv2 = nn.Conv2d(in_channels=40, out_channels=40, kernel_size=(Chans, 1), bias=False)     \n",
    "        # Batch Normalization\n",
    "        self.batchnorm = nn.BatchNorm2d(num_features=40, eps=1e-05, momentum=0.9)     \n",
    "        # Average Pooling\n",
    "        self.pool = nn.AvgPool2d(kernel_size=(1, 75), stride=(1, 15))     \n",
    "        # Dropout\n",
    "        self.dropout = nn.Dropout(p=dropoutRate)    \n",
    "        # Fully Connected Layer\n",
    "        self.fc = nn.Linear(in_features=40* ((Samples - 24-74) // 15+1), out_features=nb_classes)\n",
    "        \n",
    "        \n",
    "    def forward(self, x):\n",
    "        x = x.unsqueeze(1)  # Add a channel dimension\n",
    "         # Size: (batch_size, 1, Chans, Samples)\n",
    "\n",
    "        # First convolutional layer\n",
    "        x = self.conv1(x)\n",
    "        max_norm(self.conv1, 2.0, axis=(0, 1, 2))\n",
    "        # Size: (batch_size, 40, Chans, Samples - 24)\n",
    "        \n",
    "        # Second convolutional layer\n",
    "        x = self.conv2(x)\n",
    "        max_norm(self.conv2, 2.0, axis=(0, 1, 2))\n",
    "        # Size: (batch_size, 40, 1, Samples - 24)\n",
    "\n",
    "        # Batch normalization\n",
    "        x = self.batchnorm(x)     \n",
    "        # Square activation\n",
    "        x = torch.square(x)   \n",
    "        \n",
    "        # Average pooling\n",
    "        x = self.pool(x) \n",
    "        # Size: (batch_size, 40, 1, (Samples - 24-74) // 15+1)\n",
    "        \n",
    "        # Log activation\n",
    "        x = torch.log(x)   \n",
    "        # Dropout\n",
    "        x = self.dropout(x)  \n",
    "        # Flatten\n",
    "        x = x.view(-1, int(40* ((self.Samples - 24-74) // 15+1))) \n",
    "        # Size: (batch_size, 40 * (Samples - 24-74) // 15+1)\n",
    "\n",
    "        # Fully connected layer\n",
    "        x = self.fc(x)\n",
    "        max_norm(self.fc, 0.5, axis=0)       \n",
    "        \n",
    "        return x"
   ]
  },
  {
   "cell_type": "markdown",
   "metadata": {},
   "source": [
    "### 5. Initialize model"
   ]
  },
  {
   "cell_type": "code",
   "execution_count": 192,
   "metadata": {},
   "outputs": [
    {
     "name": "stdout",
     "output_type": "stream",
     "text": [
      "Running on: cpu\n",
      "Model created\n"
     ]
    }
   ],
   "source": [
    "import torch.optim as optim\n",
    "from torch import cuda\n",
    "\n",
    "# Set the random seed for reproducibility\n",
    "random_seed = 42\n",
    "random.seed(random_seed)\n",
    "torch.manual_seed(random_seed)\n",
    "torch.cuda.manual_seed(random_seed)\n",
    "np.random.seed(random_seed)\n",
    "\n",
    "# use GPU\n",
    "device='cpu'#'cuda' if cuda.is_available() else 'cpu'\n",
    "print(\"Running on: \"+device)\n",
    "cuda.empty_cache()\n",
    "\n",
    "# initialize model\n",
    "n_chan=train_data[0].data.shape[1]\n",
    "n_datalength=train_data[0].data.shape[0]\n",
    "model = ShallowConvNet(nb_classes=2, Chans=n_chan, Samples=n_datalength, dropoutRate=0.5)\n",
    "model.to(device)\n",
    "print('Model created')"
   ]
  },
  {
   "cell_type": "markdown",
   "metadata": {},
   "source": [
    "### 6. Configure Training"
   ]
  },
  {
   "cell_type": "code",
   "execution_count": 193,
   "metadata": {},
   "outputs": [],
   "source": [
    "#batch_size = 8#1\n",
    "batch_size = 64 # from their doc website\n",
    "num_epochs = 70 # utilized from CNN model of Oh et al. 2018\n",
    "#num_epochs = 4 # from their website. This resulted in very littile training.\n",
    "#lrate=5e-4\n",
    "lrate=0.0625 * 0.01 # from their doc website\n",
    "weight_decay = 0 # from their website\n",
    "patience=80\n",
    "# Define loss function and optimizer\n",
    "criterion = nn.BCELoss()\n",
    "#optimizer = optim.Adam(model.parameters(), lr=lrate,weight_decay=weight_decay)\n",
    "#criterion = nn.NLLLoss() # from their website\n",
    "optimizer = optim.AdamW(model.parameters(), lr=lrate,weight_decay=weight_decay) # from their website\n",
    "cnn_modelfullpath=os.path.join(cnn_modelpath,'shallownet.pt')\n",
    "\n",
    "random_seed=42\n",
    "\n",
    "training_arg={\n",
    "    'modelfullpath': cnn_modelfullpath,\n",
    "    'criterion': criterion,\n",
    "    'optimizer': optimizer,\n",
    "    'epochs': num_epochs,\n",
    "    'patience': patience,\n",
    "    'seed': random_seed\n",
    "}"
   ]
  },
  {
   "cell_type": "markdown",
   "metadata": {},
   "source": [
    "### 7. Prepare data"
   ]
  },
  {
   "cell_type": "code",
   "execution_count": 194,
   "metadata": {},
   "outputs": [],
   "source": [
    "from torch.utils.data import DataLoader, TensorDataset\n",
    "\n",
    "train_dataset = TensorDataset(torch.stack(train_sigdata), torch.stack(train_label))\n",
    "val_dataset = TensorDataset(torch.stack(val_sigdata), torch.stack(val_label))\n",
    "test_dataset = TensorDataset(torch.stack(test_sigdata), torch.stack(test_label))\n",
    "\n",
    "train_loader = DataLoader(train_dataset, batch_size=batch_size, shuffle=True)\n",
    "val_loader = DataLoader(val_dataset, batch_size=1, shuffle=False)\n",
    "test_loader = DataLoader(test_dataset, batch_size=1, shuffle=False)"
   ]
  },
  {
   "cell_type": "markdown",
   "metadata": {},
   "source": [
    "### 8. Train model"
   ]
  },
  {
   "cell_type": "code",
   "execution_count": 195,
   "metadata": {},
   "outputs": [
    {
     "name": "stderr",
     "output_type": "stream",
     "text": [
      "Epoch 1/70: 100%|██████████| 3/3 [00:05<00:00,  1.92s/it]\n"
     ]
    },
    {
     "name": "stdout",
     "output_type": "stream",
     "text": [
      "model state saved with validation accuracy: 66.7702\n"
     ]
    },
    {
     "name": "stderr",
     "output_type": "stream",
     "text": [
      "Epoch 2/70: 100%|██████████| 3/3 [00:05<00:00,  1.80s/it]\n",
      "Epoch 3/70: 100%|██████████| 3/3 [00:05<00:00,  1.79s/it]\n",
      "Epoch 4/70: 100%|██████████| 3/3 [00:05<00:00,  1.67s/it]\n",
      "Epoch 5/70: 100%|██████████| 3/3 [00:05<00:00,  1.67s/it]\n",
      "Epoch 6/70: 100%|██████████| 3/3 [00:04<00:00,  1.62s/it]\n",
      "Epoch 7/70: 100%|██████████| 3/3 [00:04<00:00,  1.60s/it]\n",
      "Epoch 8/70: 100%|██████████| 3/3 [00:04<00:00,  1.56s/it]\n",
      "Epoch 9/70: 100%|██████████| 3/3 [00:04<00:00,  1.58s/it]\n",
      "Epoch 10/70: 100%|██████████| 3/3 [00:04<00:00,  1.58s/it]\n",
      "Epoch 11/70: 100%|██████████| 3/3 [00:04<00:00,  1.63s/it]\n",
      "Epoch 12/70: 100%|██████████| 3/3 [00:05<00:00,  1.71s/it]\n",
      "Epoch 13/70: 100%|██████████| 3/3 [00:04<00:00,  1.57s/it]\n",
      "Epoch 14/70: 100%|██████████| 3/3 [00:04<00:00,  1.59s/it]\n",
      "Epoch 15/70: 100%|██████████| 3/3 [00:04<00:00,  1.63s/it]\n",
      "Epoch 16/70: 100%|██████████| 3/3 [00:04<00:00,  1.55s/it]\n",
      "Epoch 17/70: 100%|██████████| 3/3 [00:04<00:00,  1.57s/it]\n",
      "Epoch 18/70: 100%|██████████| 3/3 [00:04<00:00,  1.58s/it]\n",
      "Epoch 19/70: 100%|██████████| 3/3 [00:05<00:00,  1.71s/it]\n",
      "Epoch 20/70: 100%|██████████| 3/3 [00:05<00:00,  1.93s/it]\n",
      "Epoch 21/70: 100%|██████████| 3/3 [00:04<00:00,  1.59s/it]\n",
      "Epoch 22/70: 100%|██████████| 3/3 [00:04<00:00,  1.60s/it]\n",
      "Epoch 23/70: 100%|██████████| 3/3 [00:05<00:00,  1.73s/it]\n",
      "Epoch 24/70: 100%|██████████| 3/3 [00:04<00:00,  1.62s/it]\n",
      "Epoch 25/70: 100%|██████████| 3/3 [00:04<00:00,  1.57s/it]\n",
      "Epoch 26/70: 100%|██████████| 3/3 [00:04<00:00,  1.58s/it]\n",
      "Epoch 27/70: 100%|██████████| 3/3 [00:04<00:00,  1.66s/it]\n",
      "Epoch 28/70: 100%|██████████| 3/3 [00:05<00:00,  1.83s/it]\n",
      "Epoch 29/70: 100%|██████████| 3/3 [00:04<00:00,  1.60s/it]\n",
      "Epoch 30/70: 100%|██████████| 3/3 [00:04<00:00,  1.66s/it]\n",
      "Epoch 31/70: 100%|██████████| 3/3 [00:04<00:00,  1.66s/it]\n",
      "Epoch 32/70: 100%|██████████| 3/3 [00:04<00:00,  1.60s/it]\n",
      "Epoch 33/70: 100%|██████████| 3/3 [00:04<00:00,  1.59s/it]\n",
      "Epoch 34/70: 100%|██████████| 3/3 [00:05<00:00,  1.92s/it]\n"
     ]
    },
    {
     "name": "stdout",
     "output_type": "stream",
     "text": [
      "model state saved with validation accuracy: 68.0124\n"
     ]
    },
    {
     "name": "stderr",
     "output_type": "stream",
     "text": [
      "Epoch 35/70: 100%|██████████| 3/3 [00:05<00:00,  1.81s/it]\n",
      "Epoch 36/70: 100%|██████████| 3/3 [00:05<00:00,  1.82s/it]\n",
      "Epoch 37/70: 100%|██████████| 3/3 [00:05<00:00,  1.82s/it]\n"
     ]
    },
    {
     "name": "stdout",
     "output_type": "stream",
     "text": [
      "model state saved with validation accuracy: 68.9441\n"
     ]
    },
    {
     "name": "stderr",
     "output_type": "stream",
     "text": [
      "Epoch 38/70: 100%|██████████| 3/3 [00:05<00:00,  1.75s/it]\n"
     ]
    },
    {
     "name": "stdout",
     "output_type": "stream",
     "text": [
      "model state saved with validation accuracy: 72.6708\n"
     ]
    },
    {
     "name": "stderr",
     "output_type": "stream",
     "text": [
      "Epoch 39/70: 100%|██████████| 3/3 [00:05<00:00,  1.70s/it]\n",
      "Epoch 40/70: 100%|██████████| 3/3 [00:05<00:00,  1.73s/it]\n",
      "Epoch 41/70: 100%|██████████| 3/3 [00:05<00:00,  1.80s/it]\n",
      "Epoch 42/70: 100%|██████████| 3/3 [00:04<00:00,  1.65s/it]\n",
      "Epoch 43/70: 100%|██████████| 3/3 [00:05<00:00,  1.73s/it]\n"
     ]
    },
    {
     "name": "stdout",
     "output_type": "stream",
     "text": [
      "model state saved with validation accuracy: 73.6025\n"
     ]
    },
    {
     "name": "stderr",
     "output_type": "stream",
     "text": [
      "Epoch 44/70: 100%|██████████| 3/3 [00:04<00:00,  1.53s/it]\n"
     ]
    },
    {
     "name": "stdout",
     "output_type": "stream",
     "text": [
      "model state saved with validation accuracy: 74.2236\n"
     ]
    },
    {
     "name": "stderr",
     "output_type": "stream",
     "text": [
      "Epoch 45/70: 100%|██████████| 3/3 [00:04<00:00,  1.51s/it]\n"
     ]
    },
    {
     "name": "stdout",
     "output_type": "stream",
     "text": [
      "model state saved with validation accuracy: 75.4658\n"
     ]
    },
    {
     "name": "stderr",
     "output_type": "stream",
     "text": [
      "Epoch 46/70: 100%|██████████| 3/3 [00:04<00:00,  1.54s/it]\n"
     ]
    },
    {
     "name": "stdout",
     "output_type": "stream",
     "text": [
      "model state saved with validation accuracy: 77.6398\n"
     ]
    },
    {
     "name": "stderr",
     "output_type": "stream",
     "text": [
      "Epoch 47/70: 100%|██████████| 3/3 [00:04<00:00,  1.64s/it]\n",
      "Epoch 48/70: 100%|██████████| 3/3 [00:05<00:00,  1.69s/it]\n",
      "Epoch 49/70: 100%|██████████| 3/3 [00:04<00:00,  1.56s/it]\n",
      "Epoch 50/70: 100%|██████████| 3/3 [00:04<00:00,  1.50s/it]\n",
      "Epoch 51/70: 100%|██████████| 3/3 [00:04<00:00,  1.53s/it]\n",
      "Epoch 52/70: 100%|██████████| 3/3 [00:04<00:00,  1.54s/it]\n",
      "Epoch 53/70: 100%|██████████| 3/3 [00:04<00:00,  1.58s/it]\n",
      "Epoch 54/70: 100%|██████████| 3/3 [00:04<00:00,  1.60s/it]\n"
     ]
    },
    {
     "name": "stdout",
     "output_type": "stream",
     "text": [
      "model state saved with validation accuracy: 78.2609\n"
     ]
    },
    {
     "name": "stderr",
     "output_type": "stream",
     "text": [
      "Epoch 55/70: 100%|██████████| 3/3 [00:05<00:00,  1.69s/it]\n",
      "Epoch 56/70: 100%|██████████| 3/3 [00:05<00:00,  1.71s/it]\n",
      "Epoch 57/70: 100%|██████████| 3/3 [00:04<00:00,  1.58s/it]\n",
      "Epoch 58/70: 100%|██████████| 3/3 [00:05<00:00,  1.75s/it]\n",
      "Epoch 59/70: 100%|██████████| 3/3 [00:05<00:00,  1.67s/it]\n",
      "Epoch 60/70: 100%|██████████| 3/3 [00:04<00:00,  1.66s/it]\n",
      "Epoch 61/70: 100%|██████████| 3/3 [00:04<00:00,  1.55s/it]\n",
      "Epoch 62/70: 100%|██████████| 3/3 [00:04<00:00,  1.50s/it]\n",
      "Epoch 63/70: 100%|██████████| 3/3 [00:04<00:00,  1.60s/it]\n",
      "Epoch 64/70: 100%|██████████| 3/3 [00:04<00:00,  1.56s/it]\n",
      "Epoch 65/70: 100%|██████████| 3/3 [00:04<00:00,  1.63s/it]\n",
      "Epoch 66/70: 100%|██████████| 3/3 [00:05<00:00,  1.95s/it]\n",
      "Epoch 67/70: 100%|██████████| 3/3 [00:04<00:00,  1.58s/it]\n",
      "Epoch 68/70: 100%|██████████| 3/3 [00:04<00:00,  1.65s/it]\n",
      "Epoch 69/70: 100%|██████████| 3/3 [00:04<00:00,  1.58s/it]\n",
      "Epoch 70/70: 100%|██████████| 3/3 [00:04<00:00,  1.56s/it]\n"
     ]
    }
   ],
   "source": [
    "results= model_trainer(model,train_loader,val_loader,training_arg)"
   ]
  },
  {
   "cell_type": "markdown",
   "metadata": {},
   "source": [
    "### 9. Inspect training process"
   ]
  },
  {
   "cell_type": "code",
   "execution_count": 196,
   "metadata": {},
   "outputs": [
    {
     "data": {
      "image/png": "[encoded data removed]",
      "text/plain": [
       "<Figure size 640x480 with 1 Axes>"
      ]
     },
     "metadata": {},
     "output_type": "display_data"
    },
    {
     "data": {
      "image/png": "[encoded data removed]",
      "text/plain": [
       "<Figure size 640x480 with 1 Axes>"
      ]
     },
     "metadata": {},
     "output_type": "display_data"
    }
   ],
   "source": [
    "plt.figure()\n",
    "plt.plot(results['epoch_loss'])\n",
    "plt.xlabel('epoch')\n",
    "plt.ylabel('Avg loss')\n",
    "plt.show()\n",
    "\n",
    "\n",
    "plt.figure()\n",
    "plt.plot(results['training_acc'],label='Training data')\n",
    "plt.plot(results['validation_acc'],label='Validation data')\n",
    "plt.legend()\n",
    "plt.xlabel('epoch')\n",
    "plt.ylabel('Accuracy')\n",
    "plt.show()"
   ]
  },
  {
   "cell_type": "markdown",
   "metadata": {},
   "source": [
    "### 10. Evaluate model"
   ]
  },
  {
   "cell_type": "code",
   "execution_count": 197,
   "metadata": {},
   "outputs": [
    {
     "name": "stdout",
     "output_type": "stream",
     "text": [
      "Fine tune model loaded\n",
      "Train Binary Accuracy: 98.5507\n",
      "Confusion Matrix:\n",
      "[[70  2]\n",
      " [ 0 66]]\n",
      "Accuracy: 98.55072463768117\n",
      "Precision: 97.05882352941177\n",
      "Sensitivity (Recall): 100.0\n",
      "Specificity: 97.22222222222221\n",
      "F1 Score: 0.9850746268656716\n",
      "AUC Score: 1.0\n",
      "\n",
      "\n",
      "Validation Binary Accuracy: 78.2609\n",
      "Confusion Matrix:\n",
      "[[146  22]\n",
      " [ 48 106]]\n",
      "Accuracy: 78.26086956521739\n",
      "Precision: 82.8125\n",
      "Sensitivity (Recall): 68.83116883116884\n",
      "Specificity: 86.90476190476191\n",
      "F1 Score: 0.7517730496453902\n",
      "AUC Score: 0.8548623995052566\n",
      "\n",
      "\n",
      "Test Binary Accuracy: 70.6522\n",
      "Confusion Matrix:\n",
      "[[40  8]\n",
      " [19 25]]\n",
      "Accuracy: 70.65217391304348\n",
      "Precision: 75.75757575757575\n",
      "Sensitivity (Recall): 56.81818181818182\n",
      "Specificity: 83.33333333333334\n",
      "F1 Score: 0.6493506493506495\n",
      "AUC Score: 0.7684659090909091\n",
      "Completed\n"
     ]
    }
   ],
   "source": [
    "best_model_state=torch.load(cnn_modelfullpath, map_location=device)\n",
    "model.load_state_dict(best_model_state,strict=True)\n",
    "model.eval()\n",
    "print('Fine tune model loaded')\n",
    "\n",
    "tr_accuracy, tr_est,tr_labels,tr_scores= evaluate_binary_accuracy(model, train_loader)\n",
    "print(f'Train Binary Accuracy: {tr_accuracy:.4f}')\n",
    "perf_metrics(tr_labels, tr_est,tr_scores)\n",
    "print('\\n')\n",
    "v_accuracy,val_est,val_labels, val_scores = evaluate_binary_accuracy(model, val_loader)\n",
    "print(f'Validation Binary Accuracy: {v_accuracy:.4f}')\n",
    "perf_metrics(val_labels, val_est,val_scores)\n",
    "print('\\n')\n",
    "test_accuracy,test_est,test_labels, test_scores = evaluate_binary_accuracy(model, test_loader)\n",
    "print(f'Test Binary Accuracy: {test_accuracy:.4f}')\n",
    "perf_metrics(test_labels, test_est,test_scores)\n",
    "\n",
    "print('Completed')"
   ]
  }
 ],
 "metadata": {
  "kernelspec": {
   "display_name": "mybertV2",
   "language": "python",
   "name": "python3"
  },
  "language_info": {
   "codemirror_mode": {
    "name": "ipython",
    "version": 3
   },
   "file_extension": ".py",
   "mimetype": "text/x-python",
   "name": "python",
   "nbconvert_exporter": "python",
   "pygments_lexer": "ipython3",
   "version": "3.9.18"
  }
 },
 "nbformat": 4,
 "nbformat_minor": 2
}
