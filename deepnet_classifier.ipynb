{
 "cells": [
  {
   "cell_type": "markdown",
   "metadata": {},
   "source": [
    "## Binary classification with CNN\n",
    "\n",
    "The paths utilized are defiend in the `path_module.py`\n",
    "\n",
    "Before this, the data must be processed and tokenized. \n",
    "1. `data_processing` notebook loads raw data and prepares training,validation and test dataset\n",
    "2. `data_tokenizer`notebook tokenizes the data using LiPCoT model\n",
    "\n",
    "### 1. Import libraries"
   ]
  },
  {
   "cell_type": "code",
   "execution_count": 84,
   "metadata": {},
   "outputs": [],
   "source": [
    "from modules.bert_module import *\n",
    "from modules.path_module import *\n",
    "from modules.utils_module import *\n",
    "import os\n",
    "import joblib\n",
    "import torch\n",
    "import numpy as np"
   ]
  },
  {
   "cell_type": "markdown",
   "metadata": {},
   "source": [
    "### 2. Load tokenized data"
   ]
  },
  {
   "cell_type": "code",
   "execution_count": 85,
   "metadata": {},
   "outputs": [],
   "source": [
    "train_data=joblib.load(os.path.join(tokenized_data_savepath,\"train_data.joblib\"))\n",
    "test_data=joblib.load(os.path.join(tokenized_data_savepath,\"test_data.joblib\"))\n",
    "val_data=joblib.load(os.path.join(tokenized_data_savepath,\"val_data.joblib\"))"
   ]
  },
  {
   "cell_type": "markdown",
   "metadata": {},
   "source": [
    "### 3. Prepare data\n",
    "- We extract only the signal data and labels from dataset for CNN\n",
    "- We train using the training set and save the model that gives the best performance on the validation set"
   ]
  },
  {
   "cell_type": "code",
   "execution_count": 86,
   "metadata": {},
   "outputs": [],
   "source": [
    "train_sigdata,train_label=prepare_cnn_data(val_data)\n",
    "val_sigdata,val_label=prepare_cnn_data(train_data)\n",
    "test_sigdata,test_label=prepare_cnn_data(test_data)"
   ]
  },
  {
   "cell_type": "markdown",
   "metadata": {},
   "source": [
    "### 4. DeepConvNet model"
   ]
  },
  {
   "cell_type": "markdown",
   "metadata": {},
   "source": [
    "- Paper: https://onlinelibrary.wiley.com/doi/full/10.1002/hbm.23730\n",
    "- Pytorch conversion from keras implementation https://github.com/vlawhern/arl-eegmodels/blob/master/EEGModels.py\n",
    "- Another useful link: https://github.com/TNTLFreiburg/braindecode/tree/master/braindecode\n",
    "- Pytorch implementation of the Deep Convolutional Network as described in Schirrmeister et. al. (2017), Human Brain Mapping.\n",
    "- In PyTorch, kernel constraints like max_norm are not directly implemented as part of the layer definitions.\n",
    "\n",
    "- Assumes the input is a 5-second EEG signal sampled at 500Hz. \n",
    "\n",
    "- Note that we use the max_norm constraint on all convolutional layers, as well as the classification layer.\n",
    "- In PyTorch, kernel constraints like max_norm are not directly implemented as part of the layer definitions. Instead, they can be implemented using hooks or by manually enforcing the constraint during the forward pass or after updating the weights. \n",
    "- Model was developed with hyperparameters from original paper "
   ]
  },
  {
   "cell_type": "code",
   "execution_count": 87,
   "metadata": {},
   "outputs": [],
   "source": [
    "import torch\n",
    "import torch.nn as nn\n",
    "import torch.nn.functional as F\n",
    "\n",
    "def max_norm(layer, max_value, axis=0):\n",
    "    with torch.no_grad():\n",
    "        norm = layer.weight.norm(2, dim=axis, keepdim=True)\n",
    "        desired = torch.clamp(norm, 0, max_value)\n",
    "        scale = desired / (1e-8 + norm)\n",
    "        layer.weight.data *= scale\n",
    "\n",
    "class DeepConvNet(nn.Module):\n",
    "    def __init__(self, nb_classes, Chans=64, Samples=256, dropoutRate=0.5):\n",
    "        super(DeepConvNet, self).__init__()\n",
    "\n",
    "        # Block 1\n",
    "        self.conv1_1 = nn.Conv2d(in_channels=1, out_channels=25, kernel_size=(1, 10), padding=0)\n",
    "        self.conv1_2 = nn.Conv2d(in_channels=25, out_channels=25, kernel_size=(Chans, 1), padding=0)\n",
    "        self.batchnorm1 = nn.BatchNorm2d(num_features=25, eps=1e-05, momentum=0.9)\n",
    "        self.pool1 = nn.MaxPool2d(kernel_size=(1, 3), stride=(1, 3))\n",
    "        self.dropout1 = nn.Dropout(p=dropoutRate)\n",
    "\n",
    "        # Block 2\n",
    "        self.conv2 = nn.Conv2d(in_channels=25, out_channels=50, kernel_size=(1, 10), padding=0)\n",
    "        self.batchnorm2 = nn.BatchNorm2d(num_features=50, eps=1e-05, momentum=0.9)\n",
    "        self.pool2 = nn.MaxPool2d(kernel_size=(1, 3), stride=(1, 3))\n",
    "        self.dropout2 = nn.Dropout(p=dropoutRate)\n",
    "\n",
    "        # Block 3\n",
    "        self.conv3 = nn.Conv2d(in_channels=50, out_channels=100, kernel_size=(1, 10), padding=0)\n",
    "        self.batchnorm3 = nn.BatchNorm2d(num_features=100, eps=1e-05, momentum=0.9)\n",
    "        self.pool3 = nn.MaxPool2d(kernel_size=(1, 3), stride=(1, 3))\n",
    "        self.dropout3 = nn.Dropout(p=dropoutRate)\n",
    "\n",
    "        # Block 4\n",
    "        self.conv4 = nn.Conv2d(in_channels=100, out_channels=200, kernel_size=(1, 10), padding=0)\n",
    "        self.batchnorm4 = nn.BatchNorm2d(num_features=200, eps=1e-05, momentum=0.9)\n",
    "        self.pool4 = nn.MaxPool2d(kernel_size=(1, 3), stride=(1, 3))\n",
    "        self.dropout4 = nn.Dropout(p=dropoutRate)\n",
    "\n",
    "        # Fully connected layer\n",
    "        self.fc = nn.Linear(in_features=200 * 26, out_features=nb_classes)\n",
    "\n",
    "    def forward(self, x):\n",
    "        x = x.unsqueeze(1)  # Add a channel dimension: (batch_size, 1, Chans, Samples)\n",
    "\n",
    "        # Block 1\n",
    "        x = self.conv1_1(x) # batch x 25 x chan x  sample -9=2491\n",
    "        max_norm(self.conv1_1, 2.0, axis=(0, 1, 2))\n",
    "        x = self.conv1_2(x) # batch x 25 x 1 x  sample -10\n",
    "        max_norm(self.conv1_2, 2.0, axis=(0, 1, 2))\n",
    "        x = self.batchnorm1(x)\n",
    "        x = F.elu(x)\n",
    "        x = self.pool1(x) # batch x 25 x 1 x  (2491-3)//3+1= 830\n",
    "        x = self.dropout1(x)\n",
    "\n",
    "        # Block 2\n",
    "        x = self.conv2(x) # batch x 50 x 1 x  830-9=821\n",
    "        max_norm(self.conv2, 2.0, axis=(0, 1, 2))\n",
    "        x = self.batchnorm2(x)\n",
    "        x = F.elu(x)\n",
    "        x = self.pool2(x) # batch x 50 x 1 x  (821-3)//3+1=273\n",
    "        x = self.dropout2(x)\n",
    "\n",
    "        # Block 3\n",
    "        x = self.conv3(x) # batch x 100 x 1 x  273-9=264\n",
    "        max_norm(self.conv3, 2.0, axis=(0, 1, 2))\n",
    "        x = self.batchnorm3(x)\n",
    "        x = F.elu(x)\n",
    "        x = self.pool3(x) #batch x 100 x 1 x (264-3)//3+1=88\n",
    "        x = self.dropout3(x)\n",
    "\n",
    "        # Block 4\n",
    "        x = self.conv4(x) # batch x 200 x 1 x  88-9=79\n",
    "        max_norm(self.conv4, 2.0, axis=(0, 1, 2))\n",
    "        x = self.batchnorm4(x)\n",
    "        x = F.elu(x)\n",
    "        x = self.pool4(x) # batch x 200 x 1 x  (79-3)//3+1=26\n",
    "        x = self.dropout4(x)\n",
    "\n",
    "        # Flatten and fully connected layer\n",
    "        x = x.view(x.size(0), -1)\n",
    "        x = self.fc(x)\n",
    "        max_norm(self.fc, 0.5, axis=0)\n",
    "\n",
    "        return x\n"
   ]
  },
  {
   "cell_type": "markdown",
   "metadata": {},
   "source": [
    "### 5. Initialize model"
   ]
  },
  {
   "cell_type": "code",
   "execution_count": 88,
   "metadata": {},
   "outputs": [
    {
     "name": "stdout",
     "output_type": "stream",
     "text": [
      "Running on: cpu\n",
      "Model created\n"
     ]
    }
   ],
   "source": [
    "import torch.optim as optim\n",
    "from torch import cuda\n",
    "\n",
    "# Set the random seed for reproducibility\n",
    "random_seed = 42\n",
    "random.seed(random_seed)\n",
    "torch.manual_seed(random_seed)\n",
    "torch.cuda.manual_seed(random_seed)\n",
    "np.random.seed(random_seed)\n",
    "\n",
    "# use GPU\n",
    "device='cpu'#'cuda' if cuda.is_available() else 'cpu'\n",
    "print(\"Running on: \"+device)\n",
    "cuda.empty_cache()\n",
    "\n",
    "# initialize model\n",
    "n_chan=train_data[0].data.shape[1]\n",
    "n_datalength=train_data[0].data.shape[0]\n",
    "model = DeepConvNet(nb_classes=2, Chans=n_chan, Samples=n_datalength, dropoutRate=0.5)\n",
    "model.to(device)\n",
    "print('Model created')"
   ]
  },
  {
   "cell_type": "markdown",
   "metadata": {},
   "source": [
    "### 6. Configure Training"
   ]
  },
  {
   "cell_type": "code",
   "execution_count": 89,
   "metadata": {},
   "outputs": [],
   "source": [
    "#batch_size = 8#1\n",
    "batch_size = 64 # from their doc website\n",
    "num_epochs = 70\n",
    "#num_epochs = 4 # from their website\n",
    "lrate=0.0625 * 0.01 # from shallownet\n",
    "#lrate= 1 * 0.01 # from their doc website. This failed to train the network\n",
    "weight_decay = 0.5 * 0.001  # from their website\n",
    "patience=80\n",
    "# Define loss function and optimizer\n",
    "criterion = nn.BCELoss()\n",
    "#optimizer = optim.Adam(model.parameters(), lr=lrate,weight_decay=weight_decay)\n",
    "#criterion = nn.NLLloss() # from their website\n",
    "optimizer = optim.AdamW(model.parameters(), lr=lrate,weight_decay=weight_decay) # from their website\n",
    "cnn_modelfullpath=os.path.join(cnn_modelpath,'deepnet.pt')\n",
    "random_seed=42\n",
    "\n",
    "training_arg={\n",
    "    'modelfullpath': cnn_modelfullpath,\n",
    "    'criterion': criterion,\n",
    "    'optimizer': optimizer,\n",
    "    'epochs': num_epochs,\n",
    "    'patience': patience,\n",
    "    'seed': random_seed\n",
    "}\n"
   ]
  },
  {
   "cell_type": "markdown",
   "metadata": {},
   "source": [
    "### 7. Prepare data"
   ]
  },
  {
   "cell_type": "code",
   "execution_count": 90,
   "metadata": {},
   "outputs": [],
   "source": [
    "from torch.utils.data import DataLoader, TensorDataset\n",
    "\n",
    "train_dataset = TensorDataset(torch.stack(train_sigdata), torch.stack(train_label))\n",
    "val_dataset = TensorDataset(torch.stack(val_sigdata), torch.stack(val_label))\n",
    "test_dataset = TensorDataset(torch.stack(test_sigdata), torch.stack(test_label))\n",
    "\n",
    "train_loader = DataLoader(train_dataset, batch_size=batch_size, shuffle=True)\n",
    "val_loader = DataLoader(val_dataset, batch_size=1, shuffle=False)\n",
    "test_loader = DataLoader(test_dataset, batch_size=1, shuffle=False)"
   ]
  },
  {
   "cell_type": "markdown",
   "metadata": {},
   "source": [
    "### 8. Train model"
   ]
  },
  {
   "cell_type": "code",
   "execution_count": 91,
   "metadata": {},
   "outputs": [
    {
     "name": "stderr",
     "output_type": "stream",
     "text": [
      "Epoch 1/70: 100%|██████████| 3/3 [00:05<00:00,  1.86s/it]\n"
     ]
    },
    {
     "name": "stdout",
     "output_type": "stream",
     "text": [
      "model state saved with validation accuracy: 53.7267\n"
     ]
    },
    {
     "name": "stderr",
     "output_type": "stream",
     "text": [
      "Epoch 2/70: 100%|██████████| 3/3 [00:05<00:00,  1.80s/it]\n",
      "Epoch 3/70: 100%|██████████| 3/3 [00:06<00:00,  2.06s/it]\n",
      "Epoch 4/70: 100%|██████████| 3/3 [00:06<00:00,  2.26s/it]\n",
      "Epoch 5/70: 100%|██████████| 3/3 [00:06<00:00,  2.27s/it]\n",
      "Epoch 6/70: 100%|██████████| 3/3 [00:06<00:00,  2.30s/it]\n",
      "Epoch 7/70: 100%|██████████| 3/3 [00:06<00:00,  2.05s/it]\n",
      "Epoch 8/70: 100%|██████████| 3/3 [00:06<00:00,  2.17s/it]\n",
      "Epoch 9/70: 100%|██████████| 3/3 [00:06<00:00,  2.04s/it]\n",
      "Epoch 10/70: 100%|██████████| 3/3 [00:06<00:00,  2.06s/it]\n",
      "Epoch 11/70: 100%|██████████| 3/3 [00:06<00:00,  2.11s/it]\n",
      "Epoch 12/70: 100%|██████████| 3/3 [00:06<00:00,  2.02s/it]\n",
      "Epoch 13/70: 100%|██████████| 3/3 [00:06<00:00,  2.19s/it]\n",
      "Epoch 14/70: 100%|██████████| 3/3 [00:06<00:00,  2.11s/it]\n",
      "Epoch 15/70: 100%|██████████| 3/3 [00:06<00:00,  2.09s/it]\n",
      "Epoch 16/70: 100%|██████████| 3/3 [00:06<00:00,  2.04s/it]\n",
      "Epoch 17/70: 100%|██████████| 3/3 [00:05<00:00,  1.88s/it]\n",
      "Epoch 18/70: 100%|██████████| 3/3 [00:05<00:00,  1.92s/it]\n",
      "Epoch 19/70: 100%|██████████| 3/3 [00:06<00:00,  2.06s/it]\n",
      "Epoch 20/70: 100%|██████████| 3/3 [00:05<00:00,  1.88s/it]\n",
      "Epoch 21/70: 100%|██████████| 3/3 [00:05<00:00,  1.83s/it]\n"
     ]
    },
    {
     "name": "stdout",
     "output_type": "stream",
     "text": [
      "model state saved with validation accuracy: 54.9689\n"
     ]
    },
    {
     "name": "stderr",
     "output_type": "stream",
     "text": [
      "Epoch 22/70: 100%|██████████| 3/3 [00:05<00:00,  1.79s/it]\n"
     ]
    },
    {
     "name": "stdout",
     "output_type": "stream",
     "text": [
      "model state saved with validation accuracy: 55.5901\n"
     ]
    },
    {
     "name": "stderr",
     "output_type": "stream",
     "text": [
      "Epoch 23/70: 100%|██████████| 3/3 [00:05<00:00,  1.74s/it]\n",
      "Epoch 24/70: 100%|██████████| 3/3 [00:06<00:00,  2.02s/it]\n",
      "Epoch 25/70: 100%|██████████| 3/3 [00:05<00:00,  1.81s/it]\n",
      "Epoch 26/70: 100%|██████████| 3/3 [00:05<00:00,  1.86s/it]\n"
     ]
    },
    {
     "name": "stdout",
     "output_type": "stream",
     "text": [
      "model state saved with validation accuracy: 55.9006\n"
     ]
    },
    {
     "name": "stderr",
     "output_type": "stream",
     "text": [
      "Epoch 27/70: 100%|██████████| 3/3 [00:05<00:00,  1.90s/it]\n",
      "Epoch 28/70: 100%|██████████| 3/3 [00:05<00:00,  1.98s/it]\n",
      "Epoch 29/70: 100%|██████████| 3/3 [00:05<00:00,  1.76s/it]\n",
      "Epoch 30/70: 100%|██████████| 3/3 [00:06<00:00,  2.04s/it]\n",
      "Epoch 31/70: 100%|██████████| 3/3 [00:05<00:00,  1.68s/it]\n",
      "Epoch 32/70: 100%|██████████| 3/3 [00:05<00:00,  1.73s/it]\n",
      "Epoch 33/70: 100%|██████████| 3/3 [00:05<00:00,  1.81s/it]\n",
      "Epoch 34/70: 100%|██████████| 3/3 [00:05<00:00,  1.70s/it]\n"
     ]
    },
    {
     "name": "stdout",
     "output_type": "stream",
     "text": [
      "model state saved with validation accuracy: 58.3851\n"
     ]
    },
    {
     "name": "stderr",
     "output_type": "stream",
     "text": [
      "Epoch 35/70: 100%|██████████| 3/3 [00:05<00:00,  1.83s/it]\n"
     ]
    },
    {
     "name": "stdout",
     "output_type": "stream",
     "text": [
      "model state saved with validation accuracy: 59.9379\n"
     ]
    },
    {
     "name": "stderr",
     "output_type": "stream",
     "text": [
      "Epoch 36/70: 100%|██████████| 3/3 [00:05<00:00,  1.80s/it]\n",
      "Epoch 37/70: 100%|██████████| 3/3 [00:05<00:00,  1.80s/it]\n",
      "Epoch 38/70: 100%|██████████| 3/3 [00:05<00:00,  1.85s/it]\n"
     ]
    },
    {
     "name": "stdout",
     "output_type": "stream",
     "text": [
      "model state saved with validation accuracy: 61.1801\n"
     ]
    },
    {
     "name": "stderr",
     "output_type": "stream",
     "text": [
      "Epoch 39/70: 100%|██████████| 3/3 [00:05<00:00,  1.80s/it]\n",
      "Epoch 40/70: 100%|██████████| 3/3 [00:05<00:00,  1.80s/it]\n"
     ]
    },
    {
     "name": "stdout",
     "output_type": "stream",
     "text": [
      "model state saved with validation accuracy: 61.8012\n"
     ]
    },
    {
     "name": "stderr",
     "output_type": "stream",
     "text": [
      "Epoch 41/70: 100%|██████████| 3/3 [00:05<00:00,  1.87s/it]\n",
      "Epoch 42/70: 100%|██████████| 3/3 [00:05<00:00,  1.74s/it]\n"
     ]
    },
    {
     "name": "stdout",
     "output_type": "stream",
     "text": [
      "model state saved with validation accuracy: 64.9068\n"
     ]
    },
    {
     "name": "stderr",
     "output_type": "stream",
     "text": [
      "Epoch 43/70: 100%|██████████| 3/3 [00:04<00:00,  1.65s/it]\n",
      "Epoch 44/70: 100%|██████████| 3/3 [00:05<00:00,  1.72s/it]\n",
      "Epoch 45/70: 100%|██████████| 3/3 [00:05<00:00,  1.86s/it]\n",
      "Epoch 46/70: 100%|██████████| 3/3 [00:05<00:00,  1.81s/it]\n",
      "Epoch 47/70: 100%|██████████| 3/3 [00:05<00:00,  1.86s/it]\n"
     ]
    },
    {
     "name": "stdout",
     "output_type": "stream",
     "text": [
      "model state saved with validation accuracy: 68.6335\n"
     ]
    },
    {
     "name": "stderr",
     "output_type": "stream",
     "text": [
      "Epoch 48/70: 100%|██████████| 3/3 [00:05<00:00,  1.87s/it]\n",
      "Epoch 49/70: 100%|██████████| 3/3 [00:05<00:00,  1.82s/it]\n",
      "Epoch 50/70: 100%|██████████| 3/3 [00:05<00:00,  1.81s/it]\n",
      "Epoch 51/70: 100%|██████████| 3/3 [00:05<00:00,  1.73s/it]\n",
      "Epoch 52/70: 100%|██████████| 3/3 [00:05<00:00,  1.85s/it]\n",
      "Epoch 53/70: 100%|██████████| 3/3 [00:05<00:00,  1.88s/it]\n",
      "Epoch 54/70: 100%|██████████| 3/3 [00:05<00:00,  1.92s/it]\n",
      "Epoch 55/70: 100%|██████████| 3/3 [00:05<00:00,  1.81s/it]\n",
      "Epoch 56/70: 100%|██████████| 3/3 [00:05<00:00,  1.70s/it]\n",
      "Epoch 57/70: 100%|██████████| 3/3 [00:05<00:00,  1.84s/it]\n",
      "Epoch 58/70: 100%|██████████| 3/3 [00:04<00:00,  1.67s/it]\n",
      "Epoch 59/70: 100%|██████████| 3/3 [00:05<00:00,  1.71s/it]\n",
      "Epoch 60/70: 100%|██████████| 3/3 [00:05<00:00,  1.80s/it]\n"
     ]
    },
    {
     "name": "stdout",
     "output_type": "stream",
     "text": [
      "model state saved with validation accuracy: 73.2919\n"
     ]
    },
    {
     "name": "stderr",
     "output_type": "stream",
     "text": [
      "Epoch 61/70: 100%|██████████| 3/3 [00:05<00:00,  1.89s/it]\n",
      "Epoch 62/70: 100%|██████████| 3/3 [00:05<00:00,  1.88s/it]\n",
      "Epoch 63/70: 100%|██████████| 3/3 [00:05<00:00,  1.77s/it]\n",
      "Epoch 64/70: 100%|██████████| 3/3 [00:05<00:00,  1.87s/it]\n",
      "Epoch 65/70: 100%|██████████| 3/3 [00:05<00:00,  1.84s/it]\n",
      "Epoch 66/70: 100%|██████████| 3/3 [00:05<00:00,  1.68s/it]\n",
      "Epoch 67/70: 100%|██████████| 3/3 [00:05<00:00,  1.73s/it]\n",
      "Epoch 68/70: 100%|██████████| 3/3 [00:05<00:00,  1.81s/it]\n",
      "Epoch 69/70: 100%|██████████| 3/3 [00:05<00:00,  1.74s/it]\n",
      "Epoch 70/70: 100%|██████████| 3/3 [00:05<00:00,  1.71s/it]\n"
     ]
    }
   ],
   "source": [
    "results= model_trainer(model,train_loader,val_loader,training_arg)"
   ]
  },
  {
   "cell_type": "markdown",
   "metadata": {},
   "source": [
    "### 9. Inspect training process"
   ]
  },
  {
   "cell_type": "code",
   "execution_count": 92,
   "metadata": {},
   "outputs": [
    {
     "data": {
      "image/png": "[encoded data removed]",
      "text/plain": [
       "<Figure size 640x480 with 1 Axes>"
      ]
     },
     "metadata": {},
     "output_type": "display_data"
    },
    {
     "data": {
      "image/png": "[encoded data removed]",
      "text/plain": [
       "<Figure size 640x480 with 1 Axes>"
      ]
     },
     "metadata": {},
     "output_type": "display_data"
    }
   ],
   "source": [
    "plt.figure()\n",
    "plt.plot(results['epoch_loss'])\n",
    "plt.xlabel('epoch')\n",
    "plt.ylabel('Avg loss')\n",
    "plt.show()\n",
    "\n",
    "\n",
    "plt.figure()\n",
    "plt.plot(results['training_acc'],label='Training data')\n",
    "plt.plot(results['validation_acc'],label='Validation data')\n",
    "plt.legend()\n",
    "plt.xlabel('epoch')\n",
    "plt.ylabel('Accuracy')\n",
    "plt.show()"
   ]
  },
  {
   "cell_type": "markdown",
   "metadata": {},
   "source": [
    "### 10. Evaluate model"
   ]
  },
  {
   "cell_type": "code",
   "execution_count": 93,
   "metadata": {},
   "outputs": [
    {
     "name": "stdout",
     "output_type": "stream",
     "text": [
      "Fine tune model loaded\n",
      "Train Binary Accuracy: 94.9275\n",
      "Confusion Matrix:\n",
      "[[68  4]\n",
      " [ 3 63]]\n",
      "Accuracy: 94.92753623188406\n",
      "Precision: 94.02985074626866\n",
      "Sensitivity (Recall): 95.45454545454545\n",
      "Specificity: 94.44444444444444\n",
      "F1 Score: 0.9473684210526316\n",
      "AUC Score: 0.9945286195286196\n",
      "\n",
      "\n",
      "Validation Binary Accuracy: 73.2919\n",
      "Confusion Matrix:\n",
      "[[111  57]\n",
      " [ 29 125]]\n",
      "Accuracy: 73.29192546583852\n",
      "Precision: 68.68131868131869\n",
      "Sensitivity (Recall): 81.16883116883116\n",
      "Specificity: 66.07142857142857\n",
      "F1 Score: 0.7440476190476191\n",
      "AUC Score: 0.7985466914038342\n",
      "\n",
      "\n",
      "Test Binary Accuracy: 70.6522\n",
      "Confusion Matrix:\n",
      "[[34 14]\n",
      " [13 31]]\n",
      "Accuracy: 70.65217391304348\n",
      "Precision: 68.88888888888889\n",
      "Sensitivity (Recall): 70.45454545454545\n",
      "Specificity: 70.83333333333334\n",
      "F1 Score: 0.6966292134831461\n",
      "AUC Score: 0.7883522727272726\n",
      "Completed\n"
     ]
    }
   ],
   "source": [
    "best_model_state=torch.load(cnn_modelfullpath, map_location=device)\n",
    "model.load_state_dict(best_model_state,strict=True)\n",
    "model.eval()\n",
    "print('Fine tune model loaded')\n",
    "\n",
    "tr_accuracy, tr_est,tr_labels,tr_scores= evaluate_binary_accuracy(model, train_loader)\n",
    "print(f'Train Binary Accuracy: {tr_accuracy:.4f}')\n",
    "perf_metrics(tr_labels, tr_est,tr_scores)\n",
    "print('\\n')\n",
    "v_accuracy,val_est,val_labels, val_scores = evaluate_binary_accuracy(model, val_loader)\n",
    "print(f'Validation Binary Accuracy: {v_accuracy:.4f}')\n",
    "perf_metrics(val_labels, val_est,val_scores)\n",
    "print('\\n')\n",
    "test_accuracy,test_est,test_labels, test_scores = evaluate_binary_accuracy(model, test_loader)\n",
    "print(f'Test Binary Accuracy: {test_accuracy:.4f}')\n",
    "perf_metrics(test_labels, test_est,test_scores)\n",
    "\n",
    "print('Completed')"
   ]
  }
 ],
 "metadata": {
  "kernelspec": {
   "display_name": "mybertV2",
   "language": "python",
   "name": "python3"
  },
  "language_info": {
   "codemirror_mode": {
    "name": "ipython",
    "version": 3
   },
   "file_extension": ".py",
   "mimetype": "text/x-python",
   "name": "python",
   "nbconvert_exporter": "python",
   "pygments_lexer": "ipython3",
   "version": "3.9.18"
  }
 },
 "nbformat": 4,
 "nbformat_minor": 2
}
